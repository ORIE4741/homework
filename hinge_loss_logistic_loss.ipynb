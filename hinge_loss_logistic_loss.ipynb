{
 "cells": [
  {
   "cell_type": "markdown",
   "metadata": {},
   "source": [
    "### Problem 4 (Hinge Loss vs Logistic Loss)"
   ]
  },
  {
   "cell_type": "code",
   "execution_count": 1,
   "metadata": {},
   "outputs": [],
   "source": [
    "import numpy as np\n",
    "import pandas as pd"
   ]
  },
  {
   "cell_type": "markdown",
   "metadata": {},
   "source": [
    "First, we are going to clean up the csv file by pushing the 1st data point (which is incorrectly encoded as columns) into the dataframe and then renaming columns, with the target feature called 'Feature 0'."
   ]
  },
  {
   "cell_type": "code",
   "execution_count": 2,
   "metadata": {},
   "outputs": [],
   "source": [
    "df = pd.read_csv('breast-cancer.csv')\n",
    "df.loc[-1] = [float(i) for i in df.columns] \n",
    "df.index = df.index + 1\n",
    "df = df.sort_index()\n",
    "df.columns = ['Feature ' + str(i) for i in range(10)]"
   ]
  },
  {
   "cell_type": "markdown",
   "metadata": {},
   "source": [
    "Use this helper function to print out the coefficients of the intercept and weight vector."
   ]
  },
  {
   "cell_type": "code",
   "execution_count": 3,
   "metadata": {},
   "outputs": [],
   "source": [
    "def print_coefs(results):\n",
    "    print('Intercept coefficient:\\t', results.intercept_)\n",
    "    for i in range(len(df.columns[:-1])):\n",
    "        print('Coefficient of', df.columns[i], ':\\t', results.coef_[0][i])"
   ]
  },
  {
   "cell_type": "markdown",
   "metadata": {},
   "source": [
    "### (a)\n",
    "\n",
    "Shuffle all of the data points using df.sample() with a random state of 42, then split the data set into a 50/25/25 training/validation/test split. So, the first half of the shuffled data set will be the training set, the 3rd quarter will be the validation set, and the 4th quarter will be the test set."
   ]
  },
  {
   "cell_type": "code",
   "execution_count": null,
   "metadata": {},
   "outputs": [],
   "source": []
  },
  {
   "cell_type": "markdown",
   "metadata": {},
   "source": [
    "### (b)\n",
    "\n",
    "Using validation to determine an appropriate regularization parameter $\\lambda$, fit a linear support vector classifier (SVC) and logistic regressor (LR) for 50 iterations to minimize the regularized empirical risk $$\\min \\frac{1}{n} \\sum_{i=1}^{n} \\ell(x_i,y;w) + \\lambda \\cdot ||w||_2^2$$\n",
    "\n",
    "for a hinge loss and logistic loss, respectively. \n",
    "\n",
    "In particular, for each $\\lambda \\in \\Lambda =  \\{1,2,3,...,10\\}$, fit a SVC and LR with appropriate inputs to (possibly a subset of) arguments  { _penalty_ , _loss_ , _C_ , _max_iter_, _random_state_}, and then compute the misclassification error rate on the validation set. Use a _max_iter_ of 50 and _random_state_ of 42 for all trained models. \n",
    "\n",
    "(Hint: Looking at the documentation for these models in sklearn may help.)\n",
    "\n",
    "__Print out the best regularization parameter $\\lambda^* \\in \\Lambda$ and the intercept & weight coefficients for SVC and LR models corresponding to $\\lambda^*$__ \n",
    "\n",
    "We will call these weight vectors $w^*_\\text{hinge}$ and $w^*_\\text{logistic}$, respectively."
   ]
  },
  {
   "cell_type": "code",
   "execution_count": 4,
   "metadata": {
    "scrolled": true
   },
   "outputs": [],
   "source": [
    "from sklearn import svm"
   ]
  },
  {
   "cell_type": "code",
   "execution_count": 5,
   "metadata": {},
   "outputs": [
    {
     "name": "stdout",
     "output_type": "stream",
     "text": [
      "Best regularization parameter via validation:\t FILL IN HERE\n"
     ]
    }
   ],
   "source": [
    "print('Best regularization parameter via validation:\\t', 'FILL IN HERE')"
   ]
  },
  {
   "cell_type": "code",
   "execution_count": 6,
   "metadata": {
    "scrolled": true
   },
   "outputs": [],
   "source": [
    "from sklearn import linear_model"
   ]
  },
  {
   "cell_type": "code",
   "execution_count": 7,
   "metadata": {},
   "outputs": [
    {
     "name": "stdout",
     "output_type": "stream",
     "text": [
      "Best regularization parameter via validation:\t FILL IN HERE\n"
     ]
    }
   ],
   "source": [
    "print('Best regularization parameter via validation:\\t', 'FILL IN HERE')"
   ]
  },
  {
   "cell_type": "code",
   "execution_count": 8,
   "metadata": {},
   "outputs": [
    {
     "name": "stdout",
     "output_type": "stream",
     "text": [
      "Intercept and Weights learned for Linear SVM model:\n",
      "\n"
     ]
    }
   ],
   "source": [
    "print('Intercept and Weights learned for Linear SVM model:\\n')"
   ]
  },
  {
   "cell_type": "code",
   "execution_count": 9,
   "metadata": {},
   "outputs": [
    {
     "name": "stdout",
     "output_type": "stream",
     "text": [
      "Intercept and Weights learned for Logistic Regression model:\n",
      "\n"
     ]
    }
   ],
   "source": [
    "print('Intercept and Weights learned for Logistic Regression model:\\n') "
   ]
  },
  {
   "cell_type": "markdown",
   "metadata": {},
   "source": [
    "### c) \n",
    "\n",
    "Report the misclassification rates of $w^*_\\text{hinge}$ and $w^*_\\text{logistic}$ on\n",
    "the test set. Which model performs better?"
   ]
  },
  {
   "cell_type": "code",
   "execution_count": null,
   "metadata": {},
   "outputs": [],
   "source": []
  },
  {
   "cell_type": "markdown",
   "metadata": {},
   "source": [
    "### (d) See pdf.\n",
    "\n",
    "### (e)\n",
    "\n",
    "Compute the log-likelihood of these two models using the test data set. Creating some helper functions that compute hinge loss and logistic loss for a given data point and weight vector $(x,y,w)$ may help.\n",
    "\n",
    "Relate your findings to your misclassification error results in part (b)."
   ]
  },
  {
   "cell_type": "code",
   "execution_count": null,
   "metadata": {},
   "outputs": [],
   "source": []
  },
  {
   "cell_type": "markdown",
   "metadata": {},
   "source": [
    "__Response:__"
   ]
  }
 ],
 "metadata": {
  "kernelspec": {
   "display_name": "Python 3 (ipykernel)",
   "language": "python",
   "name": "python3"
  },
  "language_info": {
   "codemirror_mode": {
    "name": "ipython",
    "version": 3
   },
   "file_extension": ".py",
   "mimetype": "text/x-python",
   "name": "python",
   "nbconvert_exporter": "python",
   "pygments_lexer": "ipython3",
   "version": "3.8.12"
  }
 },
 "nbformat": 4,
 "nbformat_minor": 2
}
