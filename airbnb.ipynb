{
 "cells": [
  {
   "cell_type": "markdown",
   "metadata": {},
   "source": [
    "# AirBnB Data\n",
    "\n",
    "In this problem, we will predict the price of an AirBnB listing as a function of its attributes. \n",
    "\n",
    "Download the dataset from this source: https://www.kaggle.com/c/airbnblala/data#\n",
    "\n",
    "We now import all of the modules we need."
   ]
  },
  {
   "cell_type": "code",
   "execution_count": 162,
   "metadata": {
    "scrolled": true
   },
   "outputs": [
    {
     "name": "stdout",
     "output_type": "stream",
     "text": [
      "\u001b[33mWARNING: The directory '/Users/zhaiguankai/Library/Caches/pip' or its parent directory is not owned or is not writable by the current user. The cache has been disabled. Check the permissions and owner of that directory. If executing pip with sudo, you may want sudo's -H flag.\u001b[0m\n",
      "Requirement already satisfied: statsmodels in /Users/zhaiguankai/anaconda3/envs/ORIE4741/lib/python3.8/site-packages (0.13.0)\n",
      "Requirement already satisfied: pandas>=0.25 in /Users/zhaiguankai/anaconda3/envs/ORIE4741/lib/python3.8/site-packages (from statsmodels) (1.3.2)\n",
      "Requirement already satisfied: scipy>=1.3 in /Users/zhaiguankai/anaconda3/envs/ORIE4741/lib/python3.8/site-packages (from statsmodels) (1.7.1)\n",
      "Requirement already satisfied: patsy>=0.5.2 in /Users/zhaiguankai/anaconda3/envs/ORIE4741/lib/python3.8/site-packages (from statsmodels) (0.5.2)\n",
      "Requirement already satisfied: numpy>=1.17 in /Users/zhaiguankai/.local/lib/python3.8/site-packages/numpy-1.21.2-py3.8-macosx-10.9-x86_64.egg (from statsmodels) (1.21.2)\n",
      "Requirement already satisfied: python-dateutil>=2.7.3 in /Users/zhaiguankai/.local/lib/python3.8/site-packages/python_dateutil-2.8.2-py3.8.egg (from pandas>=0.25->statsmodels) (2.8.2)\n",
      "Requirement already satisfied: pytz>=2017.3 in /Users/zhaiguankai/anaconda3/envs/ORIE4741/lib/python3.8/site-packages (from pandas>=0.25->statsmodels) (2021.1)\n",
      "Requirement already satisfied: six in /Users/zhaiguankai/.local/lib/python3.8/site-packages/six-1.16.0-py3.8.egg (from patsy>=0.5.2->statsmodels) (1.16.0)\n"
     ]
    }
   ],
   "source": [
    "# reminder: you can install packages (eg, statsmodels) with \n",
    "!pip install statsmodels"
   ]
  },
  {
   "cell_type": "code",
   "execution_count": 163,
   "metadata": {},
   "outputs": [],
   "source": [
    "import numpy as np\n",
    "import pandas as pd\n",
    "import copy\n",
    "import time\n",
    "\n",
    "import statsmodels.api as sm\n",
    "\n",
    "import matplotlib.pyplot as plt \n",
    "%matplotlib inline\n",
    "\n",
    "import random as rand"
   ]
  },
  {
   "cell_type": "markdown",
   "metadata": {},
   "source": [
    "Then we load the data. We will also print a list of each columns together with its datatype, using the \"type\" function."
   ]
  },
  {
   "cell_type": "code",
   "execution_count": 164,
   "metadata": {},
   "outputs": [
    {
     "name": "stdout",
     "output_type": "stream",
     "text": [
      "0 \t id \t\t\t <class 'numpy.int64'>\n",
      "1 \t listing_url \t\t\t <class 'str'>\n",
      "2 \t scrape_id \t\t\t <class 'numpy.int64'>\n",
      "3 \t last_scraped \t\t\t <class 'str'>\n",
      "4 \t name \t\t\t <class 'str'>\n",
      "5 \t summary \t\t\t <class 'str'>\n",
      "6 \t space \t\t\t <class 'float'>\n",
      "7 \t description \t\t\t <class 'str'>\n",
      "8 \t experiences_offered \t\t\t <class 'str'>\n",
      "9 \t neighborhood_overview \t\t\t <class 'str'>\n",
      "10 \t notes \t\t\t <class 'float'>\n",
      "11 \t transit \t\t\t <class 'str'>\n",
      "12 \t access \t\t\t <class 'str'>\n",
      "13 \t interaction \t\t\t <class 'str'>\n",
      "14 \t house_rules \t\t\t <class 'float'>\n",
      "15 \t thumbnail_url \t\t\t <class 'numpy.float64'>\n",
      "16 \t medium_url \t\t\t <class 'numpy.float64'>\n",
      "17 \t picture_url \t\t\t <class 'str'>\n",
      "18 \t xl_picture_url \t\t\t <class 'numpy.float64'>\n",
      "19 \t host_id \t\t\t <class 'numpy.int64'>\n",
      "20 \t host_url \t\t\t <class 'str'>\n",
      "21 \t host_name \t\t\t <class 'str'>\n",
      "22 \t host_since \t\t\t <class 'str'>\n",
      "23 \t host_location \t\t\t <class 'str'>\n",
      "24 \t host_about \t\t\t <class 'str'>\n",
      "25 \t host_response_time \t\t\t <class 'float'>\n",
      "26 \t host_response_rate \t\t\t <class 'float'>\n",
      "27 \t host_acceptance_rate \t\t\t <class 'numpy.float64'>\n",
      "28 \t host_is_superhost \t\t\t <class 'str'>\n",
      "29 \t host_thumbnail_url \t\t\t <class 'str'>\n",
      "30 \t host_picture_url \t\t\t <class 'str'>\n",
      "31 \t host_neighbourhood \t\t\t <class 'str'>\n",
      "32 \t host_listings_count \t\t\t <class 'numpy.int64'>\n",
      "33 \t host_total_listings_count \t\t\t <class 'numpy.int64'>\n",
      "34 \t host_verifications \t\t\t <class 'str'>\n",
      "35 \t host_has_profile_pic \t\t\t <class 'str'>\n",
      "36 \t host_identity_verified \t\t\t <class 'str'>\n",
      "37 \t street \t\t\t <class 'str'>\n",
      "38 \t neighbourhood \t\t\t <class 'str'>\n",
      "39 \t neighbourhood_cleansed \t\t\t <class 'str'>\n",
      "40 \t neighbourhood_group_cleansed \t\t\t <class 'str'>\n",
      "41 \t city \t\t\t <class 'str'>\n",
      "42 \t state \t\t\t <class 'str'>\n",
      "43 \t zipcode \t\t\t <class 'str'>\n",
      "44 \t market \t\t\t <class 'str'>\n",
      "45 \t smart_location \t\t\t <class 'str'>\n",
      "46 \t country_code \t\t\t <class 'str'>\n",
      "47 \t country \t\t\t <class 'str'>\n",
      "48 \t latitude \t\t\t <class 'numpy.float64'>\n",
      "49 \t longitude \t\t\t <class 'numpy.float64'>\n",
      "50 \t is_location_exact \t\t\t <class 'str'>\n",
      "51 \t property_type \t\t\t <class 'str'>\n",
      "52 \t room_type \t\t\t <class 'str'>\n",
      "53 \t accommodates \t\t\t <class 'numpy.int64'>\n",
      "54 \t bathrooms \t\t\t <class 'numpy.float64'>\n",
      "55 \t bedrooms \t\t\t <class 'numpy.int64'>\n",
      "56 \t beds \t\t\t <class 'numpy.float64'>\n",
      "57 \t bed_type \t\t\t <class 'str'>\n",
      "58 \t amenities \t\t\t <class 'str'>\n",
      "59 \t square_feet \t\t\t <class 'numpy.float64'>\n",
      "60 \t price \t\t\t <class 'numpy.int64'>\n",
      "61 \t weekly_price \t\t\t <class 'numpy.float64'>\n",
      "62 \t monthly_price \t\t\t <class 'numpy.float64'>\n",
      "63 \t security_deposit \t\t\t <class 'numpy.float64'>\n",
      "64 \t cleaning_fee \t\t\t <class 'numpy.float64'>\n",
      "65 \t guests_included \t\t\t <class 'numpy.int64'>\n",
      "66 \t extra_people \t\t\t <class 'numpy.int64'>\n",
      "67 \t minimum_nights \t\t\t <class 'numpy.int64'>\n",
      "68 \t maximum_nights \t\t\t <class 'numpy.int64'>\n",
      "69 \t calendar_updated \t\t\t <class 'str'>\n",
      "70 \t has_availability \t\t\t <class 'str'>\n",
      "71 \t availability_30 \t\t\t <class 'numpy.int64'>\n",
      "72 \t availability_60 \t\t\t <class 'numpy.int64'>\n",
      "73 \t availability_90 \t\t\t <class 'numpy.int64'>\n",
      "74 \t availability_365 \t\t\t <class 'numpy.int64'>\n",
      "75 \t calendar_last_scraped \t\t\t <class 'str'>\n",
      "76 \t number_of_reviews \t\t\t <class 'numpy.int64'>\n",
      "77 \t first_review \t\t\t <class 'str'>\n",
      "78 \t last_review \t\t\t <class 'str'>\n",
      "79 \t review_scores_rating \t\t\t <class 'numpy.int64'>\n",
      "80 \t review_scores_accuracy \t\t\t <class 'numpy.int64'>\n",
      "81 \t review_scores_cleanliness \t\t\t <class 'numpy.int64'>\n",
      "82 \t review_scores_checkin \t\t\t <class 'numpy.int64'>\n",
      "83 \t review_scores_communication \t\t\t <class 'numpy.int64'>\n",
      "84 \t review_scores_location \t\t\t <class 'numpy.int64'>\n",
      "85 \t review_scores_value \t\t\t <class 'numpy.int64'>\n",
      "86 \t requires_license \t\t\t <class 'str'>\n",
      "87 \t license \t\t\t <class 'numpy.float64'>\n",
      "88 \t jurisdiction_names \t\t\t <class 'numpy.float64'>\n",
      "89 \t instant_bookable \t\t\t <class 'str'>\n",
      "90 \t is_business_travel_ready \t\t\t <class 'str'>\n",
      "91 \t cancellation_policy \t\t\t <class 'str'>\n",
      "92 \t require_guest_profile_picture \t\t\t <class 'str'>\n",
      "93 \t require_guest_phone_verification \t\t\t <class 'str'>\n",
      "94 \t calculated_host_listings_count \t\t\t <class 'numpy.int64'>\n",
      "95 \t reviews_per_month \t\t\t <class 'numpy.float64'>\n"
     ]
    }
   ],
   "source": [
    "np.random.seed(26)\n",
<<<<<<< HEAD
    "df = pd.read_csv('julia/airbnb.csv')\n",
=======
    "df = pd.read_csv() # Load in the downloaded csv file \n",
>>>>>>> 1ddf5df1fea2d4776a0746d674dfcbb2f0475291
    "\n",
    "feature_names = df.columns\n",
    "for i in range(96):\n",
    "    print(str(i), \"\\t\", str(feature_names[i]),\"\\t\\t\\t\", str(type(df.iloc[0,i])))"
   ]
  },
  {
   "cell_type": "markdown",
   "metadata": {},
   "source": [
    "## a) Train / Test Split\n",
    "\n",
    "The price columns, 61, 62, and 63, are our labels; the rest of the columns are our features. We now will generate a data matrix ($X$ from class), use column 61 as a target vector ($y$ from class), and create a train/test split so that we can empirically test for overfitting.\n",
    "\n",
    "To make the 80 / 20 train test split, we shuffle the data and select the first $80\\%$ as the train data, with $20\\%$ held out for validation.\n",
    "\n",
    "Use the code below to create a train / test split."
   ]
  },
  {
   "cell_type": "code",
   "execution_count": 165,
   "metadata": {},
   "outputs": [
    {
     "name": "stdout",
     "output_type": "stream",
     "text": [
      "Size of dataset:  25951\n",
      "Training dataset:               id                            listing_url       scrape_id  \\\n",
      "7594   14105094  https://www.airbnb.com/rooms/14105094  20180303203649   \n",
      "21726  13550201  https://www.airbnb.com/rooms/13550201  20180303203649   \n",
      "17786  12284280  https://www.airbnb.com/rooms/12284280  20180303203649   \n",
      "11689  16220723  https://www.airbnb.com/rooms/16220723  20180303203649   \n",
      "15453   8191897   https://www.airbnb.com/rooms/8191897  20180303203649   \n",
      "...         ...                                    ...             ...   \n",
      "14067  22341125  https://www.airbnb.com/rooms/22341125  20180303203649   \n",
      "4501   13099377  https://www.airbnb.com/rooms/13099377  20180303203649   \n",
      "19453   2447138   https://www.airbnb.com/rooms/2447138  20180303203649   \n",
      "13354  19532525  https://www.airbnb.com/rooms/19532525  20180303203649   \n",
      "15873   8053664   https://www.airbnb.com/rooms/8053664  20180303203649   \n",
      "\n",
      "      last_scraped                                               name  \\\n",
      "7594    2018-03-05  Airy, light-flooded 2-bath West Village apartment   \n",
      "21726   2018-03-04  Manhattan-very close to everywhere muy cercade...   \n",
      "17786   2018-03-05    Legal full floor by Sunset Park, 20mins to Soho   \n",
      "11689   2018-03-05               Private Room w/ full bed in Brooklyn   \n",
      "15453   2018-03-05   Cozy room in the best neighborhood!-Williamsburg   \n",
      "...            ...                                                ...   \n",
      "14067   2018-03-04   Cozy Room Modern Apartment in Financial District   \n",
      "4501    2018-03-05  1 Bedroom in Quiet Hamilton Heights Neighborhood.   \n",
      "19453   2018-03-05       HUGE LUX 2FLOOR 2 BDRMSOHO LOFTw/HOME CINEMA   \n",
      "13354   2018-03-05                                           Le Belle   \n",
      "15873   2018-03-04                       Bare Bones Backyard Bungalow   \n",
      "\n",
      "                                                 summary  \\\n",
      "7594   Our place is close to The High Line, Whitney M...   \n",
      "21726  Manhattan- very close to  everywhere Manhattan...   \n",
      "17786  This newly renovated, quiet, and legal full fl...   \n",
      "11689  My place is close to Nostrand Avenue Pubs, Key...   \n",
      "15453  Room with lofted bed in a  2br, Williamsburg L...   \n",
      "...                                                  ...   \n",
      "14067  A cozy, sunny and modern room with a real comf...   \n",
      "4501   Spacious 1 Bedroom Furnished Apartment For Sub...   \n",
      "19453  Huge LUXURY 2 bedroom 2 FLOOR loft in Soho/Tri...   \n",
      "13354  Private apartment  24hr camera surveillance  1...   \n",
      "15873  Newly renovated 3 bedroom apartment in Bushwic...   \n",
      "\n",
      "                                                   space  \\\n",
      "7594   This apartment is located in an historic New Y...   \n",
      "21726                                                NaN   \n",
      "17786  Our space has all new furniture and appliances...   \n",
      "11689                                                NaN   \n",
      "15453  -Unique loft space, the room for rent has a lo...   \n",
      "...                                                  ...   \n",
      "14067  The apartment is modern, cozy and comfortable....   \n",
      "4501                                                 NaN   \n",
      "19453  LUXURY LOFT -  2 bedroom 2 bathroom loft apart...   \n",
      "13354  There are two flat screen tv with cable and fi...   \n",
      "15873  Decent sized bedroom with great natural light ...   \n",
      "\n",
      "                                             description experiences_offered  \\\n",
      "7594   Our place is close to The High Line, Whitney M...                none   \n",
      "21726  Manhattan- very close to  everywhere Manhattan...                none   \n",
      "17786  This newly renovated, quiet, and legal full fl...                none   \n",
      "11689  My place is close to Nostrand Avenue Pubs, Key...                none   \n",
      "15453  Room with lofted bed in a  2br, Williamsburg L...                none   \n",
      "...                                                  ...                 ...   \n",
      "14067  A cozy, sunny and modern room with a real comf...                none   \n",
      "4501   Spacious 1 Bedroom Furnished Apartment For Sub...                none   \n",
      "19453  Huge LUXURY 2 bedroom 2 FLOOR loft in Soho/Tri...                none   \n",
      "13354  Private apartment  24hr camera surveillance  1...                none   \n",
      "15873  Newly renovated 3 bedroom apartment in Bushwic...                none   \n",
      "\n",
      "                                   neighborhood_overview  ...  \\\n",
      "7594   Enjoy the best neighborhood in the big city! T...  ...   \n",
      "21726                                                NaN  ...   \n",
      "17786  Sunset Park is a unique New York neighborhood,...  ...   \n",
      "11689                                                NaN  ...   \n",
      "15453  Close to the Williamsburg Bridge and East rive...  ...   \n",
      "...                                                  ...  ...   \n",
      "14067  El area es la mejor de Manhattan, tranquila, l...  ...   \n",
      "4501                                                 NaN  ...   \n",
      "19453  The streets surrounding that building are fill...  ...   \n",
      "13354  My place is close to JFK  It's close to a groc...  ...   \n",
      "15873  This is a great neighborhood that has everythi...  ...   \n",
      "\n",
      "      requires_license license jurisdiction_names instant_bookable  \\\n",
      "7594                 f     NaN                NaN                t   \n",
      "21726                f     NaN                NaN                t   \n",
      "17786                f     NaN                NaN                f   \n",
      "11689                f     NaN                NaN                t   \n",
      "15453                f     NaN                NaN                f   \n",
      "...                ...     ...                ...              ...   \n",
      "14067                f     NaN                NaN                t   \n",
      "4501                 f     NaN                NaN                f   \n",
      "19453                f     NaN                NaN                f   \n",
      "13354                f     NaN                NaN                t   \n",
      "15873                f     NaN                NaN                f   \n",
      "\n",
      "      is_business_travel_ready  cancellation_policy  \\\n",
      "7594                         f             moderate   \n",
      "21726                        f               strict   \n",
      "17786                        t               strict   \n",
      "11689                        f             flexible   \n",
      "15453                        f               strict   \n",
      "...                        ...                  ...   \n",
      "14067                        f               strict   \n",
      "4501                         f             flexible   \n",
      "19453                        f               strict   \n",
      "13354                        f               strict   \n",
      "15873                        f               strict   \n",
      "\n",
      "       require_guest_profile_picture require_guest_phone_verification  \\\n",
      "7594                               f                                f   \n",
      "21726                              f                                f   \n",
      "17786                              f                                f   \n",
      "11689                              f                                f   \n",
      "15453                              f                                f   \n",
      "...                              ...                              ...   \n",
      "14067                              f                                f   \n",
      "4501                               f                                f   \n",
      "19453                              f                                f   \n",
      "13354                              f                                f   \n",
      "15873                              f                                f   \n",
      "\n",
      "       calculated_host_listings_count  reviews_per_month  \n",
      "7594                                1               0.05  \n",
      "21726                               3               0.53  \n",
      "17786                               1               2.58  \n",
      "11689                               1               0.34  \n",
      "15453                               2               0.30  \n",
      "...                               ...                ...  \n",
      "14067                               2               3.00  \n",
      "4501                                1               0.07  \n",
      "19453                               1               0.22  \n",
      "13354                               1               9.60  \n",
      "15873                               1               0.03  \n",
      "\n",
      "[20760 rows x 93 columns]\n"
     ]
    }
   ],
   "source": [
    "df = df[~df['price'].isna()] # let's only consider the examples for which the price is known\n",
    "df = df.sample(frac = 1) # we shuffle the data so that our train/test split will be truly random\n",
    "\n",
    "train_proportion = 0.8\n",
    "n = len(df)\n",
    "print('Size of dataset: ', str(n))\n",
    "\n",
    "# Put the first ntrain observations in the DataFrame df into the training set, and the rest into the test set\n",
    "t = int(train_proportion * n)\n",
    "\n",
    "target = df['price']\n",
    "price_columns = ['price','weekly_price','monthly_price']\n",
    "data = df.loc[:, ~df.columns.isin(price_columns)]\n",
    "\n",
    "# the following variable records the features of examples in the training set\n",
    "train_x = data.iloc[0:t]\n",
    "# the following variable records the features of examples in the test set\n",
    "test_x = data.iloc[t:]\n",
    "# the following variable records the labels of examples in the training set\n",
    "train_y = target[0:t]\n",
    "# the following variable records the labels of examples in the test set\n",
    "test_y = target[t:]\n",
    "\n",
    "# let's take a look\n",
    "print('Training dataset: ', train_x)"
   ]
  },
  {
   "cell_type": "markdown",
   "metadata": {},
   "source": [
    "## b) Real-Valued Data\n",
    "\n",
    "Your first task will be to fit a linear model to the simplest type of data available - the real-valued parameters. Once you fit your model to the train data, you will need to print train and test mean squared error, as well as plot the predicted vs the real price.\n",
    "\n",
    "The starter code includes some data processing routines, as well as a plot function.\n",
    "\n",
    "Now, let's select out all numerical data that might be useful for predicting the price. Here is a list:\n",
    "\n",
    "  - host_listings_count\n",
    "  - host_total_listings_count\n",
    "  - accomodates\n",
    "  - bathrooms\n",
    "  - bedrooms\n",
    "  - guests_included\t\t\n",
    "  - extra_people\n",
    "  - minimum_nights\n",
    "  - maximum_nights\n",
    "  - availability_30\n",
    "  - availability_60\n",
    "  - availability_90\n",
    "  - availability_365\n",
    "  - number_of_reviews\n",
    "  - review_scores_rating\n",
    "  - review_scores_accuracy\n",
    "  - review_scores_cleanliness\n",
    "  - review_scores_checkin\n",
    "  - review_scores_communication\n",
    "  - review_scores_location\n",
    "  - review_scores_value\n",
    "\n",
    "These will be easy to grab, but it's important to also include the following stored as a string:\n",
    "\n",
    "  - beds\n",
    "  - security_deposit\n",
    "  - cleaning_fee\n",
    "  \n",
    "For those, we provide write a utility function, which interprets any non-numerical value as a \"0\", which is an accurate interpretation of \"N\\A\" in this context."
   ]
  },
  {
   "cell_type": "code",
   "execution_count": 166,
   "metadata": {},
   "outputs": [],
   "source": [
    "# \"This function converts strings to floating point values \n",
    "# and strings that cannot be represented as a number (like NA) are converted to zeros\"\n",
    "def string_to_float(string):\n",
    "    try:\n",
    "        return float(string)\n",
    "    except:\n",
    "        return 0.0\n",
    "\n",
    "labels_real = [\n",
    "  'host_listings_count',\n",
    "  'host_total_listings_count',\n",
    "  'accommodates',\n",
    "  'bathrooms',\n",
    "  'bedrooms',\n",
    "  'guests_included',\n",
    "  'extra_people',\n",
    "  'minimum_nights',\n",
    "  'maximum_nights',\n",
    "  'availability_30',\n",
    "  'availability_60',\n",
    "  'availability_90',\n",
    "  'availability_365',\n",
    "  'number_of_reviews',\n",
    "  'review_scores_rating',\n",
    "  'review_scores_accuracy',\n",
    "  'review_scores_cleanliness',\n",
    "  'review_scores_checkin',\n",
    "  'review_scores_communication',\n",
    "  'review_scores_location',\n",
    "  'review_scores_value'\n",
    "]\n",
    "\n",
    "\n",
    "labels_string = [\n",
    "    'beds',\n",
    "    'security_deposit',\n",
    "    'cleaning_fee'\n",
    "]"
   ]
  },
  {
   "cell_type": "markdown",
   "metadata": {},
   "source": [
    "Extract the real valued data first and cast it as an numpy array with np.asarray()"
   ]
  },
  {
   "cell_type": "code",
   "execution_count": 167,
   "metadata": {},
   "outputs": [],
   "source": [
    "# the following variable should have as many columns as real variables, and as many rows as examples in the training set    \n",
    "train_vals_real = np.asarray(train_x[labels_real])\n",
    "# the following variable should have as many columns as real variables, and as many rows as examples in the test set\n",
    "test_vals_real = np.asarray(test_x[labels_real])"
   ]
  },
  {
   "cell_type": "markdown",
   "metadata": {},
   "source": [
    "Now, we can extract the specific columns related to these labels, convert them to floats as necessary, but **DO NOT** convert the result to numpy arrays yet. (We will run an asseration test to make sure everything is working as intended.)\n",
    "\n",
    "Use .fillna() and .applymap() methods to apply the string_to_float() function elementwise. In particular, impute NaN values with 0.0 (float valued data). You shouldn't need more than one line per expression below."
   ]
  },
  {
   "cell_type": "code",
   "execution_count": 168,
   "metadata": {},
   "outputs": [],
   "source": [
    "# the following variable should have as many columns as string variables, and as many rows as examples in the training set  \n",
    "train_vals_from_string = train_x[labels_string].fillna(0).applymap(string_to_float)\n",
    "# the following variable should have as many columns as string variables, and as many rows as examples in the test set      \n",
    "test_vals_from_string = test_x[labels_string].fillna(0).applymap(string_to_float)"
   ]
  },
  {
   "cell_type": "code",
   "execution_count": 169,
   "metadata": {},
   "outputs": [],
   "source": [
    "assert(train_vals_from_string.applymap(lambda x:type(x)!=str).all(skipna=False).all(skipna=False) == True)\n",
    "assert(test_vals_from_string.applymap(lambda x:type(x)!=str).all(skipna=False).all(skipna=False) == True)"
   ]
  },
  {
   "cell_type": "markdown",
   "metadata": {},
   "source": [
    "Now we cast them as np arrays"
   ]
  },
  {
   "cell_type": "code",
   "execution_count": 170,
   "metadata": {},
   "outputs": [],
   "source": [
    "train_vals_from_string = np.asarray(train_vals_from_string)\n",
    "test_vals_from_string = np.asarray(test_vals_from_string)"
   ]
  },
  {
   "cell_type": "markdown",
   "metadata": {},
   "source": [
    "To get to a usable matrix of data, we must concatenate these using \"np.concatenate()\" which concatenates np.array objects together with an appropriately chosen axis. **Don't forget to include the offset term!** You may need to use .reshape() to cast the offset term into an array of the appropriate dimensions."
   ]
  },
  {
   "cell_type": "code",
   "execution_count": 171,
   "metadata": {},
   "outputs": [],
   "source": [
    "n_train = train_vals_real.shape[0]\n",
    "n_test = test_vals_real.shape[0]\n",
    "\n",
    "train_vals = np.concatenate((train_vals_real, train_vals_from_string, np.ones(n_train).reshape((n_train, 1))), axis = 1)\n",
    "\n",
    "test_vals = np.concatenate((test_vals_real, test_vals_from_string, np.ones(n_test).reshape((n_test, 1))), axis = 1)"
   ]
  },
  {
   "cell_type": "markdown",
   "metadata": {},
   "source": [
    "Now let's fit the linear model, compute and print the MSE, and plot the predicted versus the real data.\n",
    "\n",
    "We provide some useful helper functions below, though we ask you to complete the MSE function.\n",
    "\n",
    "Plotting all the test data might significantly slow down this notebook; if that happens, feel free to plot just the first couple hundred points."
   ]
  },
  {
   "cell_type": "code",
   "execution_count": 172,
   "metadata": {},
   "outputs": [],
   "source": [
    "# This function just computes the mean squared error\n",
    "def MSE(y, pred):\n",
    "    return np.mean(np.square(y - pred))\n",
    "\n",
    "# This function plots the main diagonal;for a \"predicted vs true\" plot with perfect predictions, all data lies on this line\n",
    "def plotDiagonal(xmin, xmax):\n",
    "    xsamples = np.arange(xmin,xmax,step=0.01)\n",
    "    plt.plot(xsamples,xsamples,c='black')\n",
    "\n",
    "# This helper function plots x vs y and labels the axes\n",
    "def plotdata(x=None,y=None,xname=None,yname=None,margin=0.05,plotDiag=True,zeromin=False):\n",
    "    plt.scatter(x,y,label='data')\n",
    "    plt.xlabel(xname)\n",
    "    plt.ylabel(yname)\n",
    "    range_x = max(x) - min(x)\n",
    "    range_y = max(y) - min(y)\n",
    "    if plotDiag:\n",
    "        plotDiagonal(min(x)-margin*range_x,max(x)+margin*range_x)\n",
    "    if zeromin:\n",
    "        plt.xlim(0.0,max(x)+margin*range_x)\n",
    "        plt.ylim(0.0,max(y)+margin*range_y)\n",
    "    else:\n",
    "        plt.xlim(min(x)-margin*range_x,max(x)+margin*range_x)\n",
    "        plt.ylim(min(y)-margin*range_y,max(y)+margin*range_y)\n",
    "    plt.show()\n",
    "\n",
    "# This function plots the predicted labels vs the actual labels (We only plot the first 1000 points to avoid slow plots)\n",
    "def plot_pred_true(test_pred=None, test_y=None, max_points = 1000):\n",
    "    plotdata(test_pred[1:max_points], test_y[1:max_points],'Predicted', 'True', zeromin=True)"
   ]
  },
  {
   "cell_type": "code",
   "execution_count": 173,
   "metadata": {},
   "outputs": [],
   "source": [
    "# This function runs OLS and bypasses any SVD (Singular Value Decomposition) convergence errors by refitting the model\n",
    "def run_OLS(train_y, test_y, train_vals, test_vals):\n",
    "    ols_model = sm.regression.linear_model.OLS(train_y, train_vals)\n",
    "    while True: # Bypasses SVD convergence assertion error\n",
    "        try:\n",
    "            results = ols_model.fit()\n",
    "            break\n",
    "        except:\n",
    "            None\n",
    "            \n",
    "    w = np.array(results.params).reshape([len(results.params),1])\n",
    "\n",
    "    train_pred = np.matmul(train_vals,w)\n",
    "    test_pred = np.matmul(test_vals,w)\n",
    "\n",
    "    train_MSE = MSE(train_y, train_pred.flatten())\n",
    "    test_MSE = MSE(test_y, test_pred.flatten())\n",
    "    \n",
    "    return train_MSE, test_MSE, test_pred"
   ]
  },
  {
   "cell_type": "code",
   "execution_count": 174,
   "metadata": {},
   "outputs": [],
   "source": [
    "train_MSE, test_MSE, test_pred = run_OLS(train_y, test_y, train_vals, test_vals)"
   ]
  },
  {
   "cell_type": "code",
   "execution_count": 175,
   "metadata": {},
   "outputs": [
    {
     "name": "stdout",
     "output_type": "stream",
     "text": [
      "Train MSE\t 5641.824370720238\n",
      "Test MSE\t 5716.1743559945435\n"
     ]
    },
    {
     "data": {
      "image/png": "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\n",
      "text/plain": [
       "<Figure size 432x288 with 1 Axes>"
      ]
     },
     "metadata": {
      "needs_background": "light"
     },
     "output_type": "display_data"
    }
   ],
   "source": [
    "print(\"Train MSE\\t\", str(train_MSE))\n",
    "print(\"Test MSE\\t\", str(test_MSE))\n",
    "\n",
    "plot_pred_true(test_pred.flatten(), test_y) #.flatten() will make sure the dimensions match"
   ]
  },
  {
   "cell_type": "markdown",
   "metadata": {},
   "source": [
    "The two seem to trend in the same direction, but there is still plenty of room for improvement.\n",
    "\n",
    "We are missing some of the most important data, namely, the type of rental. After all, a well-reviewed tent will never cost as much as a poorly-reviewed house. We'll ignore the issue of location for now, because it is significantly thornier.\n",
    "\n",
    "Unfortunately, this data is stored in categorical columns, which require a little more work to utilize. Here are the data parameters:\n",
    "\n",
    "  - property_type\n",
    "  - room_type\n",
    "  - bed_type\n",
    "  - cancellation_policy\n",
    "  - host_response_time\n",
    "  \n",
    "These are all best handled with boolean encoding. It's worth mentioning that there is an additional category which can be handled with one-hot vectors, where more than one entry in the column can be $1$:\n",
    "\n",
    "  - host_verifications\n",
    "\n",
    "There are also many boolean parameters, which might inform the price:\n",
    "\n",
    "  - require_guest_profile_picture\n",
    "  - require_guest_phone_verification\n",
    "  - instant_bookable\n",
    "  - is_business_travel_ready\n",
    "  - has_availability\n",
    "  - is_location_exact\n",
    "  - host_identity_verified\n",
    "  - host_has_profile_pic\n",
    "  - host_is_superhost\n",
    "\n",
    "Let's handle the boolean values first.\n",
    "\n",
    "## c) Boolean Data\n",
    "\n",
    "We've provided a helper function to convert the values stored in the original dataset - \"t\" and \"f\" - into Python \"true\" and \"false.\" Extract the arrays for these parameters, then concatenate this new data with all the data you had previously."
   ]
  },
  {
   "cell_type": "code",
   "execution_count": 176,
   "metadata": {},
   "outputs": [],
   "source": [
    "# Converts from \"t\" and \"f\" into true and false\n",
    "def string_to_bool(string):\n",
    "    return string == 't'\n",
    "\n",
    "bool_labels = [\n",
    "  'require_guest_profile_picture',\n",
    "  'require_guest_phone_verification',\n",
    "  'instant_bookable',\n",
    "  'is_business_travel_ready',\n",
    "  'has_availability',\n",
    "  'is_location_exact',\n",
    "  'host_identity_verified',\n",
    "  'host_has_profile_pic',\n",
    "  'host_is_superhost'\n",
    "]"
   ]
  },
  {
   "cell_type": "code",
   "execution_count": 177,
   "metadata": {},
   "outputs": [],
   "source": [
    "# the following variable should have as many columns as real variables, and as many rows as examples in the training set   \n",
    "train_bv = train_x[bool_labels].applymap(string_to_bool)\n",
    "# the following variable should have as many columns as real variables, and as many rows as examples in the test set\n",
    "test_bv = test_x[bool_labels].applymap(string_to_bool)"
   ]
  },
  {
   "cell_type": "code",
   "execution_count": 178,
   "metadata": {},
   "outputs": [],
   "source": [
    "assert(train_bv.applymap(lambda x:type(x)== bool).all(skipna=False).all(skipna=False) == True)\n",
    "assert(test_bv.applymap(lambda x:type(x)== bool).all(skipna=False).all(skipna=False) == True)"
   ]
  },
  {
   "cell_type": "code",
   "execution_count": 179,
   "metadata": {},
   "outputs": [],
   "source": [
    "train_bv = np.asarray(train_bv)\n",
    "test_bv = np.asarray(test_bv)"
   ]
  },
  {
   "cell_type": "code",
   "execution_count": 180,
   "metadata": {},
   "outputs": [],
   "source": [
    "# concatenate the real and boolean features to form your X train and test matrices\n",
    "\n",
    "train_vals = np.concatenate((train_vals_real, train_bv, np.ones(n_train).reshape((n_train, 1))), axis = 1)\n",
    "\n",
    "test_vals = np.concatenate((test_vals_real, test_bv, np.ones(n_test).reshape((n_test, 1))), axis = 1)"
   ]
  },
  {
   "cell_type": "markdown",
   "metadata": {},
   "source": [
    "Now, refit, and compute the MSE."
   ]
  },
  {
   "cell_type": "code",
   "execution_count": 181,
   "metadata": {},
   "outputs": [],
   "source": [
    "train_MSE, test_MSE, test_pred = run_OLS(train_y, test_y, train_vals, test_vals)"
   ]
  },
  {
   "cell_type": "code",
   "execution_count": 182,
   "metadata": {},
   "outputs": [
    {
     "name": "stdout",
     "output_type": "stream",
     "text": [
      "Train MSE\t 6303.333931557139\n",
      "Test MSE\t 6519.273805931913\n"
     ]
    },
    {
     "data": {
      "image/png": "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\n",
      "text/plain": [
       "<Figure size 432x288 with 1 Axes>"
      ]
     },
     "metadata": {
      "needs_background": "light"
     },
     "output_type": "display_data"
    }
   ],
   "source": [
    "print(\"Train MSE\\t\", str(train_MSE))\n",
    "print(\"Test MSE\\t\", str(test_MSE))\n",
    "\n",
    "plot_pred_true(test_pred.flatten(), test_y)"
   ]
  },
  {
   "cell_type": "markdown",
   "metadata": {},
   "source": [
    "That didn't help much! In fact, that's not terribly surprising. See what the MSE is if we use only the boolean values:"
   ]
  },
  {
   "cell_type": "code",
   "execution_count": 183,
   "metadata": {},
   "outputs": [],
   "source": [
    "train_bools = np.concatenate((train_bv, np.ones(n_train).reshape((n_train, 1))), axis = 1)\n",
    "\n",
    "test_bools = np.concatenate((test_bv, np.ones(n_test).reshape((n_test, 1))), axis = 1)"
   ]
  },
  {
   "cell_type": "code",
   "execution_count": 184,
   "metadata": {},
   "outputs": [
    {
     "name": "stdout",
     "output_type": "stream",
     "text": [
      "Train MSE\t 10398.794852623912\n",
      "Test MSE\t 10345.387670106544\n"
     ]
    },
    {
     "data": {
      "image/png": "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\n",
      "text/plain": [
       "<Figure size 432x288 with 1 Axes>"
      ]
     },
     "metadata": {
      "needs_background": "light"
     },
     "output_type": "display_data"
    }
   ],
   "source": [
    "train_MSE, test_MSE, test_pred = run_OLS(train_y, test_y, train_bools, test_bools)\n",
    "\n",
    "print(\"Train MSE\\t\", str(train_MSE))\n",
    "print(\"Test MSE\\t\", str(test_MSE))\n",
    "\n",
    "plot_pred_true(test_pred.flatten(), test_y)"
   ]
  },
  {
   "cell_type": "markdown",
   "metadata": {},
   "source": [
    "In fact this is not too surprising - the most informative data is going to be categorical, since a well-reviewed tent is never going to cost as much as a poorly reviewed full house.\n",
    "\n",
    "## d) Categorical Data\n",
    "\n",
    "Transform the data into one-hot vectors. The categories are easy to extract using the \"np.unique()\" function.\n",
    "\n",
    "Here, we ask that you contribute a little more to the helper function, since this transformation is not trivial. Notice that the categories are passed as an argument - this is important, in case the test set doesn't have a representation for all of the categories in the training set.\n",
    "\n",
    "Make sure your function is linear in the number of data points (entries in the column) which it processes. You can use the nested loop structure provided, or clever list comprehensions. Bonus points if you use a \"Dataframe\" object in a clever way that makes the function significantly faster.\n",
    "\n",
    "If a category appears in the test set but not in the training set, the \"one hot\" vector should be a vector of zeros for that parameter. (In other words, we one-hot encode only the categories in the training set)"
   ]
  },
  {
   "cell_type": "code",
   "execution_count": 185,
   "metadata": {},
   "outputs": [
    {
     "data": {
      "text/plain": [
       "[array(['Apartment', 'Loft', 'Guest suite', 'Bed and breakfast',\n",
       "        'Townhouse', 'Condominium', 'Other', 'House', 'Serviced apartment',\n",
       "        'Hostel', 'Bungalow', 'Boutique hotel', 'Guesthouse', 'Timeshare',\n",
       "        'Vacation home', 'Villa', 'Dorm', 'Boat', 'Aparthotel', 'In-law',\n",
       "        'Hotel', 'Resort', 'Yurt', 'Earth house', 'Camper/RV', 'Cabin',\n",
       "        'Treehouse', 'Island', 'Casa particular (Cuba)', 'Tent'],\n",
       "       dtype=object),\n",
       " array(['Entire home/apt', 'Private room', 'Shared room'], dtype=object),\n",
       " array(['Real Bed', 'Airbed', 'Couch', 'Futon', 'Pull-out Sofa'],\n",
       "       dtype=object),\n",
       " array(['moderate', 'strict', 'flexible', 'super_strict_30',\n",
       "        'super_strict_60'], dtype=object),\n",
       " array(['NaN', 'within an hour', 'within a few hours',\n",
       "        'a few days or more', 'within a day'], dtype=object)]"
      ]
     },
     "execution_count": 185,
     "metadata": {},
     "output_type": "execute_result"
    }
   ],
   "source": [
    "cat_labels = [\n",
    "  'property_type',\n",
    "  'room_type',\n",
    "  'bed_type',\n",
    "  'cancellation_policy',\n",
    "  'host_response_time'\n",
    "]\n",
    "\n",
    "#Sets of all categories in a particular column\n",
    "cats_sets = [train_x.loc[:, label].fillna('NaN').unique() for label in cat_labels]\n",
    "cats_sets"
   ]
  },
  {
   "cell_type": "code",
   "execution_count": 186,
   "metadata": {},
   "outputs": [
    {
     "data": {
      "text/plain": [
       "(20760, 3)"
      ]
     },
     "execution_count": 186,
     "metadata": {},
     "output_type": "execute_result"
    }
   ],
   "source": [
    "# Computes a onehot vector for every entry in column given a set of categories 'cats'\n",
    "# Here, 'col' should be the set of unique categories for the input 'column': you can fetch this from 'cats_sets'\n",
    "\n",
    "def onehot(column=None, col=None):\n",
    "    ### YOUR CODE HERE\n",
    "    return np.concatenate([np.array(column == label).reshape((column.size,1)) for label in col], axis = 1)\n",
    "    \n",
    "onehot(train_x['room_type'], cats_sets[1]).shape"
   ]
  },
  {
   "cell_type": "code",
   "execution_count": 187,
   "metadata": {},
   "outputs": [
    {
     "name": "stdout",
     "output_type": "stream",
     "text": [
      "(20760, 48)\n",
      "(5191, 48)\n"
     ]
    }
   ],
   "source": [
    "# These may take more than one line of code, since you will need to concatenate several numpy arrays\n",
    "train_cat_vals = np.concatenate([onehot(train_x[cat_labels[no]], cats_sets[no]) for no in range(len(cat_labels))], axis = 1)\n",
    "test_cat_vals = np.concatenate([onehot(test_x[cat_labels[no]], cats_sets[no]) for no in range(len(cat_labels))], axis = 1)\n",
    "print(train_cat_vals.shape)\n",
    "print(test_cat_vals.shape)"
   ]
  },
  {
   "cell_type": "markdown",
   "metadata": {},
   "source": [
    "Concatenate the one-hot encoded features with all the data you had previously."
   ]
  },
  {
   "cell_type": "code",
   "execution_count": 188,
   "metadata": {},
   "outputs": [],
   "source": [
    "train_vals = np.concatenate((train_cat_vals, train_vals_from_string, train_vals_real, train_bv, np.ones(n_train).reshape((n_train, 1))), axis = 1)\n",
    "test_vals =np.concatenate((test_cat_vals, test_vals_from_string, test_vals_real, test_bv, np.ones(n_test).reshape((n_test, 1))), axis = 1)"
   ]
  },
  {
   "cell_type": "code",
   "execution_count": 189,
   "metadata": {},
   "outputs": [],
   "source": [
    "train_MSE, test_MSE, test_pred = run_OLS(train_y, test_y, train_vals, test_vals)"
   ]
  },
  {
   "cell_type": "code",
   "execution_count": 190,
   "metadata": {},
   "outputs": [
    {
     "name": "stdout",
     "output_type": "stream",
     "text": [
      "Train MSE\t 4958.204824364521\n",
      "Test MSE\t 5154.586689295828\n"
     ]
    },
    {
     "data": {
      "image/png": "iVBORw0KGgoAAAANSUhEUgAAAYUAAAEGCAYAAACKB4k+AAAAO3RFWHRTb2Z0d2FyZQBNYXRwbG90bGliIHZlcnNpb24zLjUuMGIxLCBodHRwczovL21hdHBsb3RsaWIub3JnLwiMSToAAAAJcEhZcwAACxMAAAsTAQCanBgAADg2SURBVHic7Z17nFTVle+/q6qLpgqBBkTERgQFW1GCQCtIJw5iDMQn0m0cZ6Jm4sSbTCbGZEKC1yTGGe/IDDfJZDIzyXiTuXdyxyRoNzYvr8SIJgoCgg0iSgMqIAUCCo1CddPV3fv+UaeK6upz6v3u9f18+NB16jz22VW1f/ustfZaYoxBURRFUQBchW6AoiiKUjyoKCiKoigRVBQURVGUCCoKiqIoSgQVBUVRFCVCRaEbkAlnn322GTduXKGboSiKUlJs2bLlA2PMSLv3SloUxo0bx+bNmwvdDEVRlJJCRPY5vafmI0VRFCWCioKiKIoSQUVBURRFiaCioCiKokRQUVAURVEilHT0kaIomdPc4mfJmlYOtrVzXpWXhXNrmD+1utDNUgqEioKi9GOaW/w8uGw77cFuAPxt7Ty4bDuACkM/Rc1HitKPWbKmNSIIYdqD3SxZ01qgFimFRkVBUfoxB9vaU9qulD8qCorSjzmvypvSdqX8UVFQlH7Mwrk1eD3uXtu8HjcL59YUqEVKoVFHs6L0Y8LOZI0+UsKoKChKP2f+1GoVASWCmo8URVGUCCoKiqIoSgQVBUVRFCWCioKiKIoSQR3NiqIUFM29VFyoKCiKUjA091LxoeYjRVEKhuZeKj5UFBRFKRiae6n4UFFQFKVgaO6l4kNFQVGUgqG5l4oPdTQrilIwNPdS8aGioChKQdHcS8WFmo8URVGUCCoKiqIoSgQVBUVRFCVCTkVBRL4hIjtE5A0R+Y2IDBSR8SKyUUT2iMhSERlg7Vtpvd5jvT8ul21TFEVR+pIzURCRauB+oNYYczngBv4U+Afgx8aYCcBx4F7rkHuB49b2H1v7KYqiKHkk1+ajCsArIhWADzgEzAEarff/E5hv/X2r9Rrr/etERHLcPkVRFCWKnImCMcYP/E9gPyExOAFsAdqMMV3WbgeAcCxaNfCedWyXtf+IXLVPURRF6UsuzUfDCM3+xwPnAYOAeVk4730isllENh89ejTT0ymKoihR5NJ89GngXWPMUWNMEFgG1AFVljkJYAzgt/72A+cDWO8PBT6MPakx5nFjTK0xpnbkyJE5bL6iKEr/I5eisB+YKSI+yzdwHfAm8ALQYO1zD7Dc+nuF9Rrr/bXGGJPD9imKoigx5NKnsJGQw/g1YLt1rceB7wDfFJE9hHwGv7QO+SUwwtr+TWBRrtqmKIqi2COlPBmvra01mzdvLnQzFEVRSgoR2WKMqbV7T1c0K4qiKBFUFBRFUZQIKgqKoihKBK2noChKQWhu8WtxnSJERUFRlLzT3OLnwWXbaQ92A+Bva+fBZdsBVBgKjJqPFEXJO0vWtEYEIUx7sJsla1oL1CIljIqCoih552Bbe0rblfyhoqAoSt45r8qb0nYlf6goKIqSdxbOrcHrcffa5vW4WTi3pkAtUsKoo1lRlLwTdiZr9FHxoaKgKEpBmD+1WkWgCFHzkaIoihJBRUFRFEWJoKKgKIqiRFBRUBRFUSKoo1lRigTNBaQUAyoKilIEaC4gpVhQ85GiFAGaC0gpFlQUFKUI0FxASrGgoqAoRYDmAlKKBRUFRSkCNBeQUiyoo1lRigDNBaQUCyoKilIkaC4gpRhQ85GiKIoSQUVBURRFiaCioCiKokRQn4KiFAma5iK/aH/bo6KgKEWAprnIL9rfzqj5SFGKAE1zkV+0v51RUVCUIkDTXOQX7W9nVBQUpQjQNBf5RfvbGRUFRSkCNM1FftH+dkYdzYpSBGiai/yi/e2MGGMK3Ya0qa2tNZs3by50MxRFUUoKEdlijKm1e0/NR4qiKEoEFQVFURQlgoqCoiiKEiGnoiAiVSLSKCI7ReQtEblaRIaLyHMistv6f5i1r4jIP4vIHhF5XUSm5bJtiqIoSl9yHX30E+BZY0yDiAwAfMB/B543xiwWkUXAIuA7wGeBida/GcDPrP8VRSlD7HIPgUYEFZqcRR+JyFBgK3ChibqIiLQCs40xh0RkNPCiMaZGRP7d+vs3sfs5XUOjjxSlNInNPQTgcQkIBLvPjElej5vHFkxOSRg00V1iChV9NB44CvxvEWkRkV+IyCBgVNRA/z4wyvq7Gngv6vgD1jZFUcoMu9xDwR7TSxAg9XxEYbHxt7VjOJPorrnFn41m9wtyKQoVwDTgZ8aYqcApQqaiCNYTREqPKiJyn4hsFpHNR48ezVpjFUXJH6nkGEplX010lzm5FIUDwAFjzEbrdSMhkThsmY2w/j9ive8Hzo86foy1rRfGmMeNMbXGmNqRI0fmrPGKouSOVHIMpbKvJrrLnJyJgjHmfeA9EQknE7kOeBNYAdxjbbsHWG79vQK424pCmgmciOdPUBSldLHLPeRxCR639NqWaj6iRInumlv81C1ey/hFq6lbvFbNSjbkOvroa8ATVuTRO8BfEBKiJ0XkXmAf8Dlr32eAG4A9QMDaV1GUMsQp95DdtlScxAvn1vRxYIeFRQvrJIfmPlIUpaxwij6qW7wWv40ZqbrKy7pFcwrQ0sIRL/pIs6QqilJWzJ9abTvzV39DcmiaC0VR+gVaWCc5VBQURekXaGGd5FDzkaIo/QItrJMcKgqKovQbnPwNyhnUfKQoiqJEUFFQFEVRIqgoKIqiKBFUFBRFUZQIKgqKoihKBBUFRVEUJYKKgqIoihJBRUFRFEWJoKKgKIqiRFBRUBRFUSIkTHMhIgL8OXChMeZvRWQscK4xZlPOW6coSlHiVLNAKX2SeVL4N+Bq4E7r9cfAv+asRYqiFDXhCmb+tnYMZyqYaWnL8iCZhHgzjDHTRKQFwBhz3CqvqShKP2TJmtZe5S4B2oPdLFnTmvLTgj5xFB/JiEJQRNyAARCRkUBPTlulKErRkq0KZlozuThJxnz0z8DTwDki8j+Al4G/z2mrFEUpWrJVwSzeE4dSOBKKgjHmCeDbwGPAIWC+MeapXDdMUZTiJFsVzLRmcnGSTPTRWCAArIzeZozZn8uGKYpSnGSrgtl5VV78NgKgNZMLSzI+hdWE/AkCDATGA63AZTlsl6IoRUw2KpgtnFvTy6cAWjM51xhj2LFjR9x9EoqCMWZy9GsRmQb8VWZNUxSlv6M1k/ODMYatW7fS2NhIY2Mju3btirt/yjWajTGviciMtFuoKIpioTWTc4Mxhk2bNtHU1ERjYyPvvvsubreb2bNn88ADD/BXf+U8r0/Gp/DNqJcuYBpwMPNmK4qiKNmip6eH9evX09TURFNTE++99x4ej4frrruOhx56iFtvvZWzzz4bIDNRAAZH/d1FyMfQlEnjFSUX6EIoZ8q5b8r53hLR1dXFSy+9RGNjI08//TSHDh2isrKSuXPn8uijj3LzzTczbNiwlM4ZVxSsRWuDjTHfyqThipJrdCGUM+XcN+V8b04Eg0HWrl1LU1MTTz/9NB988AFer5cbbriB+vp6brzxRoYMGZL2+R1FQUQqjDFdIlKX9tkVJU9kM/VCuVHOfVPO9xbN6dOnee6552hqamL58uUcP36cs846i5tuuomGhgbmzZvHoEGDsnKteE8Kmwj5D7aKyArgKeBU+E1jzLKstEBRsoAuhHKmnPumnO+tvb2dZ599lsbGRlatWsVHH33E0KFDueWWW2hoaOAzn/kMAwcOzPp1k/EpDAQ+BOZwZr2CAVQUlKJBF0L1JWxrNw7vx+ubUrHTl9vnfvLkSZ555hkaGxt55plnOHXqFCNGjOD222+nvr6e6667jgEDcpuPNJ4onGNFHr3BGTEI4/Q9U5SCoAuhehNra48lXt+Ukp2+HD73EydOsGrVKhobG3n22Wfp6Ohg1KhR3HXXXTQ0NPAnf/InVFSkvHogbeJdyQ2cRW8xCKOioBQV2VgIVSqzYzti2x7o7HIUhOoE91ZKdvpSXQB37Ngxli9fTlNTE8899xydnZ1UV1fzpS99iYaGBurq6nC73YlPlAPEGPvxXUReM8ZMy3N7UqK2ttZs3ry50M1QygC7mbXX4+axBZOLfoBJ9FQQjQDvLr4x7j7jF622nfUlc6zizJEjR2hubqaxsZEXXniBrq4uLrjgAhoaGqivr2fGjBm4XPmpkCwiW4wxtXbvxXtSsHtCUJSypJRmx7HYtd2JZGzt5WanLyQHDx7k6aefprGxkT/+8Y/09PQwYcIEvvWtb1FfX8/06dMJVTwuHuKJwnV5a4WiFJhSjmJJto3J2trLwU5fSPbv3x9ZVbx+/XqMMVx66aU89NBDNDQ0MHny5KITgmgcRcEYcyyfDVGUQlLKs+Mqn4fjgWCf7T6Pi2GDKlO2tZeqnb6QvP3225E8Q6+++ioAU6ZM4ZFHHqG+vp5JkyYVuIXJkz+XtpI3StlhWihKeXbs4BZkQIWbdYvmpHXOYk5UVyzf7507d0aEYOvWrQDU1tayePFi6uvrmTBhQt7blA1yLgpWqozNgN8Yc5OIjAd+C4wAtgB3GWM6RaQS+BUwndC6iDuMMXtz3b5yo5TCCYuB6AGmyuehssLFifZg3MEmk0GpucXPIyt3RGb2VV4PN00ZzQs7jyZ1Prtrn2jv+5QAOG5Ppo1L1rTib2vHLUK3MQkjlvJFNr7fzS1+frBiB21W/wzzeXj45ssSHm+M4Y033ogIQbguwdVXX80Pf/hDFixYwLhx49K8s+LBMfooaxcIrXWoBYZYovAksMwY81sR+TmwzRjzMxH5K+ATxpgvi8ifArcZY+6Id26NPupL3eK1tmaQ6ipv2rPGciWdiKNMopSaW/wsbNxGsDv+b87pfHbX9riFrm5jGy2UzmceL5KpGKKxMv1+N7f4WfjUNoI9vXvM4xaWNEzpc2/GGFpaWmhsbKSpqYldu3YhIlxzzTXU19ezYMECqqtLb7IVL/oop/FPIjIGuBH4hfVaCK2MbrR2+U9gvvX3rdZrrPevk2L2xhQppewwzTfpFI7PpNj8kjWtCQUh3vnsrh10EIR0TV/xIpmSvc9ckun3e8ma1j6CAKF+DN9bT08PGzZsYOHChVx00UVMnz6df/zHf2Ts2LH87Gc/4+DBg7z44ot87WtfK0lBSESuzUf/BHybM+m3RwBtxpgu6/UBINyr1cB7AFYivhPW/h9En1BE7gPuAxg7dmwu216SlLLDNN+kM8BkMiilIsx2+yZ7vFsk7Rl9omtke3KRqiku0++3U/tNTzfvbH+VBx5YQVNTEwcOHMDj8fDpT3+a7373u9xyyy2RWgTlTs6eFETkJuCIMWZLNs9rjHncGFNrjKkdOXJkNk9dFiycW4PX03slZKk4TPON00ASb4BJ55hU9om3b7LH9xiTtokn0TWyObkIm6r8be0YzvgHmlv8jsdk+v2Obr/p6aZ93zY+/N2/4f+3L/D+rxfx85//nGnTpvGrX/2KI0eO8Mwzz/DFL36x3wgC5NZ8VAfcIiJ7CTmW5wA/AapEJPyEMgYIfwP8wPkQStsNDCXkcFZSYP7Uah5bMJnqKi9CyNaa7KyxucVP3eK1jF+0mrrFa+P+OMuBdAaYdI4J96vdDNcOp/PZXduOTAbueNfI9uQiHVNcJt9vgG/MuZDOva/x4f/7Zw78y10c+e1DnNr+PAPPn8Q3H/tXjh49yvLly7nrrruoqqrK4O5Kl5yZj4wxDwIPAojIbOBbxpg/F5GngAZCQnEPsNw6ZIX1+hXr/bUm117wMiWdcML+GLWUTjx+qsckSkGRSvRR7LWrfB5OdnT1spFnOnBHXyPX0UfpmuJS/X6HaxE0NjayfPly2tracA3wMvCiq/DVzGL0ZTP52/rpZfs9T5WcRx9BL1G4SUQuJCQIw4EW4PPGmNMiMhD4v8BU4Bjwp8aYd+KdV6OPsodGLeWGXPdrMjb5YonrjyWXfRMIBHj22Wdpampi5cqVfPzxx1RVVUVqEVx//fU5qUVQKqSb+yhrGGNeBF60/n4HuMpmnw7g9ny0R+mLRi3lhlz3a6JZczE/AWZ7weDJkydZvXo1TU1NrF69mkAgwIgRI7jjjjuor69nzpw5Oa9FUA7oimYF0KilXFHofi3mRH/ZSKdx4sQJVq5cSWNjI2vWrInUIrjnnnuor6/Pey2CckB7SwFKO81DMVPofi32J8B0/F8ffvhhr1oEwWCQ6upq7rvvPhoaGpg1a1bBahGUAyoKCpDcrC3T9A6xxya6Xj6Jd2+Z3Pf8qdVs3neM32x8j25jcItQPz1/eYUK/aSSLQ4fPkxzczNNTU2sXbuW7u5uxo0bx/33309DQwNXXXVVwloExepbKTby4mjOFepozh+ZpnewS8+AoU/kTCHSKMS7NyCj4juFLt5T6OtnwsGDB1m2bBmNjY289NJLkVoEDQ0NNDQ0MG3atKRTUJdyP+SCeI5mFQUlKTKJFEklRr8Q0U7x7g3IKEKmGKK6YmfI114yMukEfPlm3759ESFYv349AJMmTYpUJ0u3FkExfA7FRMGjj5TSp5DpHXJNNtNdZOPc2Sbabl+M0Uh79uyJFKUJ1yK44oor+Lu/+zvq6+u59NJLM75GMXwOpYKKgpIUmdimnY512jffJLq3TGzyxWbTL5ZopJ07d0Yyj4ZrEVx55ZU5q0VQbJ9DMZOfKtFKyZNJzhm7Yz1uwePqbQYoVLRTvHvLNNdOIXJRxUtXUqgZszGG119/nYcffpjLLruMSy+9lO9973v4fD5+9KMfsXfvXjZt2sR3vvOdnBSn0ZxgyaNPCkpSZBpTXlnhisxQw0VNMjlfusSLQInXlkzaOdBz5t6F3vl9sn2/icxD+ZwxG2N47bXXIk8Eu3fvxuVy8alPfYqf/vSn3HbbbXlLPa0lRpNHHc1KTimmqI98tyVR3qNcXDuRQzXXfdDT08OmTZsiQrB3717cbjdz5syhvr6e+fPnM2rUqLTPr2Gl2UEdzUrBcLJhP7JyR95/3Pm2p8crWJOraycyD+Vixtzd3c369esjQuD3+/F4PFx//fV873vf49Zbb2XEiBFpnz9MMTrJyxEVBSWnOA1SxwPBSJ3ifP24821Pz3ZkVjIkYx5KZxVxLF1dXfzhD3+gqamJZcuWcfjwYSorK5k3bx6LFy/mpptuynrq6WJxkpc7KgpKTkk28igfP+582dPDJo5kDLPZvnYu02p0dnaydu1ampqaePrpp/nwww/x+XzceOON1NfXc8MNNzB48ODEJ0oTDSvNDyoKSk6xG6ScyPWPOx95iBL5EaLJRfRLts1DHR0dkVoEK1asoK2tjcGDB3PzzTdTX1/PvHnz8Pl82bwFRzSsND+oKCg5JTwY/c2T2+hOENTg9ONO5FxM1vkYO2AO9XoQgW8s3cqSNa1JDZ7hazkVoInnR/B5XLR39WBMqI7ytLFDWbKmlQeWbu11rkxXHGdqHgoEAjzyb//Ff/zXUj586xVMZzuDBg/lqtmf4dCwKQRGTmLv2UNxja/pIwi5cgQ3t/gJdHb12Z6P8N7+5tjW6KMSo1S/pOMXrY5rTnGKgEkULZNuNE06x8V7Cggf+42lWx3v0+OSXrmekiUf0Voff/xxpBbBylWrOd3Rjss7BN/Emfhq6hh84RTE5YmbqypXkU1O/V7l9fCDWy7LWb8UU+RcttHcR2VCKX9J4+U/ilfq0em4KmuWH3ZW250zXk6bdHLhJMrhFC9XUqZEtytbE4O2trZetQhOnz7Nueeei7ngKsz4GQw8/3LEFT8FdXS7cpVfqFB5iwqZLynXkz8NSS0TSjn6wsmen0jQnPwMbe32YpDouETvZ5Lv6GBbOz++4woeWLo17n7pEL52pmGZ4VoEjY2N/P73vycYDDJmzBi+/OUvc87ka1h1eDAHP+pMuV2xfzvtkw6FcjAX6rqFDr3VNBclRClEX4RTLIxbtJqLHnyGcVaqBYDHFkymusqLEJptJfOEk64T0e646PQPLodMm/Gul6gt51V5mT+1mmE+T2qNTYLwteNNDJw4fPgwP//5z7n++usZNWoU9957Lzt37uTrX/86GzZsYN++fcy+ZyH/d68vJUGIblfs3077pEOuzlus103nM84mKgolRKG+pMkSnuGEH7nDjuXomc66RXN4d/GNrFs0J6lZj13OmmSIdT5Gt81EtS2aRE7LRG0JdHbR3OLn4ZsvS6vNTkS3y2kC4G9r54pHfhfJc+T3+/npT3/K7NmzGT16NF/5ylfYt28f3/72t9myZQtvv/02S5YsYcaMGbhcroQL7ZLJVZXt/EJhEfe3tRMr4fnIW1SofEmFnvypKJQQxZ7UK97Aku5MZ/7UauqnV/cZFOIxzOfpIzhObXOLJP3kMn9qdeRpB+jTpuOBYET8wgV6nHA7PKm4Rfj8zLGOT1TxJgAfvO/nLxf+gEum1DJmzBjuv/9+PvjgA77//e/z+uuv09rayt///d/bFqeJN+BUV3lZ0jCFJbdPifukF90/qTwN2hE7wTCc6e9MzpsK2byfVCj05E99CiVE+Mv4yModEQdrZUXx6Hq6dvxEvLDzaFILwcKEk+0lc+0eY3h38Y227zk5+8Kfg50jMix+6xbNiYSuxhJ2rC9s3Eaw+8ydedzCkoYpcQedWN9M8PhBAq3rCbSuo/P93QB0jJ7Ao48+Sn19PZdcconjuaJxWgMQ61RNNCBmY7U02Iu4sWlPrsnW/aRCoet6qyiUIB3Bnsjfbe3Bosn/kmj1croznVTFxK4fnNpmgPEPriZsTRo0wI3H7aKtPYhY74O9sy/RY37CH3es0iWhfPOnVvPeO7v53j/9gsCu9QSPvAvAgNETqZr9BXwX1zFg2Ggeeshe6Jwo9EAUS6FNKIWk0BldVRRKjGKOQIq3ejmTASaVIj3VDsITr23R7oVTnd1AaJ/YMTq2nxOtsI33465bvLbPmoVgj7H9HI0xbN++ncbGRhobG3nrrbcAqKyexLA5f4nv4llUDD2nz/VTodADUSz9ffVyIZ5QwqgolBjFPIOKHlicVvymg92A7nELGPospnISnti2pUt0Pyczu3b6cSf6HI0xbNmyhaamJhobG9mzZw8ul4trrrmGr371q3gnzuSxPxzuZX6C0AK5dMW3kANRLMX25NKfUFEoMfI9g0p1EU14YIk+DuBfX9jdK36/7qLh3F47lh+s2BFZc+DzuKj0uGkLBCPXemrzfta9fazPdSpcQnuwJyI84cVsDyzdGrmOW4Q7Z5zPo/Mn92lPusRmG4X0Ztd2n6MxPQQP7WLoVb/k9O71nG47HKlFsHDhQubPn88555x5Ihg+0t/Lv+TzuBhQ4eaBpVsjaUUyFeRCYleYqRTvo9TQFc0lRj5XNWczhUQ6uASSyQrhcQkIfWbNYeouGs5r+09k3J5s9nO4jwKnOzntf4tA6zoCrevpPvkhuCrwjp/K0Es/yT9884vcfe3lkWOcBCiZFBylMqCW8sr9UkFXNJcR+bT9puu/SBTznizJpglKlE/I7kkjVbI54+7q6uKsD9/igp2/Zu2zqwiePI5UDGDg+Gn4ar6Ab8JVuCoHAfDvG49w97WJV7kmEw5cKgNqMfvN+gMqCiVIvmy/6fovisG/kQoivZ3Nsex1CFlNhc7OTp5//nmamppobm6O1CKYf+ONNDQ0sHCDCxnQ1wQY7stEA2U5fSbF7DfrDxRPkLtSdDj5KQyhGP3w6tlkjys2BPinO67g3cdudIxacosw3krV4XS/TnR0dLBixQruvvtuzjnnHG644QaefPJJ5s6dy7Jlyzh69ChPPvkkn/vc5xhzznDbc4T7MtFAmUwKjlKh0Iu3+jsqCooj8dI6hM0XdgNluqkp0iU2/UIsdRcNt10RbSCyytqpzd3GYIh/v9GcOnWKpqYm7rzzTkaOHMmtt97KypUrue2221i5ciVHjx7liSee4LbbbutViyDRavVEA2W8Pk8naic6T1Q6gpgJxb5yv9xRR7MSobnF3ysaaJjPw42fGM0LO4/GTXttt8I01in64ccddMSGT7olEkWUCZUVLjq7emzXfk08ZxDPfXM24xatdjxeCA2u0cVtXFZUUyx29/vxxx+zatUqmpqaeOaZZ2hvb+fss8/mtttuo76+nmuvvZYBAwYkvI9UHcl29QyyEQ5cDI7eUq0bUipoPQUlIc0tfhY+ta2P09btEn54+5S4xWPCg6pTRbRENQjWLZqTsFZBurhF6DHGcZCPJRz6GO9+q6u8vPf+USoPtjDsSAuvb/hDpBbBggULaGho4FOf+hQVFfYuu3QHvHwNlIWsI6DkBxUFJSHxBuVhPg++ARUJB+1EFdHsEODdxTdmLYw1G3g9biorXH1qNnQHTtC+eyOnWtfRsW8b9HRRMfhsPnvzfL79lXuYNWsWLld8i2wxzMIT4VQlL/xZJUJn+cWPhqQqQPwfa7zIjuOBIA/ffJntk0Q00dEwyYalRtvKB3pcRSEK7cFuBnpceD1uTh7/gMDuVwi0rqNj/3YwPVQMHcWQ2lvw1dQxYPREdrjc3LXqBOe9/GLCATAf4ZaZDsqZLJAsdIEYJXNUFPoJiX6sifILzZ9a3Wv1rBNhcUk2fHDh3JqiekoA6ProA/ZvXs+5x7dxoGUTGEPF8GqGzGxgUE0dnnMu7JV62q5uhNMAmM1wS7vBH8h4UM4kxYSuMSh9VBT6CYl+rAvn1jiWkQwPf20JBAHOzCaTSWJXd1EoDDOckqGQdJ04TKB1Hada19F5MBSRdN7ll/Pw979Pc9v5HK8c1acGgR2JBsBspSlxEvno1BDJtimWTBZI6hqD0idnoiAi5wO/AkYRiv573BjzExEZDiwFxgF7gc8ZY45L6Bf3E+AGIAB8wRjzWq7alw8KYVt1umaiH+v8qdWOohBel1Dl88R9UhBCg1Pd4rVce8lImrb4HQvb3DnjfGovGM6Dy7bHFYRwTqO2QJChXg+dXd0EMoxWChM85iewK1yLYA8AA0ZdRNU1dzP8sk/yd1+6gc37jtG2YX9KRX6i6ynHRgMN83lwAdF3EJ3ELtnvjJPIOz1t+dva+5w7OtpqaFQ/h6+bjlO5v2c3LQdy+aTQBfyNMeY1ERkMbBGR54AvAM8bYxaLyCJgEfAd4LPAROvfDOBn1v8lSSFsq/GuOdTrsS12P9TriRzrjhOh429rx+MS3C6h28GvEF17oGmLn/rp1ZFBJ9q8sWRNK09s2M9vNr4XVxBio13C95cJXR/sp333ej5+62WCR/cCUDn6Yqpm/wW+mjo8VecCoeTZ8SKQ4lHl8/T5LML3aSuqluKk8p1JZ+Yd7RPyt7XzXxv2R96L/m5k8l299pKRvc4bvV0pDXImCsaYQ8Ah6++PReQtoBq4FZht7fafwIuEROFW4FcmFA61QUSqRGS0dZ6SI9+21eYWv60ZJnxNJ8uHyJnBKJEJJ1GOodjrvrDzKOsWzYnMUB9YurVX4ZpE17v2kpHULV4bEZVAZ1fKfgdjDMGj7xLYuS5UlObD9xARzrrgMs6a/CUuvPJaun0jbAfrdA1axqSW/ynYbSKL6JL9zqRSYyJynRQ/v3S+qy/sPJrSdqX4yItPQUTGAVOBjcCoqIH+fULmJQgJxntRhx2wtvUSBRG5D7gPYOzYsblrdIbk07aaaFCPd822QDBrCexi8be1M/Vvf9drwE1loP31xv2RpHipDIDGGDrf3xPKPLprHV3HD4G4qDz/coZPu4kLa6/lgx5f5OnlGw5ms3Q50R7khM1TWTzifUZ278UrGpQt0vmuqk+h9Mm5KIjIWUAT8IAx5qNoZ50xxohIShMyY8zjwOMQWqeQzbZmk3zaVhMN6uFrOrUnF4vGwiSKVopHChNbjOnhtL+VwC4rBfVHR8DlZuDYTzDkqnp8E2fiHlQFwFHLoB82kyTylaRDql/MRJ9RLOEZfLomrlTalOox6lMobXIqCiLiISQITxhjllmbD4fNQiIyGjhibfcD50cdPsbaVpLkq3JUc4s/7qAuhMwwYaeuXXuKIfonHUxPN6cPvGk9Eayn++QxcFfgHTcV3yf/DO+EGbi9g+Oeoz3YTUewO+naDUm1K8X9o78XqX5nKtzSp46EC3DbbE+3TamgFdNKn1xGHwnwS+AtY8yPot5aAdwDLLb+Xx61/a9F5LeEHMwnStWfAInD+rIRmZSM49UATVv81F4wnMcWTLa9plPUUTFiurvoeO8NAq0vE9i1gZ5AW6gWwYXT8V08q1ctgqTPCVSI4BZDKoFNPo8LEbHqOscnOhdRdNSP3Wef7PdiyZpW24F/qJWqI3wepxQfgwa4qfINcIw+Ssf3VWy1npXUyVmaCxH5JPASsJ0zEXj/nZBf4UlgLLCPUEjqMUtE/gWYRygk9S+MMXFzWJRqmotspTpIJV9QvLw1uco7lC1Md5COvVs51bqe9t0b6On4GPEMxHvRlfgunoX3olpcNrUIUiVe9FUs4f50SgkRTXQqj2wOlsmmo8hHag1NbVFaFCTNhTHmZXAM777OZn8DfDVX7SkmshWZlIrzLt6++XBapkpP8DQde1tCpqE9mzCnTyEDfPgmXIWvpo6B46fh8lRm9ZqpmND8be2MX7Q6qUR751V5Uwo3TXaATdZ+n+vZu6a2KC90RXMByFaERipO4vDA5LR4qcrnAUzGaawzoaezg/Z3NhNoXUf7O5sxne24Bp6F7+Kr8dXU4b3gCqTCk7PrJ6rAFoshsZCE7enJTgRSGWBTsd9nWq0vnlBpaovyQkWhAMSb4dnVNHj45stsf1xOC4VinaZej5trLxnZZ7CJPvZ4IIjHLXhcpGRXz5Se0wHa337VEoItmK7TuHxDGXTpn+CrmcXAsZ9A3Pn5mnorXBikzwCXjBM6nKK7yufBmFBYavTg6RT2GjsRcBpgH1i6lSVrWnsNxvmy3ycSKg1DLS80dXaeiJ5pVfk8nOzo6rWYyOtxM23sUNsi8x63cMeV57Nq26FeYtER7Lad2XtcUOF2Rd5zSej8yThE80F3x0nad28ksGsd7e++Bt1duM8aHnkiqBxzGeLKX+W2MAL8+I4rbJPMhbfFqykRm1Y6+jOPV7Rn4dyapJINQmHSbCeqr6D1F0oPTZ1dYGJnWuFZeZXXE5lRXnvJSJ6wmfVDaMVr7BNBvAEk2APBnjNi0WMouCB0B04Q2L0hlIJ63zbo6cY9eCSDp94YEoLqSxApbHXY86q8jmaWcI0Ip/DdWDu+U5qLaMJPcAsbtyUdPloIs0yiJwENQy0vVBTygJ1JINhtGFRZwdaHPwOEZmOl+8xmT/fJ41Ytgpfp2P9GqBZB1bkMqb3VqkVwcVKZR/NFvPw88VaN2w2ATgsKw2am8FOIU1hpPPJtlknk0NYw1PJCRSEPJGNzLRf7a9dHH0Qyj54+8CZgqBg+hiEzb2dQzaw+tQiKifB6jmSzkkJokLcz5zh9nj3G9DIzpZNiI9+rg5N5EsjUka0UDyoKeSCZ0MFcp5uAM7WUs32dYNv7BFrXE9h1phaBZ+Q4htbdGco8evbYohWCaOKZZuIN8qmEi4bTkIdn0ql+HoUwy+iTQP9CHc05JjaaKEyswzAf1cc+P3Msj86fTHOLn28u3UomQUbBY/5IeonoWgS+mjp8F8/CM2JMdhpdAKqrvH0Gv3gL/KptBslEn2f48weS9inYXUdR0iGeo1lFIYc4DQxOYabJRKskw6jBAzj8cWef7WFRALjwwdUpJpwzBD/YHzENhWsRDBhdExKCmlmRWgTlRPTgnUi0Yz/X6CI7doSjc5pb/HGjj4b5PLR8/zMZ3ominEGjjwrED1bssB1EfAMqItEssY/k4UEik3xEdoIA8F8b9vPEhv2cV+VNShCMMQSPvMup1nUEWtfRdewAIFSOuZRh130J38WzqBhS3sVTwialcGhlvEH+eCDYKxdV+LN1Irrq3fyp1Y5pK5Ipg9qf0JQauUVFIUc0t/htK51BaDCwWxD0wNKtOU9OZ4hfmyBUi2B3yDTUup6utlAtgoFjL2fI9JvxXnw1FWcNz2kbi41kB28IicgjK3fQEexJaAqMdRhr2unEaEqN3KOikCPClbTsOK/Km7PCNukQqUXQ+nIoBfVHR0O1CC6YwpAZ9fguvhq3b2ihm1kwkh28wySzCM3jEgKdXYxftDoy29V4/8RoSo3co6KQIxIloMt2ta9UCdUi2GFFDcXWIvg83glXJaxF0B+IHZSbW/wEOrvSPp8Qqot9qrMrIh7h2e5jCyY7pjdXQmhKjdyjopAEdjZMiB+i5zSbHObzMH9qdVzbdK4w3V107N8eMg3tPlOLwHthLb6aWXgvugpXpS+vbcoG0XWfU8HrceMS59XesdE+yUSIeT1uKitctqbD6LQQse9H+y5UBJxRE1vuUVHA2XFlF04atv1H429r5xuWPyCck7/K68ETU/3K4xaMCeXBH+jJT0oH0xWkY99WTrWuo333xt61CGrq8F44PSu1CApFldfDTVNGs/r1QymV1BTgsQWTHZ/YBPrk7Ulk8quOmjDEMwPpbDd9+rOJLV8O9n4vCk6Oq837jtG0xZ+03T889IfDSNvag3hcwjCfh7ZAkCpfKM9RWGBymaK6J3iajndfC4WP7t6I6QyEahFMnBGqRTBuatZrERQSp88pnEhw6ab3eiUfhFAZy837jjmG/oZSifcm3qDtcUvSFdR0tps+/XUhXT4d7CW/TuG7/2t5Rl8Qp0VJqVThiodbhB9+bkrSWTDTpVctgrdfxQQ7cA0cjHfiDAbV1DEwx7UIipXqKi+BKPt9snhcwpLbp/T6LiWqUJdsVlA7M1TYBKYL1BQ7sp2JtmzXKbRZceF26gnJzSacZn/ZKmTfbQzfWLo1J8nuQrUINnGqdR0d77x2phbBpNmhJ4Kxk/NWi6BYSddvE+wxfSJanOpXhEnW/BM92/W3tffyiWiIpWJHPk2OJT1ivP9RB2fbhKfFxolH2/xjZ2JOj/LpOi/tyKYgRGoRtL5M+96WSC2Csz5xPb6aWQWrRVAoBg3IXZ2I6B9cc4ufpi3+uPunYv4Jr3mwmwFqiKUSSz5NjiUtCsFue7u8nanAaSbm5LiKF5WSb7oDJwjseoXArvVnahEMCdci+CSV1TUFr0VQCHweFx63C8jN5xT9g0vkZA77FFJFnc5KMuTTwV7SohAaEFIneibm5Lgq9DqCrpPHaN/1CoFd66JqEYxmyJXzQ7UIzp1YEplHc0l7sCenDvvo+grxBul4JVMToU5nJRny6WAvaVE4d8hAPB53H/V0ihOPJvpHbpcLvhDrCLo+OhpVi+AtwrUIhs68PZSC+pzxJSkEE88ZxIHjHVlfwT3U62FQZUXSn1PYdJhsVtIXdh6N/O00eGdacrI/h1gqqZGvmhUlLQpVPg/ftVkBCokzWtrNxKKzWuZr6A3VIgjlGeo8FFWL4JN/FnoiOHtsnlqSO/YcOcWfzxzLCzuPRj6nay8Zya837k8pU2ssIomdv2HCA+38qdW2qcztiJ445Grw7q8hlkrxUtKiAPHV0y66A+x/zLFhgrkM1I3UImhdR+fhtwEYcO4Eqq65O/REMLy8BgRDaNYdPaNubvHz642JB/N4tAWCvWbzTsQGF5xIQhCg98Qhl4O3Vi1TiomSFwUnon9oTisBv9u8nd9sfC9r4adORGoRWEIQ/GAfAAPOq6Fq9hfLthZBNLGRPA8u257RUwKEBu1EDlk7804y1c7sJg46eCv9gbIVhUR8t3l7UmaHdAnVIniHU63rY2oRTGLYdffhu/jqsq9FEE0qkTyxDPN5+qSiDg/a8Xw/TuYdO1OQxy0MGlDBifagmnCUfk3Zi0Jzi5+FT22LpDnwt7Wz8KltdOXg6cAYQ+ehXZEylV1t75+pRVB7C76JV+M+a1jWr1vsxA7OqYRbej1uHr75MsDZdGPnP6ryevjBLfYRQWrHVxRnyl4UfrBiR5+8N7GvMyFUi2BnRAjO1CK4giEzb8c3cWa/rkUAUD+9t9klkfnGrkYy2K/wTXeAV1OQothT9qKQTJRJqpypRbCOwK5XztQiGD8N36c+j3fCDNwDz8r6dUuVWGdweB2InTQ7hXgmk778x3dcoQO9omRI2YtCtgjVIng9VJRm9yv0BE4gFZV4L5weSkF90ZUlWYsgXaqtsNLoMFOn2X+suWj+1Go27zvGExv2J4wKA/sMkQuf2gZCZL2B5gxSlOxQ9qKQSQ4j0xWkfd9WAjvX0b5nAz0dJ5EBXqsoTR3eC2txDRiYzeYWNYkWajllcrRbE/Lo/MnUXjA8KbOPnWPazgSoOYMUJXPKWhSaW/wpC0KkFkHrOgJ7NoVqEVQOwjfhqrKsRZAsyeT2SXWBV7J2/VQc08WSMyhfBVEUJduUvCjE+/EtWdOa1Dl6Ottpf3szgV3re9Ui8NXUMahmVr+qReBxCxUu6ZVTKNncPrmK6klmXUH0voUmnwVRFCXblLQoxKunMH9qddxZY8/pUwT2bAplHn1nC6arE5evikGXzcZX80kGnn95SdUiyFaq7yUNUzIauHIR1WO7rsAlvXwKUDw5g+zMXWraUkqF0hn1bHCqpxD+8cXOMLvbP6Z9z8ZQdbLoWgRT5uK7eBaVYyb1qkXg9bhymoUzFrdL6I6ylbtdgukxxLbA7RLuvOr8Xk7eZHM+xaO6yluUg5bTE4jdtmJov6bDVkqZkhYFp3oK4R/fwrk13P+//8CpXa8QaF1Hx/7XI7UIhky7Ce/Fdba1CKJLMY5btDqttjkVf3FBn0He4xaWNEwB7Ae+6ARuyZhyos9x6nRXUmG5xTLLdsLpCaQYRCAWTYetlDIlXaP5rDE15uzP/6jP9pGuU3yh+ihNTU28+Ic/YHpCtQh8NXX4auoYen4NDbVjIjPtKp8HY7BNcRCvLm84LDO2cLzX4+axBZMB+5lsPp2QdvWAvR439dOr+zxpFOMAW4o49fljCyZrHytFQbwazUUlCiIyD/gJ4AZ+YYxZHG//CZOmGE/9P9Ae7KbroyMEWl+hY9c6OvxvYYzhkksuoaGhgeGXX8NT77g4dKIj5QEwmR94sUeaFHv7yhHtc6WYKQlREBE3sAu4HjgAvArcaYx50+mYyZMnm2nX3cqypiZOHtgJwLiJl/LFu+6kvr6eSZMmZaVt+gNXFKWcKBVRuBr4gTFmrvX6QQBjzGNxjjEA06dPp6Ghgfr6eiZOnJiX9iqKopQqpSIKDcA8Y8xfWq/vAmYYY/46Zr/7gPusl5cDb+S1oaXD2cAHhW5EEaL94oz2jT3l2C8XGGNsc/eXXPSRMeZx4HEAEdnspHb9He0be7RfnNG+sae/9Ysr8S55ww+cH/V6jLVNURRFyRPFJAqvAhNFZLyIDAD+FFhR4DYpiqL0K4rGfGSM6RKRvwbWEApJ/Q9jzI4Ehz2e+5aVLNo39mi/OKN9Y0+/6peicTQriqIohaeYzEeKoihKgVFRUBRFUSKUrCiIyDwRaRWRPSKyqNDtySci8h8ickRE3ojaNlxEnhOR3db/w6ztIiL/bPXT6yIyrXAtzy0icr6IvCAib4rIDhH5urVd+0ZkoIhsEpFtVt88Ym0fLyIbrT5YagV5ICKV1us91vvjCnoDOUZE3CLSIiKrrNf9tl9KUhSslBj/CnwWmATcKSLZyWlRGvwfYF7MtkXA88aYicDz1msI9dFE6999wM/y1MZC0AX8jTFmEjAT+Kr1vdC+gdPAHGPMFOAKYJ6IzAT+AfixMWYCcBy419r/XuC4tf3H1n7lzNeBt6Je999+McaU3D/gamBN1OsHgQcL3a4898E44I2o163AaOvv0UCr9fe/E8oh1We/cv8HLCeUS0v7pne/+IDXgBmEVupWWNsjvytCUYBXW39XWPtJodueo/4YQ2iyMAdYRahmVb/tl5J8UgCqgfeiXh+wtvVnRhljDll/vw+Msv7ul31lPdZPBTaifQNETCRbgSPAc8DbQJsxpsvaJfr+I31jvX8CGJHXBuePfwK+zZlSJyPox/1SqqKgxMGEpjH9NtZYRM4CmoAHjDEfRb/Xn/vGGNNtjLmC0Mz4KuCSwrao8IjITcARY8yWQrelWChVUdCUGH05LCKjAaz/j1jb+1VfiYiHkCA8YYxZZm3WvonCGNMGvEDILFIlIuFFrNH3H+kb6/2hwIf5bWleqANuEZG9wG8JmZB+Qj/ul1IVBU2J0ZcVwD3W3/cQsqeHt99tRdrMBE5EmVLKChER4JfAW8aY6JJ82jciI0WkyvrbS8jX8hYhcWiwdovtm3CfNQBrraesssIY86AxZowxZhyhcWStMebP6c/9UminRgbOoRsIFeV5G3io0O3J873/BjgEBAnZO+8lZNd8HtgN/B4Ybu0rhCK13ga2A7WFbn8O++WThExDrwNbrX83aN8YgE8ALVbfvAF839p+IbAJ2AM8BVRa2wdar/dY719Y6HvIQx/NBlb1937RNBeKoihKhFI1HymKoig5QEVBURRFiaCioCiKokRQUVAURVEiqCgoiqIoEVQUlH6NiHSLyFYReUNEnhIRXwbn+j8i0mD9/Yt4SRpFZLaIzErjGntF5Ox026goiVBRUPo77caYK4wxlwOdwJej34xa1ZoSxpi/NMa8GWeX2UDKoqAouUZFQVHO8BIwwZrFvyQiK4A3rURyS0TkVavuwn+DSD2Gf5FQXY/fA+eETyQiL4pIrfX3PBF5zapl8LyVrO/LwDesp5RPWSuOm6xrvCoiddaxI0Tkd1YNhF8QWnCnKDkjrVmQopQb1hPBZ4FnrU3TgMuNMe+KyH2EUmBcKSKVwDoR+R2hLKw1hGp6jALeBP4j5rwjgf8FXGOda7gx5piI/Bw4aYz5n9Z+vyaUv/9lERlLKEXzpcDDwMvGmL8VkRs5k9dfUXKCioLS3/Fa6aQh9KTwS0JmnU3GmHet7Z8BPhH2FxBKgjYRuAb4jTGmGzgoImttzj8T+GP4XMaYYw7t+DQwKZS+CYAhVrbXa4AF1rGrReR4erepKMmhoqD0d9pNKJ10BGtgPhW9CfiaMWZNzH43ZLEdLmCmMabDpi2KkjfUp6AoiVkDfMVKy42IXCwig4A/AndYPofRwLU2x24ArhGR8daxw63tHwODo/b7HfC18AsRucL684/An1nbPgsMy9ZNKYodKgqKkphfEPIXvCYibxAq41kBPE0o8+qbwK+AV2IPNMYcJVT/eZmIbAOWWm+tBG4LO5qB+4Fay5H9JmeioB4hJCo7CJmR9ufoHhUFQLOkKoqiKGfQJwVFURQlgoqCoiiKEkFFQVEURYmgoqAoiqJEUFFQFEVRIqgoKIqiKBFUFBRFUZQI/x8ab+nII5lZYQAAAABJRU5ErkJggg==\n",
      "text/plain": [
       "<Figure size 432x288 with 1 Axes>"
      ]
     },
     "metadata": {
      "needs_background": "light"
     },
     "output_type": "display_data"
    }
   ],
   "source": [
    "print(\"Train MSE\\t\", str(train_MSE))\n",
    "print(\"Test MSE\\t\", str(test_MSE))\n",
    "\n",
    "plot_pred_true(test_pred.flatten(), test_y)"
   ]
  },
  {
   "cell_type": "markdown",
   "metadata": {},
   "source": [
    "We're making significant improvements! About $10 \\%$ of the previous MSE can be accounted for with this set of parameters.\n",
    "\n",
    "## e) Set data\n",
    "\n",
    "There is another type of data - stored in the host_verifications column - that we haven't used yet. This is set data, best encoded with a many-hot vector.\n",
    "\n",
    "This particular column does not turn out to be particularly informative, but it is valuable to work with it firsthand.\n",
    "\n",
    "The set data happens to be stored in a format that is very close to a valid declaration of a Python string array, so all we have to do is a little parsing:"
   ]
  },
  {
   "cell_type": "code",
   "execution_count": 191,
   "metadata": {},
   "outputs": [
    {
     "name": "stdout",
     "output_type": "stream",
     "text": [
      "['email', 'phone', 'facebook', 'google', 'reviews']\n",
      "<class 'str'>\n"
     ]
    }
   ],
   "source": [
    "unparsed_str = train_x.loc[:, 'host_verifications'][0]\n",
    "print(unparsed_str)\n",
    "print(type(unparsed_str))"
   ]
  },
  {
   "cell_type": "code",
   "execution_count": 192,
   "metadata": {},
   "outputs": [
    {
     "name": "stdout",
     "output_type": "stream",
     "text": [
      "['email', 'phone', 'facebook', 'google', 'reviews']\n",
      "<class 'list'>\n",
      "[<class 'str'>, <class 'str'>, <class 'str'>, <class 'str'>, <class 'str'>]\n"
     ]
    }
   ],
   "source": [
    "parsed_str = train_x.loc[:, 'host_verifications'][0].strip('[]').replace('\\'','').split(', ')\n",
    "print(parsed_str)\n",
    "print(type(parsed_str))\n",
    "print([type(i) for i in parsed_str])"
   ]
  },
  {
   "cell_type": "markdown",
   "metadata": {},
   "source": [
    "Write a helper function (using the previos two code blocks as reference) that will parse the strings found in the host_verifications column into appropriate string arrays."
   ]
  },
  {
   "cell_type": "code",
   "execution_count": 193,
   "metadata": {},
   "outputs": [],
   "source": [
    "def parse_str(string):\n",
    "    return np.array(string.strip('[]').replace('\\'','').split(', '))"
   ]
  },
  {
   "cell_type": "markdown",
   "metadata": {},
   "source": [
    "Now apply this function elementwise to the column host_verifications; note that a column of dataframe is a Series object; and Series object use the method .apply as opposed to .applymap."
   ]
  },
  {
   "cell_type": "code",
   "execution_count": 194,
   "metadata": {},
   "outputs": [
    {
     "name": "stdout",
     "output_type": "stream",
     "text": [
      "(20760,)\n",
      "(5191,)\n"
     ]
    }
   ],
   "source": [
    "train_set_vals = train_x['host_verifications'].apply(parse_str)\n",
    "test_set_vals = test_x['host_verifications'].apply(parse_str)\n",
    "\n",
    "print(train_set_vals.shape)\n",
    "print(test_set_vals.shape)\n",
    "# print(type(train_set_vals[0]))"
   ]
  },
  {
   "cell_type": "markdown",
   "metadata": {},
   "source": [
    "By the way, if you are working on your project, there is a decent chance that sets were stored in a format similar to what we saw here. Using similar string compositions, you will likely be able to similarly parse the data into Python container types (whether arrays or proper Python sets).\n",
    "\n",
    "Now, take this array of arrays, and turn it into a many-hot vector. You are welcome to use the nested loop structure below, or array comprehensions, or even the DataFrame object if you wish."
   ]
  },
  {
   "cell_type": "code",
   "execution_count": 195,
   "metadata": {},
   "outputs": [],
   "source": [
    "# This is the collection of all types we need to worry about.\n",
    "vtypes = train_set_vals.explode().unique()\n",
    "\n",
    "def manyhot(column=None, col=None):\n",
    "    \n",
    "    ### YOUR CODE HERE\n",
    "    \n",
    "    column_arr = np.array(column)\n",
    "    encodings = np.zeros(shape=(column_arr.size, len(col)))\n",
    "    for i in range(len(col)):\n",
    "        for j in range(column_arr.size):\n",
    "            if col[i] in column_arr[j]:\n",
    "                encodings[j][i] = 1\n",
    "    return encodings"
   ]
  },
  {
   "cell_type": "code",
   "execution_count": 196,
   "metadata": {
    "scrolled": true
   },
   "outputs": [
    {
     "name": "stdout",
     "output_type": "stream",
     "text": [
      "(20760, 22)\n",
      "(5191, 22)\n"
     ]
    }
   ],
   "source": [
    "train_set_vals = manyhot(train_set_vals, vtypes)\n",
    "test_set_vals = manyhot(test_set_vals, vtypes)\n",
    "\n",
    "print(train_set_vals.shape)\n",
    "print(test_set_vals.shape)"
   ]
  },
  {
   "cell_type": "markdown",
   "metadata": {},
   "source": [
    "We will attach it to the full list of values used so far, but it won't change the MSE much, unfortunately:"
   ]
  },
  {
   "cell_type": "code",
   "execution_count": 197,
   "metadata": {},
   "outputs": [],
   "source": [
    "train_vals = np.concatenate((train_set_vals, train_cat_vals, train_vals_from_string, train_vals_real, train_bv, np.ones(n_train).reshape((n_train, 1))), axis = 1)\n",
    "\n",
    "test_vals = np.concatenate((test_set_vals, test_cat_vals, test_vals_from_string, test_vals_real, test_bv, np.ones(n_test).reshape((n_test, 1))), axis = 1)"
   ]
  },
  {
   "cell_type": "code",
   "execution_count": 198,
   "metadata": {},
   "outputs": [
    {
     "name": "stdout",
     "output_type": "stream",
     "text": [
      "Train MSE\t 4947.910778696276\n",
      "Test MSE\t 5157.829527486986\n"
     ]
    },
    {
     "data": {
      "image/png": "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\n",
      "text/plain": [
       "<Figure size 432x288 with 1 Axes>"
      ]
     },
     "metadata": {
      "needs_background": "light"
     },
     "output_type": "display_data"
    }
   ],
   "source": [
    "train_MSE, test_MSE, test_pred = run_OLS(train_y, test_y, train_vals, test_vals)\n",
    "\n",
    "print(\"Train MSE\\t\", str(train_MSE))\n",
    "print(\"Test MSE\\t\", str(test_MSE))\n",
    "\n",
    "plot_pred_true(test_pred.flatten(), test_y)"
   ]
  },
  {
   "cell_type": "markdown",
   "metadata": {},
   "source": [
    "## f) Location, location, location\n",
    "\n",
    "If you remember, a common refrain in Real Estate is \"location, location, location.\" We're treating Manhattan properties with the same formula as Staten Island!\n",
    "\n",
    "The most naive way to include location data would be with the categories \"latitude\" and \"longitude\" - after all, these are continuous variables, so why not include them in the simplest manner possible?\n",
    "\n",
    "Load the longitude and lattitude data in, then try to see what the MSE is if you use *only* these variables,"
   ]
  },
  {
   "cell_type": "code",
   "execution_count": 199,
   "metadata": {},
   "outputs": [
    {
     "name": "stdout",
     "output_type": "stream",
     "text": [
      "Train MSE\t 9862.557467279335\n",
      "Test MSE\t 9817.759379066667\n"
     ]
    },
    {
     "data": {
      "image/png": "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\n",
      "text/plain": [
       "<Figure size 432x288 with 1 Axes>"
      ]
     },
     "metadata": {
      "needs_background": "light"
     },
     "output_type": "display_data"
    }
   ],
   "source": [
    "loc_labels = ['latitude',\n",
    "             'longitude']\n",
    "\n",
    "train_loc_vals = np.concatenate((train_x[loc_labels], np.ones(n_train).reshape((n_train, 1))), axis = 1)\n",
    "test_loc_vals = np.concatenate((test_x[loc_labels], np.ones(n_test).reshape((n_test, 1))), axis = 1)\n",
    "\n",
    "train_loc_vals = np.array(train_loc_vals)\n",
    "test_loc_vals = np.array(test_loc_vals)\n",
    "\n",
    "train_MSE, test_MSE, test_pred = run_OLS(train_y, test_y, train_loc_vals, test_loc_vals)\n",
    "\n",
    "print(\"Train MSE\\t\", str(train_MSE))\n",
    "print(\"Test MSE\\t\", str(test_MSE))\n",
    "\n",
    "plot_pred_true(test_pred.flatten(), test_y)"
   ]
  },
  {
   "cell_type": "markdown",
   "metadata": {},
   "source": [
    "Clearly, this is insufficient. The reality is that price is a highly nonlinear function of location; simply going north or south does not directly translate into rental price.\n",
    "\n",
    "There are several solutions. We could expand our basis of functions, for instance, to use more than linear functions of longitude and lattitude:"
   ]
  },
  {
   "cell_type": "code",
   "execution_count": 200,
   "metadata": {},
   "outputs": [],
   "source": [
    "tr_lat = train_loc_vals[:,0]\n",
    "tr_long = train_loc_vals[:,1]\n",
    "train_lv2 = np.transpose( np.vstack([tr_lat, tr_long,\n",
    "                           tr_lat**2, tr_long**2, np.multiply(tr_lat,tr_long)]) )\n",
    "\n",
    "te_lat = test_loc_vals[:,0]\n",
    "te_long = test_loc_vals[:,1]\n",
    "test_lv2 = np.transpose( np.vstack([te_lat, te_long,\n",
    "                           te_lat**2, te_long**2, np.multiply(te_lat,te_long)]) )"
   ]
  },
  {
   "cell_type": "code",
   "execution_count": 201,
   "metadata": {},
   "outputs": [
    {
     "name": "stdout",
     "output_type": "stream",
     "text": [
      "Train MSE\t 9393.945052190556\n",
      "Test MSE\t 9393.008084218009\n"
     ]
    },
    {
     "data": {
      "image/png": "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\n",
      "text/plain": [
       "<Figure size 432x288 with 1 Axes>"
      ]
     },
     "metadata": {
      "needs_background": "light"
     },
     "output_type": "display_data"
    }
   ],
   "source": [
    "train_MSE, test_MSE, test_pred = run_OLS(train_y, test_y, train_lv2, test_lv2)\n",
    "\n",
    "print(\"Train MSE\\t\", str(train_MSE))\n",
    "print(\"Test MSE\\t\", str(test_MSE))\n",
    "\n",
    "plot_pred_true(test_pred.flatten(), test_y)"
   ]
  },
  {
   "cell_type": "markdown",
   "metadata": {},
   "source": [
    "This helps somewhat with a small nonlinear basis, and a lot with a large basis.\n",
    "\n",
    "There are many different types of nonlinear location basis, of course. We've used a simple polynomial basis above. We might choose a Fourier basis instead; this is especially useful if we believe our data will have strong periodic components, but really this will handle any data in a confined space (assuming our data is sufficiently densely sampled to avoid horrible artefacts).\n",
    "\n",
    "There is a far simpler basis, however, which will work great in our case. Imagine a function that has value $1$ within a specific, closed region - say, an island, or a zip code. Now imagine we have a large list of such functions, which collectively tile the entire region of interest. Bonus points if the regions do not overlap, though that is technically not even necessary.\n",
    "\n",
    "Now, these functions are going to have fewer nice mathematical properties than Fourier features, or wavelets, or even polynomials - two adjacent points will tell us nothing about each other if they are on different sides of one of these artificial borders - but these functions might be very easy to compute. Taking a quick look at the list of columns, it seems we have a number of categorical location parameters to choose from.\n",
    "\n",
    "  - street\n",
    "  - neighbourhood\n",
    "  - neighbourhood_cleansed\n",
    "  - neighbourhood_group_cleansed\n",
    "  - city\n",
    "  - state\n",
    "  - zipcode\n",
    "  - market\n",
    "  - smart_location\n",
    "  - country_code\n",
    "  - country\n",
    "  \n",
    "Use one of the most granular descriptions available - zipcode - and see if that is a good descriptor of location.\n",
    "\n",
    "In the next cell, build a model using this parameter ONLY and print the train and test MSE.\n",
    "\n",
    "Note that it may seem cumbersome to put 'zipcode' in a list, but formatting the one-hot encoding as before ensures the methods are able to handle correct data types (e.g. no data type errors arise between Series vs Dataframe)"
   ]
  },
  {
   "cell_type": "code",
   "execution_count": 202,
   "metadata": {},
   "outputs": [
    {
     "name": "stdout",
     "output_type": "stream",
     "text": [
      "Number of categories\t 189\n"
     ]
    }
   ],
   "source": [
    "l = ['zipcode']\n",
    "\n",
    "cats_sets = [train_x.loc[:,i].fillna('NaN').unique() for i in l]\n",
    "print(\"Number of categories\\t\", len(cats_sets[0]))\n",
    "\n",
    "train_zip = onehot(train_x[l], cats_sets[0])\n",
    "test_zip = onehot(test_x[l], cats_sets[0])\n"
   ]
  },
  {
   "cell_type": "markdown",
   "metadata": {},
   "source": [
    "Now add an offset feature to 'train_zip' & 'test_zip' to create 'train_zip_only' & 'test_zip_only' and then fit your model. "
   ]
  },
  {
   "cell_type": "code",
   "execution_count": 203,
   "metadata": {},
   "outputs": [
    {
     "name": "stdout",
     "output_type": "stream",
     "text": [
      "Train MSE\t 8651.360018395235\n",
      "Test MSE\t 8846.119030828413\n"
     ]
    },
    {
     "data": {
      "image/png": "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\n",
      "text/plain": [
       "<Figure size 432x288 with 1 Axes>"
      ]
     },
     "metadata": {
      "needs_background": "light"
     },
     "output_type": "display_data"
    }
   ],
   "source": [
    "train_zip_only = np.concatenate((train_zip, np.ones(n_train).reshape((n_train, 1))), axis = 1)\n",
    "test_zip_only = np.concatenate((test_zip, np.ones(n_test).reshape((n_test, 1))), axis = 1)\n",
    "\n",
    "train_MSE, test_MSE, test_pred = run_OLS(train_y, test_y, train_zip_only, test_zip_only)\n",
    "\n",
    "print(\"Train MSE\\t\", str(train_MSE))\n",
    "print(\"Test MSE\\t\", str(test_MSE))\n",
    "\n",
    "plot_pred_true(test_pred.flatten(), test_y)"
   ]
  },
  {
   "cell_type": "markdown",
   "metadata": {},
   "source": [
    "It might not look like much, but it's certainly better than raw longitude and lattitude. Compound the zip code data with the features that we've already accumulated, and print out the MSE scores and draw the plots for the full set:"
   ]
  },
  {
   "cell_type": "code",
   "execution_count": 204,
   "metadata": {},
   "outputs": [],
   "source": [
    "train_vals = np.concatenate((train_zip, train_set_vals, train_cat_vals, train_vals_from_string, train_vals_real, train_bv, np.ones(n_train).reshape((n_train, 1))), axis = 1)\n",
    "\n",
    "test_vals = np.concatenate((test_zip, test_set_vals, test_cat_vals, test_vals_from_string, test_vals_real, test_bv, np.ones(n_test).reshape((n_test, 1))), axis = 1)"
   ]
  },
  {
   "cell_type": "code",
   "execution_count": 205,
   "metadata": {},
   "outputs": [
    {
     "name": "stdout",
     "output_type": "stream",
     "text": [
      "Train MSE\t 3950.210964162433\n",
      "Test MSE\t 4271.5795785523405\n"
     ]
    },
    {
     "data": {
      "image/png": "iVBORw0KGgoAAAANSUhEUgAAAYUAAAEGCAYAAACKB4k+AAAAO3RFWHRTb2Z0d2FyZQBNYXRwbG90bGliIHZlcnNpb24zLjUuMGIxLCBodHRwczovL21hdHBsb3RsaWIub3JnLwiMSToAAAAJcEhZcwAACxMAAAsTAQCanBgAADL1SURBVHic7Z17nFTVle+/q5sCulFokAaxBcHENDExvhjBgO8kqImKSrdBTTRxxsnMJBNNhgQzzkRzc2/Mh8mYzCTXXK96J5kkhm6VFkUFI/qJoGJAMIjSvhUbjSg0SldBP9j3j3NO9amqc6pOPU491/fz4UPVee7aVX1+e6+19lpijEFRFEVRAOpK3QBFURSlfFBRUBRFUeKoKCiKoihxVBQURVGUOCoKiqIoSpwRpW5APkycONFMnz691M1QFEWpKDZu3PieMabZa19Fi8L06dPZsGFDqZuhKIpSUYjIG3771HykKIqixFFRUBRFUeKoKCiKoihxVBQURVGUOCoKiqIoSpyKjj5SFKV86NrUw9JV3ezojXFYUwOL57ey4PiWUjdLyRIVBUVR8qZrUw/X3bOF2MAQAD29Ma67ZwuACkOFoeYjRVHyZumq7rggOMQGhli6qrtELVJyRUVBUZS82dEby2q7Ur6oKCiKkjeHNTVktV0pX1QUFEXJm8XzW2mI1Cdsa4jUs3h+a4lapOSKOpoVRckbx5ms0UeVj4qCoigFYcHxLSoCVYCajxRFUZQ4KgqKoihKHBUFRVEUJY6KgqIoihJHHc2KopQ1mlOpuKgoKIpStmhOpeKj5iNFUcoWzalUfFQUFEUpWzSnUvFRUVAUpWzRnErFR0VBUZSyRXMqFR91NCuKUrZoTqXio6KgKEpZozmViouajxRFUZQ4KgqKoihKHBUFRVEUJU6ooiAi14rIVhF5TkTuFJHRIjJDRNaLyMsiskxERtrHjrLfv2zvnx5m2xRFUZRUQhMFEWkB/hGYZYz5JFAPfBH4MXCzMeajwG7gKvuUq4Dd9vab7eMURVGUIhK2+WgE0CAiI4BG4G3gTOAue/+vgAX26wvs99j7zxIRCbl9iqIoiovQRMEY0wP8G/AmlhjsATYCvcaYQfuwtwAn1qwF2G6fO2gff0hY7VMURVFSCdN8NB5r9D8DOAwYA5xdgOteLSIbRGTDzp07872coiiK4iJM89FngNeMMTuNMQPAPcBcoMk2JwEcDvTYr3uAqQD2/nHA+8kXNcbcaoyZZYyZ1dzcHGLzFUVRao8wReFNYI6INNq+gbOA54FHgYX2MVcA99qvV9jvsfevMcaYENunKIqiJBGmT2E9lsP4GWCLfa9bge8C3xKRl7F8Brfbp9wOHGJv/xawJKy2KYqiKN5IJQ/GZ82aZTZs2FDqZiiKolQUIrLRGDPLa5+uaFYURVHiqCgoiqIocVQUFEVRlDhaT0FRlLzp2tSjhXCqBBUFRVHyomtTD9fds4XYwBAAPb0xrrtnC4AKQwWi5iNFUfJi6aruuCA4xAaGWLqqu0QtUvJBRUFRlLzY0RvLartS3qgoKIqSF4c1NWS1XSlvVBQURcmLxfNbaYjUJ2xriNSzeH5riVqk5IM6mhVFyQvHmazRR9WBioKiKHmz4PgWFYEqQc1HiqIoShwVBUVRFCWOioKiKIoSR0VBURRFiaOOZkWpITRHkZIJFQVFqRE0R5ESBDUfKUqNoDmKlCCoKChKjaA5ipQgqCgoSo2gOYqUIKgoKEqNoDmKlCCoo1lRagTNUaQEQUVBUWoIzVGkZELNR4qiKEocFQVFURQljoqCoiiKEkd9CopSY2iqi8JSbf2poqAoNYSmuigs1difaj5SlBpCU10UlmrsTxUFRakhNNVFYanG/lRRUJQaQlNdFJZq7E8VBUWpITTVRWGpxv5UR7Oi1BCa6qKwVGN/ijGm1G3ImVmzZpkNGzaUuhmKoigVhYhsNMbM8tqn5iNFURQljoqCoiiKEkdFQVEURYkTqiiISJOI3CUi20TkBRE5WUQmiMjDIvKS/f94+1gRkf8QkZdF5M8ickKYbVMURVFSCTv66GfAQ8aYhSIyEmgEvgc8Yoy5SUSWAEuA7wLnAEfZ/2YDt9j/K4pSBpQ6x0+p718rhCYKIjIOOBW4EsAY0w/0i8gFwOn2Yb8CHsMShQuAXxsrHOope5YxxRjzdlhtVBQlGKXO8ZPr/VVIsidM89EMYCfw/0Rkk4jcJiJjgMmuB/07wGT7dQuw3XX+W/Y2RVFKTKlz/ORyf0dIenpjGIaFpGtTT8itrWzCFIURwAnALcaY44E+LFNRHHtWkNVCCRG5WkQ2iMiGnTt3FqyxiqL4U+ocP7ncv9RCVqmEKQpvAW8ZY9bb7+/CEom/iMgUAPv/d+39PcBU1/mH29sSMMbcaoyZZYyZ1dzcHFrjFUUZptQ5fnK5f6mFrFIJTRSMMe8A20XESQJyFvA8sAK4wt52BXCv/XoF8GU7CmkOsEf9CYpSHpQ6x08u989XyLo29TD3pjXMWLKSuTetqRmzU9jRR98AfmtHHr0KfAVLiDpE5CrgDaDdPvYB4FzgZSBqH6soShlQ6hw/udx/8fzWBOc0BBeyUjvWS4nmPlIUpWrJNfpo7k1r6PEwM7U0NbBuyZlhNLWopMt9pFlSFUWpWhYc35LTyL6W/RGa5kJRFCWJUjvWS4mKgqIoShKldqyXEjUfKYqiJFFqx3opUVFQFEXxIFd/RKWj5iNFURQljoqCoiiKEkdFQVEURYmjoqAoiqLEUVFQFEVR4qgoKIqiKHFUFBRFUZQ4KgqKoihKHBUFRVEUJY6KgqIoihInY5oLERHgMuBIY8wPRGQacKgx5unQW6coSlWRa30DpXgEmSn8b+BkYJH9/kPgF6G1SFGUqsSpZtbTG8MwXM2sVspcVgpBEuLNNsacICKbAIwxu+3ymoqiKL4kzwqi/YMJpTEBYgNDLF3VrbOFMiKIKAyISD1gAESkGTgQaqsURalovGoc+1EL1cwqiSDmo/8AlgOTROR/AmuB/xVqqxRFqWiWrupOmRX4UQvVzCqJjDMFY8xvRWQjcBYgwAJjzAuht0xRlIol6Oi/VqqZlQuDg4M89thjaY8JEn00DYgC97m3GWPezLeBiqJUJ4c1NXiajJoaIowZNUKjj4rI4OAgjz76KJ2dnSxfvpz33nsv7fFBfAorsfwJAowGZgDdwCfybayiKNXJ4vmtCT4FsGYFN5z/CRWBIuAIQUdHB8uXL+f999/noIMO4rzzzqOtrY2LLrrI99wg5qNj3O9F5ATg7/NvtqIo1Uot1zguFQMDAwkzAkcIzj//fNra2pg/fz4NDZn9N1nXaDbGPCMis3NqtaIoNUOt1jguJo4QdHR00NXVlSAE7e3tzJ8/n9GjR2d1zSA+hW+53tYBJwA7smu6oiiKUggGBgZYs2ZNfEawa9cuDj744IQZQbZC4CbITOFg1+tBLB/D3TnfUVEqEE3PEB5h9201fHfphKC9vZ3Pfe5zeQmBm7SiYC9aO9gY808FuZuiVCBeC7Guu2cLQMU9XMqNsPu2kr+7gYEBHnnkETo7O+nq6mLXrl2MHTs2PiMopBC48RUFERlhjBkUkbkFv6uiVBBeC7E0PUNhCLtvK+27cwvB8uXL2b17d1wInBnBqFGjQm1DupnC01j+g80isgLoBPqcncaYe0JtmaKUCX4LsTQ9Q/6E3beV8N319/cnzAgcIbjgggviM4KwhcBNEJ/CaOB94EyG1ysYQEVBqQn8FmJVQ3qGMOzt2Vwz7L4t1++u3ITATTpRmGRHHj3HsBg4mFBbpShlhN9CrEpPzxCGvT3ba4bdt+X03TlC4ISP9vb2MnbsWBYsWEBbWxuf/exnSyYEbtKJQj1wEIli4KCioNQMhViIVY4RMGHY229YsTWra4a9yK3Ui+j6+/v5wx/+EJ8R9Pb2Mm7cuPiMoFyEwE06UXjbGPODorVEUcqYfBZilWsETKHt7V2beuiNDWR9zbAXuRV7EZ0jBB0dHdx7770JQtDe3s5nPvOZshMCN+lEwWuGoChKlpRrBEyh7e1LV3WnvVc109/fz8MPP0xnZ2eCEDimoXIXAjfpROGsorVCUaqYco2AOWNmM7996s0EW3A+9vZ0n6fS/S9eOELgzAj27NlDU1NTwoxg5MjKK1LpKwrGmF3FbIiiVCvlGAHTtamHuzf2JAiCABefmLupxe9zjm+MlNx/Uij279+fMCNwhODCCy+MzwgqUQjcZJ0QT1HypRydrmFSThEwDl4mLQM8um1nztf0+5zfPy+/LPul/r04QtDR0cGKFSsShKC9vZ2zzjqr4oXATeiiYKfK2AD0GGO+ICIzgN8DhwAbgS8ZY/pFZBTwa+BErHURlxhjXg+7fUpxKVenaz74PbTc25saI4waUcee2EBBH2zXd23hzvXbGTIGARpH1hPtH/K8h7s9fuGDPb0xZixZmXUbnWvHBoaoF2HIGFoCXCPTAz+ssNlMIrN//35Wr14dnxF88MEHjB8/nosuuoi2traqEwI3Yky40aX2WodZwFhbFDqAe4wxvxeRXwLPGmNuEZG/Bz5ljPmaiHwRuNAYc0m6a8+aNcts2LAh1PYrhWXuTWs8TQwtTQ2sW3JmCVqUH8kPLbBGxxef2MLdG3tStv/oomOyftD6Pbyu79rCb57yL4Dovp9XOzMRtL1+fZDp3CDnFfr3ku6e5xw9kdWrV8dnBI4QLFiwgPb2ds4888yqEQIR2WiMmeW1ry7kGx8OfB64zX4vWCuj77IP+RWwwH59gf0ee/9Z9vFKFVGuTtdc8YssunP9dt+IoyA4D68ee1TvjJC7NvXEj7lz/fa013Dfz6udmQja3nTRVfmeV+jfS/I9zWA/7z//BFd/9UomTZrE+eefz8qVK1m4cCEPPvgg77zzDnfccQdnn3121QhCJsI2H/0U+A7D6bcPAXqNMYP2+7cAZyjRAmwHsBPx7bGPTygoKiJXA1cDTJs2Lcy2KyFQjk7XfPB7OA35zMCDPsyChLH63cPrfunu6+StybW9uT64g5yX7e8l0+xqR28MM9hP7LVNRLvXEn3pKUx/jLrRB3Hlpe3xGUEkEknb9momtJmCiHwBeNcYs7GQ1zXG3GqMmWWMmdXc3FzISytFYPH8Vhoi9QnbSu10zQe/h1O9zyQ3qPgFeWD63cPrfn73bWlq4LWbPk+Lz/4g7fU7JtO5Qc7L5veSbna1b98+7r33Xvauupnt/3kZO+/5H8Re2cCYmacwqe1GTrr+bm6//Xbmz59f04IA4ZqP5gLni8jrWI7lM4GfAU0i4sxQDgec+XAPMBWstN3AOCyHs1JFLDi+hR9ddAwtTQ0I0NQQYXSkjmuXbWbuTWsSzCOVgN9Da9HsqSnbBWttQBCCPDAXzZ6a9hruh2emh2s+Yp3ruUHOS/69tDQ1+PoqvE1D6/ibr17BpEmTWLBgAfte28jYo09lUtuNHP71/+aQc/6RCa0n8d1z84uQqiZCMx8ZY64DrgMQkdOBfzLGXCYincBCLKG4ArjXPmWF/f5Je/8aE7YXXCkJTtqBaohEypRbx704zAB3b+xh1hETMn6+IGGsP1xwDECg6KNM7cwnR1Cu5wY9L2iaimHT0DP0bXuc2MtP26ahg/nq5ZfQ1tbGGWecwcrn3q2pkOhsCT36CBJE4QsiciSWIEwANgGXG2P2i8ho4L+B44FdwBeNMa+mu65GH1U21RaJlEy+n6/U8fnl0oZM7Nu3j4ceeoi/ueHnvP/CE5YQNIyl8ag5NM6cx5Gfms2T//y5UjezrEgXfVSUxWvGmMeAx+zXrwIneRyzD2grRnuU8qDaIpGSyffzFTuRWzLlPJOLxWKsWrWKjo4O7rvvPvbu3cvBTeMZe/RpjPrYXEZPOwapH0FDpF5NQ1kSakiqoqQjVwdlpVDpny/XUNOwiMViLF++nEsvvZRJkyZx4YUXsnr1ahYtWsTq1at5/92/8F933MZHj/80dfUj0vofFH80zYVSMsox/UMhqfTPVw4zuVgsxkMPPURHRwf3338/e/fuZeLEiSxatIj29nZOP/10RowYfoyVenZVDagoKKGRyR4dRgGUfG3g7vPHNUQQgd5obqkpsvl8hbTdF+papVpTEovFePDBB+ns7EwQgksvvZS2trYUIagEv0clURRHc1ioo7l8yTX1QSnvmSkVRFjtL2Rfleu1MuEIgTMj6OvrY+LEiVx00UW0t7dz2mmnJQhBKdpYTZTc0azUHqUoLJPvPTOlggir/fm0O3mUHO0fLFi/h13KMhqNJswI+vr6aG5u5vLLL6etrc1XCNyUawGjSkZFQQmFUtij871nPikd8iHXdntFB2V7j0wU2kbvCEFHRwcrV65MEIL29nZOPfXUjELgphz8HtWGioISCqWwR+d7T7/zc7lWNuTa7myS3JUy4ikajfLAAw/EZwTRaJTm5ma+9KUv0dbWlrUQuKm2XFrlgIakKqFQihxH+d7T6/xcr5UNubS7a1NPRgELeq0wiEaj3HXXXVxyySU0NzfT1tbGY489xpe//GUeeeQRduzYwS233MKZZ56ZsyBA9eXSKgd0pqCEQtj26Hzu6Retknx+vtFHme7nbveGN3bF01XUi6Qti+mYjfxoaogwZtSIokfj9PX1xWcEK1euJBqNMmnSJK644or4jKC+3l90c6EUv7NqR6OPlJqi2NEqQe6XbZv80mcAROqEpW3HFu2h6CcEF198cWhCUAyqPcxVo48UxcYvWuXG+7aG8kcfJDom2wiadE7Ug0aPCP3h1dfXx8qVK+ns7OSBBx4gGo0yefJkrrzyStra2jjllFMqUggcyjm9RzFQUVBqCr8H6u7oAF2begr+Rx8kOibbCJp0DvHe6ECWLQyGWwhWrlxJLBarKiFwU+thrioKSk2R7oHq/NEX0nQQJDrG75hxDd7FXhbPb+XaZZs9q6UVMurGEYKOjg4eeOCBuBB85Stfob29nXnz5lWNELip9TBXjT5Saop0USk7emOBaiNne79M0TGL57cSqUutotbXP+h53wXHt3DZnGkkn1GIqJu9e/eybNkyFi5cSHNzM5dccgnr1q3jq1/9Ko899hg9PT384he/4LTTTqtKQYDKT2SYL+poVmqOo//lQaIDB1K2OyUpg9ZACDqjCHLc8T9Yze4App/xjRG+f94nMs5oujb1cMOKrfTGrGuKgDHW5zhjZjP3bHwr3gdmIMaJ8hry2lM8+OCDxGIxDj30UC6++GLa29uZO3duzgJQiQ7bckidEXa/qaNZKTnl8nDo2tTDwFDqQChSLyye38o1yzZ7npcsFNk4I4OsCg7qC9gdHWDxXc+mvW7Xph4Wdz7LwIHhz+mM/Xp6Y/zmqTc50B8j9vLTRLvXEXt1A28O9nPQ+Gauuuoq2tra8hICdzsq0WFb6jDXUvebioISOrn+yMMQkqWruhMelg5jRlpRO9/ueJYhj9lzvSQaa/yckf+8fEtBM5J6MTBk0kZL+X1GRwj6utey79WNmMF+6g+awEGf+hyNM+fRePjR/OePz8u67X4U0mFb7EFFKVNwl9rRraKghE4uP/KwRkt+zsI9tpnFSxC8tvtdp69/iOu7tsTrJ3txfdeWhIVqi2ZP9ay9kI500VLuth3YHyX2yp9SheDY+TS2zmXU4UcjYrkWUw1q+VEoh22pR87FptSObhUFJRTcIzs/r1VPb4wZS1Z6jvzCGi1ligaqF/EUBhFr0ZgzUh3XEInb65O5c/12X1G4vmsLv3nqzfj7IWPi73900TEZ+8yNX19MbjC8svGP3kIwcx6jWj4eFwI3ybOhfClUXqJSj5yLTanzOakoKAUl2cGZCXeEDwyP/LIZLWVjWshUDc1vpmDMsF+hpzdGpN7/ATpkTIKAuNtz5/rtnuc4QuI4kL93z589neFu3H3x4Ycfct9999HZ2ckzDzzIQP/+QELgZtHsqUDhHOiFqjxX6pFzsSl1xT4VBaVgZCpSk47kkV/Q0VK2poVMTsSWgLZ9L2e1G7eAuNuTyTw1/HkyG3MmNxh+97vf0dnZyYMPPsj+/fs57LDD+Luv/S2Tjz2dZW80sGe/1S/poo9E4LLZ0/jhgmMC92eQ4wrlsC31yLnYlNrRrSGpSkaCjhzT5eRxEPA1jQjw2k2fj98zSFig3z29QkiDkI+wpcNpz0eue8DXkf3Kj871/TxOvx3YHyX68nr2v/gE+19/hoF+Swja2tpoa2vj5JNPpq4udUaQ73eY3J+F7vd0lEOIaLWhIalKzmQzEs80nXceGH4PFPfIL+hoKR/TQroHpXt73/5BT3NYS1MD0w9pYN0ruzLey2nPotlTE3wKDo7pxqvdjhCYV59kV/efYGiAQyYdylV/97W0QuD+nPl+h8nbi2nSKfXIudZQUVDSko2TL11YpdsmGtRmGiQsMFfTQqYHpfu+yc5hhzNmNnP/s2+nvU9yexwHdHL0kbPd+TyOEES3rSX22jNxIbjmG/9AW1sbc+bMSSsEbgrxHSb3Z7FNOqUMEa01VBSUtGQzIvQLq3SvwoXCjvxydcpl86B8dNtOz2s8um1nIId6cnt+uOAYz+ikDz74gL8afI5Nd/+O2GsbYWiQ+oMncvDx59LYOo8jjz6Om7/3mYz3Sybf79CrP0vtDFXCQ0VBSSDZpNLUGPFMv+A1IkxXpGbpqu6EY9wjP+ee1y7bnFEgnGN7emPx8NExIxNX3sYGhrhm2WauXbaZT39kAq+/H4t/njNmNnP3xrd8Hbk9vbF45JDTfr/0E0Ec0u6COcl9e8bMZh7e/BqvbvwjQ688wYcvb2RwoN8Wgs8zZuY8Rh7WGo8aevuD/Ql9EFRQsxnVBxFs5/6xgaH4d9CiJp2qQR3NShwvh16kTkASo22COPmCOgezcSKG5QR2k84RnisNkXpOmDaOJ17ZZTuL+4i+tJ5ot2MaGqT+4GbGHj2P73ztSlbsaGSHLQBunAdvtk7XQjpq1elbHaijWQmEl0ll4IDJqbxjUPNMNmacbArV50IYggDW53n8+e2WEGx7nNjrm+JCYM0ITmHkYR9DpI773mngO+f4m2ZyWchVSHNdrS0kq0VUFJQ46VJAbP7+5wpyrXyiWMJerFRoQTiwb++ws9gtBCd8gTGt8+JC4GZHbyztQ/xan4R9mfqmUI7aWltIVouoKChxChlRkm8US1NjaoGZbJLGlYz9fex96Sk7amgTHBikfqwtBDNPYeSUjyFp0kk4/eP3EC/1Qq5S318JHy2yo8QJUhCm0NdaPL/VM2XE3n2pBWa8rlkOHNi3l71bHuG9u3/A9p9fxvsrb6Z/5+uMPfE8Dv3STzj8a3cw4cy/ZtRhrWkFIUhfZ/sddW3qYe5Na5ixZCVzb1qTc7GgXO+vVB46U1ASolmaGiOMGlHHnthAXrbndCaQrk093Hjf1rRFZQYOmBQ7tfuapZ4xHNi31+UstmYEY5uncO03v8mkY0+n660G3t6zj8PsBW6OkzkZJ3qnXiRum9/wxi4e3bbT0/6fjX8gjOyiupCs+tHooxon12iSXPLbZ5ssLznthTvUta9/MGP+oaD4ZUZNZuRgH7teeNL2EWy2TUOTGDNzHo2tcxk37ePcdPGnUqKrFt/1bF5tzTW6p5ipKJTKQqOPFF9yrXXgruzV0xtjcedwNTAvru/awm+fejMrZ65jp04WrqCiEgQnXNQvVcXQvr3EHB+BSwjGzjqfxta5CT6CfYMHUvrtxvu25i1euUb3FNspXC7V9ZT8UFGoMArxhxek1kG6B8cNK7amVPYaOGC4YUVqNbAgpiIv3HbqsEJRnbh/Z2Gdw9C+vcRefNKqR/D6s4lCMHMeIw89ytc3kNxv2X5uP3J5kIftFE42O+7dN5gwUKjmQjjVjIpCBVEIG3HQBWDpHhx+I/Xk7bkuNkteHRvGyLZeJG5CuXbZ5iQh2AwHhqgfNzmQELgZ15AaNVUI3LOmQtWOyIfk79ZL/HT9QmWiolBBFGLhUJBRd6EeHLmM8AVS7N1hhKIOGcOuXbvo6uqid/kv6X35GZcQXEDjzFMYeehHAwmBm+TDm9JUaAuK830UunZEPgT9bnX9QuURmiiIyFTg18BkrHVBtxpjfiYiE4BlwHTgdaDdGLNbrL++nwHnAlHgSmPMM2G1r1xIN/JL3uf3YPT7w/O6dqY/0uTkdV7XGO+TD2l80tqCXE0eyZwxs9kzS6mbUSPq6B88kNFnMRT7kNhLTzL0ypNM/skmBgcHmdwyjQmzL2TkUXNzEgI3u6MDTF+yMu0xdUDDyHr6+ocfqu4iOMnRSnV2c/wGBTes2Jr2wR/tH4xXuLthxVYgf5NO0O9W1y9UHmHOFAaBbxtjnhGRg4GNIvIwcCXwiDHmJhFZAiwBvgucAxxl/5sN3GL/X7WkG/kBKfv80jB4/eH5XTtdbWGAfa5EcX7XuPjEFpb9aXuCAzVSL3z/vE8kXMsvmZ4ffjMUvyylbvYPHuDyOdO4/9m3Uz6fIwR929ay741n4cAQTZNb+Na3vkV7ezsnnHAC/3LvcxmFpxAIcPJHJvD067sTthtj5Zk6Y2Yzy57envA99/UPpY1g6o0NxD9z8m8o+bze2EDGoIAgBJm96fqFyiQ0UTDGvA28bb/+UEReAFqAC4DT7cN+BTyGJQoXAL82VozsUyLSJCJT7OtUJenMQX37B1P2GVLz8/j94flde3SkjoZIve/U322O8rvGyj+/zZiRI+IPouTZhcO+AOaFehEOGBMf4QIp9Y2DjkrvXL+d0RFrPeZQ7AOiLz5FtHtYCEY0HcrYv7rQ8hFM/giRk4/gxBOtFNZBhKcQGOCpV3d7hsAOHDDxOgsp+4ZM4NBZ5zt0zvO6TyaTYy71lyP1wpiRI/Je46KUlqL4FERkOnA8sB6Y7HrQv4NlXgJLMNxVzd+ytyWIgohcDVwNMG3atPAaXQT8HnbpRmAGy8SQyUbsd+3e6AA3X3Jc2gVgzrl++5NH//t80lAHqTM8ZKyEe9H+Qa5ZtjlB9JxRb9AZR390D70vPkV02+Pse/PPnkLgNg395qk3eW3nXl5/P1bUxXDpHuyZ9qUTdDeZhDTd/mLWX1bKj9BFQUQOAu4GrjHGfOD+ozTGGBHJKojbGHMrcCtYi9cK2dZi4zcFTzciDLrwKF04opNXx7emspDRLu4m3ygTt7kn+VNbD6Y0D8rYB0RftBaU7XvjWTAHGNE0hbEnXUhja6oQJBOklGahSff9ZvrunRBa50Ec7R9MW+/CT+zS2fqDBjRoNbTqJFRREJEIliD81hhzj735L45ZSESmAO/a23uAqa7TD7e3VS1+IYPpRoJBbbRBwhEXz29NWITmkMsi9x29sZQCOIUiecYxFN1D1F5QliAEsy9izMxTiEw6Mi9ncS7UCRwI0G8NkXpPnwxYPoVLTprKsqe3p3wnkXqJj8STS4UmLwpMKH3q4YuI1Ena35FmQq1twow+EuB24AVjzL+7dq0ArgBusv+/17X96yLyeywH855q9ifA8BTcnfphdKSO0ZE63+ieoCOzINP7Bce35LSwzIvRkboEEQpi+86Goegea0bQvW5YCMZPYezsixkzc15JhMAdMbR4fisb3tiV1lntXn8x64gJCX3f1BDhhvM/Ed/n/k34+Wy6NvVw98aeBEEQiFd6c/C7jx+aCbW2CS33kYjMAx4HtgDOUO97WH6FDmAa8AZWSOouW0R+DpyNFZL6FWNM2sRG1ZD7qJDVznJhxpKVBakjEHSknA1+QtDYOs+eEcwoqhAEMd2lM7u9budxKhRh5TZKlw8L1I9QDZQk95ExZi3WwMWLszyON8A/hNWecqWQ1c5yIZuFYekqkxVKEOJCsG2t5Sx2ZgRzFjKmdV7RhcAh2fTmVSu6panBt49yNaeliwIKy8zjN8uE1DBpTWVRfWiW1BLjN1J3ZwhNppCJx4KmonA7OQu+uthTCA6jcea8kgqBQ7LJJV2f1dcJQx4KefmcafxwwTFZ3ddzFukK+6zzcUqHlQVVs65WD5oltYzJ1n7rFS547bLNXLNsc0rOoEw44pJOECJ1wtK2YxOumUs+o2QsIXjCFoItcSEYO6eNMTPnEmkurRC4SbbBp+uzoQMmPj02WDOERbOnZi0IfvcZGDJxX4OXIIS5YEwd0LWBzhRKTKbRYPJMwDeMNIkW15TfywwQpK6Bk3LBb7FVtngKwYQW20dQXkLghfOAD5IC3DEjZSvUboL6e5IXAAa5Vy6zTZ0pVA/pZgoqCmVAuhTEkOhkzmb9gJfDOlIvYEgJeUxmfGOEz39qSt6pH4b6ei0h6F7LvjefSxKCeUSap5e1EHgxsl7oz6JGQqGL5CSTztToRT6FlXI5Tyk/1HxU5rhjz+fetCYlRNS9cChoqgPwfvAHLfiyOzrAneu3Zz7QA28hOJxxc9porFAhcJONIEDui/u81pp4kW2oaK7ZdnUVc22golBmZLLbFjr+Px3Z3GuobzfRF62kc/u3JwnBx08hMvGInIQgU2W0SiEXu3vyQ9hvFpmtDyEf34CuYq5+VBTKjHSO565NPVnNFMLGVwhObrdmBDkKgZuLT2zh7o35L2xPF05bDHJd+JX8EC5E5JkuTlPSoT6FMsPPbus8HLOJ+qljeNVgoRgWgsfZv31rXAjGzJxXMCFwaMmQv6dUHDVpDG/t3pfwXaTr63Jb+KW+AUUdzRWG18KobGcIhRwZD+3dTfTFJ+jrXhsXgsghU2lsnUfjzLkFFQI3hahaFgbZJKarF+En7ccCqaG8hYhQypVCrnVRKg8VhRKTXLw+SP6ZXOsbF4q4EDgzAoxLCOYxsvmIkrSrkLQ0NXDGzGYe3baTHb0x38VgXiSnrMi0CDFTJJGO1AuHCl5mNPqohHRt6vGsfnXNss3ceN9Wz0RnYCUxK7YgWEKwzvYRDAvBuLlftNJQV4EQONSLpMTWBxVirzlRJjt9JieuFrkvDNnWsVZSUVEImaWrun3DQHdHB1J+sMmzirDxFoJpVSkEbuYcOT5lm/MdfLvj2bQzBq89i+e3poi/k+4aguWY0pXB+ZNruK0yjIpCyGQzQiyWyWhw7y6i3euIdq9LEoJFlmloYmVXtAvC6+8Pfy/J5oZFs6dm7dQHUtXC9T7ImgON/skfTcWRPyoKIZPNCDFTHqJ88BSCibUlBG567KJAkJr58+6NPVx8Ygu/W/+mZ/bX8Y2RlG1LV3WnLBZ010J2rzno6Y0FrrWtZIeG2+ZPzTmac3VC+aVKznT+9V1b8k4VkSuDH74fzzW0/63ncYSgceYpVvbRiVMzXqMcSe7/XDO3NkTqfQsaOdf2MgktXWhFEzm/o3FpoqT8UlCoMzQcqjnctpC/GXU02+TqhEo+z7E3ZzrfqYxVTLyF4AjGzbu0ooXATXL/e63hiNQJB40ekdY3ExsY8p2ZObO3g0aNSIkag8TZRbqwWb8Rqt/KYBWL/KjWVBzFdKDX1EwhXVhgulF/pnBCvyyVQROa5cvgh+8R7bZyDe1/6wUcIYjXI6gCIUiHk73UCS0dHalLqeucLeMbI+wbOOA54gw6M8l2hFrNo1wlPwqdoVbXKdhkSkXsrBx2Hi7OQ/6aZZuzalekDsaMCnfhlacQNE+nsXWulX30kOoWAi+aGiJ84dgpgVJbu8/ZP5j68B81os7z+8tmEeFPLzkuq4e5pqZW/MilGFc61Hxkk8npGxsYSrD/9/TGshYEgIED6U0KuWIJwTqi29axv+d5ACLN0y3TUI0KgZve2EBWgtAQqY+bg5LNDdf6fO9DxgRaLZ7L+m6NnFH8KKYDvaZEIWgq4nLCVwhOudwyDR1yeIlbWF6ke1inq3udPKJPZyIyZE4jYuxrZDNT0MgZxQ+vZ1dYEWs1JQoAo0bUlb0oDH7wHtEX11nO4p4XgMoTglJnJfWiNzbAmFEjuDmAWSfTAMJgicye2IDv58x2hF/MP3ylsiimA71mRKHUuYQyMfiBPSPodgnBpBk0nfIlK/vohMpyNIYtCOlEJ92+oFEbC45vYcMbu9KGE+8fPMDNlxznO6vIdoRfrZEzSmEoVi2LiheFoCF8YS4My5W4EGx7nP07tgGVLQTFxGBFCCWHnCYHC3gluQuS9iBIOLFznUKO8LWIjVJqKloUeu3cQUFid8vFWTf4wU5bCNYmCsGpX6axda4KQUCciJxMg4IZPjWtM/0egg4idvTGdISvVBUVLQrbd0eZEjD5VZB0E2HhCEHftsfp39ENQGTSkSoENo4D2Ov7qa8T6sC3BGWmkXWuztuggwjnOjrCV6qFihYFP3p6Y8xYsjJhxOaEGRbL+Tn4wbtEt62jr3utCgH+8f0C8doSXnH6QwcMYxsjNI70jhrKRK6mnSCDCHUCK9VIRS9eGzXlKDPlip+mPaZOLPtzMT6mlxCMnPwRGlvnWj6C8YeF34gyxInZ9/sKnII1hV6g45BL6givwIRIvTBm5Aj2xAbURKRUNDW9eM0ry2UhGdzzLtHutfRtW0f/28NC0HTaFdaMoIaEwG824JhY/Fbruo8LI04/F9OO+gmUWqXqRSEMVAhSqRM4ePSIlJXcbhNLJjNOLqaeMBPIqZ9AqUVUFAIyuOdd+ratJdq9lv63XwTcQjCPyPgpJW5herLJ2QMgYpncWpoa6Ns/mDFtxwGTmtpjfGMkpdxougd4tqNzLb2oKIWn6n0K+TC45y/0bVuXKASHftQqXt86t+yFAFKTqQXJ+PqT9mMTHqq5LvwLO5GbJpBTlNyoaZ9CtlhC4MwIXgIsIWg67UrLWdx0aIlbGBwv00u69A1+aZqTq4YFpRBrQ9KZhzSBnKIUHhUF/ITgKJpOv9IyDVWIEDiFZXqj/tExyQ/4oFXk3Pb167u2cOf67QwZQ70II0eIZ/2CfB3EmcxDmkBOUQpPzZqPBnrfia8s7n9nWAgaZ84teyFwcvs0NUQQIa0IFIOwisNkMg9pURpFyY2qNx9F6oWhIUOmWluWEKwlum3dsBBMOYqm079i+QjKVAjSpXwuB8IK38xkHtKwUUUpPBUvCo7ZA+CGFVtTImCGhWAt/e+8DPgLgTPy3h0d8My0WSdw6expzDpiQkpBd4CGAGUgnage9yh/XJr7OoVgyv1BF0b4ZhDzkIaNKkphqWhROKZlXEKUifNw+OV9T/CvP72NPc8/niAEzWddRXv7QjbtGplxZBkk/j15P6TG4rsJEhWjhduH0foCilJ8ysqnICJnAz8D6oHbjDE3pTveXaP51VdfpbOzk46ODp555hkADjp8JpGPfpoZJ53Fv3zxtKI8XLs29XDjfVs9UzqrrTt7VCQVpfCk8ymUjSiISD3wIvBZ4C3gT8AiY8zzfuccc8wx5rLLLqOzszMuBCeddBLt7e0sXLiQI444ohhN90QfZoqilCuVIgonAzcYY+bb768DMMb8KM05BmD27Nm0tbWVXAgURVEqgUoRhYXA2caYv7bffwmYbYz5etJxVwNX228/CTxX1IaWPxOB90rdiDJE+yUV7ZNUaqVPjjDGNHvtqDhHszHmVuBWABHZ4Kd2tYr2iTfaL6lon6SifQJ1pW6Aix5gquv94fY2RVEUpUiUkyj8CThKRGaIyEjgi8CKErdJURSlpigb85ExZlBEvg6swgpJvcMYszXDabeG37KKQ/vEG+2XVLRPUqn5PikbR7OiKIpSesrJfKQoiqKUGBUFRVEUJU7FioKInC0i3SLysogsKXV7ioWI3CEi74rIc65tE0TkYRF5yf5/vL1dROQ/7D76s4icULqWh4eITBWRR0XkeRHZKiLftLfXbL+IyGgReVpEnrX75EZ7+wwRWW9/9mV2UAciMsp+/7K9f3pJP0CIiEi9iGwSkfvt9zXfJ24qUhTslBi/AM4BjgYWicjRpW1V0fgv4OykbUuAR4wxRwGP2O/B6p+j7H9XA7cUqY3FZhD4tjHmaGAO8A/276GW+2U/cKYx5ljgOOBsEZkD/Bi42RjzUWA3cJV9/FXAbnv7zfZx1co3gRdc77VP3BhjKu4fcDKwyvX+OuC6UreriJ9/OvCc6303MMV+PQXotl//H6z8USnHVfM/4F6sHFraL9bnawSeAWZjrdYdYW+P/x1hRf2dbL8eYR8npW57CH1xONYA4UzgfqyaVTXdJ8n/KnKmALQA213v37K31SqTjTFv26/fASbbr2uun+wp/vHAemq8X2wzyWbgXeBh4BWg1xgzaB/i/tzxPrH37wEOKWqDi8NPge9AvCbXIWifJFCpoqD4YKxhTU3GGYvIQcDdwDXGmA/c+2qxX4wxQ8aY47BGxycBM0vbotIiIl8A3jXGbCx1W8qZShUFTYmRyF9EZAqA/f+79vaa6ScRiWAJwm+NMffYm2u+XwCMMb3Ao1imkSYRcRatuj93vE/s/eOA94vb0tCZC5wvIq8Dv8cyIf2M2u6TFCpVFDQlRiIrgCvs11dg2dSd7V+2o23mAHtc5pSqQUQEuB14wRjz765dNdsvItIsIk326wYsH8sLWOKw0D4suU+cvloIrLFnV1WDMeY6Y8zhxpjpWM+MNcaYy6jhPvGk1E6NXP8B52IV5XkF+OdSt6eIn/tO4G1gAMv+eRWWnfMR4CXgD8AE+1jBitJ6BdgCzCp1+0Pqk3lYpqE/A5vtf+fWcr8AnwI22X3yHPCv9vYjgaeBl4FOYJS9fbT9/mV7/5Gl/gwh98/pwP3aJ6n/NM2FoiiKEqdSzUeKoihKCKgoKIqiKHFUFBRFUZQ4KgqKoihKHBUFRVEUJY6KglLTiMiQiGwWkedEpFNEGvO41n+JyEL79W3pkjSKyOki8ukc7vG6iEzMtY2KkgkVBaXWiRljjjPGfBLoB77m3ula6ZoVxpi/NsY8n+aQ04GsRUFRwkZFQVGGeRz4qD2Kf1xEVgDP24nllorIn+z6C38L8boMPxerrscfgEnOhUTkMRGZZb8+W0SesWsbPGIn7fsacK09SznFXoF8t32PP4nIXPvcQ0RktV0T4TashXeKEho5jYIUpdqwZwTnAA/Zm04APmmMeU1ErsZKhfFXIjIKWCciq7GysbZi1fSYDDwP3JF03Wbg/wKn2teaYIzZJSK/BPYaY/7NPu53WDn914rINKy0zR8Hvg+sNcb8QEQ+z3Cuf0UJBRUFpdZpsNNLgzVTuB3LrPO0MeY1e/vngE85/gKsxGhHAacCdxpjhoAdIrLG4/pzgD861zLG7PJpx2eAo600TgCMtbO+ngpcZJ+7UkR25/YxFSUYKgpKrRMzVnrpOPaDuc+9CfiGMWZV0nHnFrAddcAcY8w+j7YoStFQn4KiZGYV8Hd2em5E5GMiMgb4I3CJ7XOYApzhce5TwKkiMsM+d4K9/UPgYNdxq4FvOG9E5Dj75R+BS+1t5wDjC/WhFMULFQVFycxtWP6CZ0TkOaxyniOA5VgZWJ8Hfg08mXyiMWYnVh3oe0TkWWCZves+4ELH0Qz8IzDLdmQ/z3AU1I1YorIVy4z0ZkifUVEANEuqoiiKMozOFBRFUZQ4KgqKoihKHBUFRVEUJY6KgqIoihJHRUFRFEWJo6KgKIqixFFRUBRFUeL8f+Xi2qIsM4t1AAAAAElFTkSuQmCC\n",
      "text/plain": [
       "<Figure size 432x288 with 1 Axes>"
      ]
     },
     "metadata": {
      "needs_background": "light"
     },
     "output_type": "display_data"
    }
   ],
   "source": [
    "train_MSE, test_MSE, test_pred = run_OLS(train_y, test_y, train_vals, test_vals)\n",
    "\n",
    "print(\"Train MSE\\t\", str(train_MSE))\n",
    "print(\"Test MSE\\t\", str(test_MSE))\n",
    "\n",
    "plot_pred_true(test_pred.flatten(), test_y)"
   ]
  },
  {
   "cell_type": "markdown",
   "metadata": {},
   "source": [
    "This is by far the best result so far. It seems that location brought in some new information, giving us significantly more predictive power.\n",
    "\n",
    "We are close to the end of all standard techniques (maybe some of the features we've modeled as reals should really be ordinals), but there is one more type of data that we haven't utilized yet."
   ]
  },
  {
   "cell_type": "markdown",
   "metadata": {},
   "source": [
    "## g) Text\n",
    "\n",
    "The following columns consist of long-form textual descriptions:\n",
    "\n",
    "  - name\n",
    "  - summary\n",
    "  - space\n",
    "  - neighborhood_overview\n",
    "  - notes\n",
    "  - transit\n",
    "  - access\n",
    "  - interaction\n",
    "  - house_rules\n",
    "\n",
    "We will experiment with using features from a pretrained neural network to represent this data.\n",
    "The neural network has learned an internal representation (say, at some hidden layer of the network) that it uses to make its predictions on a different task (such as sentiment prediction for sentences). \n",
    "\n",
    "We will use this internal representation directly for our task of AirBnB price prediction.\n",
    "Using an internal representation from an unrelated model as a feature is a common technique known as transfer learning.\n",
    "\n",
    "We will use pretrained features from the Universal Sentence Encoder (USE), which was designed explicitly for transfer learning to different tasks. \n",
    "[This paper](https://static.googleusercontent.com/media/research.google.com/en//pubs/archive/46808.pdf) documents how this neural network architecture was designed and trained: \n",
    "This network consumes text of arbitrary length, and produces a feature vector of length $512$. \n",
    "\n",
    "Your TAs have precomputed these features for all of the columns above into the table \"airbnb-use-embeddings.csv\",\n",
    "available [as a zip file on the course website](https://people.orie.cornell.edu/mru8/orie4741/homework/airbnb-use-embeddings.zip).\n",
    "The id of each AirBnB listing is provided, along with features with names of the form \"column_number:feature_number\". That is, the 468th feature of the 5th text data column (also known as the \"name\" column) will be found at '5:468'.\n",
    "\n",
    "You can use [this demo code](https://tfhub.dev/google/universal-sentence-encoder/2)) to explore the USE embedding further. If you would like to use this (or any other) embedding for your project, you are welcome to come to Office Hours and we will gladly help you with your project."
   ]
  },
  {
   "cell_type": "markdown",
   "metadata": {},
   "source": [
    "Returning to the AirBnB dataset, we can import the data into a new dataframe. Since our training data has been shuffled, we use a dataset join to assemble the data below."
   ]
  },
  {
   "cell_type": "code",
   "execution_count": 206,
   "metadata": {},
   "outputs": [],
   "source": [
    "df_tf = pd.read_csv(\"airbnb-use-embeddings.csv\") # Will take a while to read"
   ]
  },
  {
   "cell_type": "code",
   "execution_count": 207,
   "metadata": {},
   "outputs": [],
   "source": [
    "train_all = train_x.merge(df_tf, on='id',how='left')\n",
    "test_all = test_x.merge(df_tf, on='id',how='left')"
   ]
  },
  {
   "cell_type": "code",
   "execution_count": 208,
   "metadata": {},
   "outputs": [
    {
     "name": "stdout",
     "output_type": "stream",
     "text": [
      "Number of original features \t 93\n"
     ]
    }
   ],
   "source": [
    "print('Number of original features \\t', len(train_x.columns))\n",
    "\n",
    "train_embed = np.array(train_all.iloc[:, len(train_x.columns):])\n",
    "test_embed = np.array(test_all.iloc[:, len(train_x.columns):])"
   ]
  },
  {
   "cell_type": "markdown",
   "metadata": {},
   "source": [
    "To find out how useful these parameters are (or aren't), fit a linear model of price as a function of embedding only (with offset!). Keep in mind that due to the sheer number of parameters to fit, **this step may take several minutes**."
   ]
  },
  {
   "cell_type": "code",
   "execution_count": 209,
   "metadata": {},
   "outputs": [
    {
     "name": "stdout",
     "output_type": "stream",
     "text": [
      "Train MSE\t 4891.554512058409\n",
      "Test MSE\t 8265.085665717581\n"
     ]
    },
    {
     "data": {
      "image/png": "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\n",
      "text/plain": [
       "<Figure size 432x288 with 1 Axes>"
      ]
     },
     "metadata": {
      "needs_background": "light"
     },
     "output_type": "display_data"
    }
   ],
   "source": [
    "train_embed_only = np.concatenate((train_embed, np.ones(n_train).reshape((n_train, 1))), axis = 1)\n",
    "test_embed_only = np.concatenate((test_embed, np.ones(n_test).reshape((n_test, 1))), axis = 1)\n",
    "\n",
    "train_MSE, test_MSE, test_pred = run_OLS(train_y, test_y, train_embed_only, test_embed_only)\n",
    "\n",
    "print(\"Train MSE\\t\", str(train_MSE))\n",
    "print(\"Test MSE\\t\", str(test_MSE))\n",
    "\n",
    "plot_pred_true(test_pred.flatten(), test_y)"
   ]
  },
  {
   "cell_type": "markdown",
   "metadata": {},
   "source": [
    "Two things are readily apparent: this embedding provides a lot of information, but we are massively overfitting. This is to be expected: after all we have $4689$ parameters to fit, but only $20000$ training points.\n",
    "\n",
    "Now, it's important to know whether this embedding is just capturing informaation more succinctly stored in the other columns, or whether its capturing something genuinely novel. For that, you will need to fit a function using all of the parameters currently at your disposal, then compute MSE and plot the predicted vs expected score. **This step may take several minutes**."
   ]
  },
  {
   "cell_type": "code",
   "execution_count": 210,
   "metadata": {},
   "outputs": [],
   "source": [
    "\n",
    "\n",
    "train_vals = np.concatenate((train_embed, train_zip, train_set_vals, train_cat_vals, train_vals_from_string, train_vals_real, train_bv, np.ones(n_train).reshape((n_train, 1))), axis = 1)\n",
    "\n",
    "test_vals = np.concatenate((test_embed, test_zip, test_set_vals, test_cat_vals, test_vals_from_string, test_vals_real, test_bv, np.ones(n_test).reshape((n_test, 1))), axis = 1)"
   ]
  },
  {
   "cell_type": "code",
   "execution_count": 211,
   "metadata": {},
   "outputs": [
    {
     "name": "stdout",
     "output_type": "stream",
     "text": [
      "Train MSE\t 2743.6190457769744\n",
      "Test MSE\t 4976.2020798342\n"
     ]
    },
    {
     "data": {
      "image/png": "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\n",
      "text/plain": [
       "<Figure size 432x288 with 1 Axes>"
      ]
     },
     "metadata": {
      "needs_background": "light"
     },
     "output_type": "display_data"
    }
   ],
   "source": [
    "\n",
    "train_MSE, test_MSE, test_pred = run_OLS(train_y, test_y, train_vals, test_vals)\n",
    "\n",
    "print(\"Train MSE\\t\", str(train_MSE))\n",
    "print(\"Test MSE\\t\", str(test_MSE))\n",
    "\n",
    "plot_pred_true(test_pred.flatten(), test_y)"
   ]
  },
  {
   "cell_type": "markdown",
   "metadata": {},
   "source": [
    "## h) Further improvements?\n",
    "\n",
    "In the above parts, we have seen the strength of adding more (useful) features in improving both training and test performance. In this part, we want to test the idea of whether we can further improve our model by not adding more features, but making wise use of the features.\n",
    "\n",
    "First, we prepare a data-subsampled dataset with only 20% of the training and test data points retained. This saves time for us to test more settings."
   ]
  },
  {
   "cell_type": "code",
   "execution_count": 212,
   "metadata": {},
   "outputs": [],
   "source": [
    "data_sampling_ratio = 0.20\n",
    "train_n_rows_to_sample = int(round(data_sampling_ratio * train_vals.shape[0]))\n",
    "train_idx_rows_to_sample = rand.sample(list(range(len(train_vals))), train_n_rows_to_sample)\n",
    "\n",
    "train_vals_real_small = train_vals_real[train_idx_rows_to_sample, :]\n",
    "train_vals_from_string_small = train_vals_from_string[train_idx_rows_to_sample, :]\n",
    "train_bv_small = train_bv[train_idx_rows_to_sample, :]\n",
    "train_cat_vals_small = train_cat_vals[train_idx_rows_to_sample, :]\n",
    "train_set_vals_small = train_set_vals[train_idx_rows_to_sample, :]\n",
    "train_zip_small = train_zip[train_idx_rows_to_sample, :];\n",
    "train_embed_small = train_embed[train_idx_rows_to_sample, :]\n",
    "\n",
    "train_vals_small = np.concatenate((train_vals_real_small, \n",
    "                train_vals_from_string_small, \n",
    "                train_bv_small,\n",
    "                train_cat_vals_small,\n",
    "                train_set_vals_small, \n",
    "                train_zip_small,\n",
    "                train_embed_small,\n",
    "                np.ones(len(train_vals_real_small)).reshape([len(train_vals_real_small),1]) ), axis=1)\n",
    "\n",
    "train_y_small = train_y.iloc[train_idx_rows_to_sample]"
   ]
  },
  {
   "cell_type": "code",
   "execution_count": 213,
   "metadata": {},
   "outputs": [],
   "source": [
    "# Repeat with test set\n",
    "data_sampling_ratio = 0.20\n",
    "test_n_rows_to_sample = int(round(data_sampling_ratio * test_vals.shape[0]))\n",
    "test_idx_rows_to_sample = rand.sample(list(range(len(test_vals))), test_n_rows_to_sample)\n",
    "\n",
    "test_vals_real_small = test_vals_real[test_idx_rows_to_sample, :]\n",
    "test_vals_from_string_small = test_vals_from_string[test_idx_rows_to_sample, :]\n",
    "test_bv_small = test_bv[test_idx_rows_to_sample, :]\n",
    "test_cat_vals_small = test_cat_vals[test_idx_rows_to_sample, :]\n",
    "test_set_vals_small = test_set_vals[test_idx_rows_to_sample, :]\n",
    "test_zip_small = test_zip[test_idx_rows_to_sample, :];\n",
    "test_embed_small = test_embed[test_idx_rows_to_sample, :]\n",
    "\n",
    "test_vals_small = np.concatenate((test_vals_real_small, \n",
    "                test_vals_from_string_small, \n",
    "                test_bv_small,\n",
    "                test_cat_vals_small,\n",
    "                test_set_vals_small, \n",
    "                test_zip_small,\n",
    "                test_embed_small,\n",
    "                np.ones(len(test_vals_real_small)).reshape([len(test_vals_real_small),1]) ), axis=1)\n",
    "\n",
    "test_y_small = test_y.iloc[test_idx_rows_to_sample]"
   ]
  },
  {
   "cell_type": "markdown",
   "metadata": {},
   "source": [
    "Then we train the linear regressor on the subsampled training set, and take a look at training and test MSEs. Despite the fact we shrunk our dataset, **this step may take a few minutes**."
   ]
  },
  {
   "cell_type": "code",
   "execution_count": 214,
   "metadata": {},
   "outputs": [
    {
     "name": "stdout",
     "output_type": "stream",
     "text": [
      "Train MSE\t 1.9223033346550067e-21\n",
      "Test MSE\t 48766.76919460525\n"
     ]
    },
    {
     "data": {
      "image/png": "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\n",
      "text/plain": [
       "<Figure size 432x288 with 1 Axes>"
      ]
     },
     "metadata": {
      "needs_background": "light"
     },
     "output_type": "display_data"
    }
   ],
   "source": [
    "train_MSE_small, test_MSE_small, test_pred_small = run_OLS(train_y_small, test_y_small, train_vals_small, test_vals_small)\n",
    "\n",
    "print(\"Train MSE\\t\", str(train_MSE_small))\n",
    "print(\"Test MSE\\t\", str(test_MSE_small))\n",
    "\n",
    "plot_pred_true(test_pred_small.flatten(), test_y_small)"
   ]
  },
  {
   "cell_type": "markdown",
   "metadata": {},
   "source": [
    "**QUESTION H1)**: Compare the training and test MSEs on the data-subsampled dataset with those on the original dataset: the one that includes all data points and all features, as you did in the cell above the heading of this section. For these two fitted models, are they overfitting or underfitting? Which one over/underfits more? Why?"
   ]
  },
  {
   "cell_type": "markdown",
   "metadata": {},
   "source": [
    "**YOUR RESPONSE:** \n",
    "\n",
    "They both overfit the data, since there training errors are higher than their testing errors. The subsampled dataset clearly overfits the data more. This is because it has an extremely low training error (basically the model remembers its training data) and an extremely high training error. "
   ]
  },
  {
   "cell_type": "markdown",
   "metadata": {},
   "source": [
    "What we are going to try first is to randomly select only a subset of the **text embedding** features for model fitting and prediction. In the next cell, randomly sample 10% of the text embedding features **from the data-subsampled training and test datasets** (so that the following steps would not take too much time) and **retain all the other features (including the offest)**. We call this the entire data-subsampled dataset (i.e., not feature-subsampled) in the following context. Then, use the new set of features to fit a linear regression model on the training set and predict on the test set. Print the training and test MSEs."
   ]
  },
  {
   "cell_type": "code",
   "execution_count": 215,
   "metadata": {},
   "outputs": [
    {
     "name": "stdout",
     "output_type": "stream",
     "text": [
      "293\n",
      "461\n"
     ]
    }
   ],
   "source": [
    "import random\n",
    "\n",
    "no_original = np.concatenate((train_zip, train_set_vals, train_cat_vals, train_vals_from_string, train_vals_real, train_bv, np.ones(n_train).reshape((n_train, 1))), axis = 1).shape[1]\n",
    "print(no_original)\n",
    "size = int(round(train_embed_small.shape[1]/10))\n",
    "print(size)\n",
    "indeces = random.sample(range(no_original, no_original + train_embed.shape[1]), size)\n",
    "all_indeces = np.concatenate((range(no_original), indeces, np.array(train_vals_small.shape[1] - 1).reshape(1)))\n",
    "feature_train_vals_small = train_vals_small[:, all_indeces]\n",
    "feature_test_vals_small = test_vals_small[:, all_indeces]"
   ]
  },
  {
   "cell_type": "code",
   "execution_count": 216,
   "metadata": {},
   "outputs": [
    {
     "name": "stdout",
     "output_type": "stream",
     "text": [
      "Train MSE\t 3100.852218841474\n",
      "Test MSE\t 3603.7828804100022\n"
     ]
    },
    {
     "data": {
      "image/png": "iVBORw0KGgoAAAANSUhEUgAAAYUAAAEGCAYAAACKB4k+AAAAO3RFWHRTb2Z0d2FyZQBNYXRwbG90bGliIHZlcnNpb24zLjUuMGIxLCBodHRwczovL21hdHBsb3RsaWIub3JnLwiMSToAAAAJcEhZcwAACxMAAAsTAQCanBgAAD5LSURBVHic7Z17fFTVvei/v0wGmBAgAREhgCAq+ABBY0GxCiig1gc+KtKqCDmX2tPjsdbLFXtPj7Y9vaWXU6297aG1Jr6riCJStQKCHq1vEOSlKCiv4akQMMkkmSTr/rH3DJNh9rwyz+T3/XzymT1r7732b01m1m+t3++3fkuMMSiKoigKQEG2BVAURVFyB1UKiqIoShBVCoqiKEoQVQqKoihKEFUKiqIoSpDCbAvQFo477jgzaNCgbIuhKIqSV6xevforY0zvSOfyWikMGjSIVatWZVsMRVGUvEJEtjudU/ORoiiKEkSVgqIoihJElYKiKIoSRJWCoiiKEkSVgqIoihJElYKiKIoSJK9DUhVFUToKi9d4mbd0M7urffQr8TB78lCmjCpL+XNUKSiKouQ4i9d4uWfRenz+ZgC81T7uWbQeIOWKQc1HiqIoOc68pZuDCiGAz9/MvKWbU/4sVQqKoig5zu5qX0LlbUGVgqIoSo7Tr8STUHlbUKWgKIqS48yePBSP29WqzON2MXvy0JQ/Sx3NiqIoOU7AmazRR4qiKApgKYZ0KIFw1HykKIqiBFGloCiKogRRpaAoiqIEUaWgKIqiBEmrUhCRO0Vko4hsEJGnRaSLiAwWkfdFZIuILBCRTva1ne33W+zzg9Ipm6IoinIsaVMKIlIG/CtQbow5E3ABNwK/AR4wxpwMHAIq7FsqgEN2+QP2dYqiKEoGSbf5qBDwiEghUATsASYAz9nnHwOm2MdX2++xz18sIpJm+RRFUZQQ0qYUjDFe4D+BHVjK4DCwGqg2xjTZl+0CAoG3ZcBO+94m+/pe4fWKyCwRWSUiqw4cOJAu8RVFUTok6TQflWKN/gcD/YCuwKVtrdcY85AxptwYU967d++2VqcoiqKEkE7z0SXAl8aYA8YYP7AIGAuU2OYkgP6A1z72AgMA7PM9gK/TKJ+iKIoSRjqVwg5gjIgU2b6Bi4FNwOvA9fY104EX7eMl9nvs8yuNMSaN8imKoihhpNOn8D6Ww/gjYL39rIeAu4GfiMgWLJ9BpX1LJdDLLv8JMCddsimKoiiRkXwejJeXl5tVq1ZlWwxFUZS8QkRWG2PKI53TFc2KoihKEFUKiqIoShBVCoqiKEoQVQqKoihKEFUKiqIoShBVCoqiKEoQVQqKoihKEFUKiqIoShBVCoqiKEoQVQqKoihKEFUKiqIoShBVCoqiKEoQVQqKoihKEFUKiqIoShBVCoqiKEqQdO7RPFRE1ob8HRGRH4tITxFZLiKf26+l9vUiIr8XkS0isk5Ezk6XbIqiKAEWr/Eydu5KBs95mbFzV7J4jTf2Te2YdO68ttkYM9IYMxI4B6gDXsDaUW2FMeYUYAVHd1i7DDjF/psFzE+XbIqiKGAphHsWrcdb7cMA3mof9yxa36EVQ6bMRxcDW40x24Grgcfs8seAKfbx1cDjxuI9oERE+mZIPkVROiDzlm7G529uVebzNzNv6eYsSZR9MqUUbgSeto/7GGP22Md7gT72cRmwM+SeXXZZK0RkloisEpFVBw4cSJe8iqJ0AHZX+xIq7wikXSmISCfgKmBh+DljbRCd0CbRxpiHjDHlxpjy3r17p0hKRVE6Iv1KPAmVdwQyMVO4DPjIGLPPfr8vYBayX/fb5V5gQMh9/e0yRVGUtDB78lA8blerMo/bxezJQ7MkUfbJhFKYxlHTEcASYLp9PB14MaT8FjsKaQxwOMTMpCiKknKmjCrj19cOp6zEgwBlJR5+fe1wpow6xnLdYRDLgpOmykW6AjuAk4wxh+2yXsCzwEBgO3CDMeagiAjwB+BSrEilGcaYVdHqLy8vN6tWRb1EURRFCUNEVhtjyiOdK0zng40xtUCvsLKvsaKRwq81wI/SKY+iKIoSHV3RrCiKogRRpaAoiqIEUaWgKIqiBFGloCiKogRRpaAoiqIEUaWgKIqiBFGloCiKogRRpaAoiqIEUaWgKIqiBFGloCiKogRRpaAoiqIEUaWgKIqiBFGloCiKogRJa5ZURVGUtrB4jZd5Szezu9pHvxIPsycP7dB7HWQCVQqKouQki9d4uWfRenz+ZgC81T7uWbQeQBVDGkmr+UhESkTkORH5VEQ+EZHzRKSniCwXkc/t11L7WhGR34vIFhFZJyJnp1M2RVFym3lLNwcVQgCfv5l5SzdnSaKOQbpnCg8CrxpjrheRTkAR8FNghTFmrojMAeYAd2Pt5XyK/TcamG+/KoqSxziZgGKZhnZX+yLW5632MXbuSjUppYm0KQUR6QFcCNwKYIxpBBpF5GpgnH3ZY8AbWErhauBxewe29+xZRl/dp1lR8hcnE9Cq7Qd5frU3qmmoX4kHbwTFIPb1TvcpbSOd5qPBwAHgERFZIyIP23s29wnp6PcCfezjMmBnyP277DJFUfIUJxPQ0+/vjGkamj15KB63q9U1AoTvKq8mpdSSTqVQCJwNzDfGjAJqsUxFQexZQfj/OCoiMktEVonIqgMHDqRMWEVRUo+TCajZRP7Zh14/ZVQZv752OGUlHgQoK/E4dhZOz1ESJ50+hV3ALmPM+/b757CUwr6AWUhE+gL77fNeYEDI/f3tslYYYx4CHgIoLy9PSKEoipJZnExALpGIiqFfiafV+ymjylqZhcbOXRmxvvD7lORJ20zBGLMX2CkiQ+2ii4FNwBJgul02HXjRPl4C3GJHIY0BDqs/QVHym0gmII/bxbTRAyKWz548lGg41RfrPiV+0h19dDvwlB159AUwA0sRPSsiFcB24Ab72leAy4EtQJ19raIoeUxglB8pyqj8xJ4JL0yLVp+SGsQ42PbygfLycrNq1apsi6EoipJXiMhqY0x5pHOa+0hRFEUJokpBURRFCaJKQVEURQmiSkFRFEUJollSFUVpN2Q71Xa2n58KVCkoitIuyHaq7Ww/P1Wo+UhRlHZBtlNtZ/v5qUKVgqIo7QKn/EeZyouU7eenClUKiqK0C5zyH2UqL1K2n58qVCkoitIuyHZepGw/P1Woo1lRlHZBtvMiZfv5qUJzHymKonQADh8+zDPPPENVVRUffPCB5j5SFEXpaBhjeOONN7jlllvo27cvt912G3V1dVHvUfORoihKO8Pr9fLYY49RVVXF1q1b6d69O9OnT2fmzJmUl5dTUOA8H1CloCiK0g5obGzkpZdeorKykldffZWWlhbGjRvHfffdx7XXXktRUVFc9ahSUBRFyWM2btxIVVUVTzzxBAcOHKCsrIx77rmHGTNmMGTIkITrS6tSEJFtwDdAM9BkjCkXkZ7AAmAQsA24wRhzSEQEeBBr97U64FZjzEfplE9RFCXd+YrSUf+RI0eCTuP3338ft9vNVVddRUVFBZMmTcLlcsWuxIFMzBTGG2O+Cnk/B1hhjJkrInPs93cDlwGn2H+jgfn2q6IoKaY9JG5LBenOV5TK+o0xvPXWW1RWVrJw4UJ8Ph9nnHEG999/PzfddBO9e/dus7yQ5pBUe6ZQHqoURGQzMM4Ys0dE+gJvGGOGisif7eOnw69zql9DUhUlccI7KrAWWf362uEdTjGMnbsSb4Q0FGUlHt6eMyFt9ZcWuSnqVBiXUt69e3fQabxlyxa6devGtGnTqKio4Nxzz8UysiRGtO040z1TMMAyETHAn40xDwF9Qjr6vUAf+7gM2Bly7y67rJVSEJFZwCyAgQMHplF0RWmfREvc1tGUQrrzFTnVc6jOz6E6PxB59uD3+3nppZeoqqrilVdeoaWlhYsuuoif/exnXH/99XE7jZMh3UrhAmOMV0SOB5aLyKehJ40xxlYYcWMrlofAmimkTlRF6Ri0l8RtqaBfiSfiSD5V+Yqc6g8noJSHdjlCZWUlTzzxBPv376dv377cfffdzJw5k5NPPjklMsUirUrBGOO1X/eLyAvAt4B9ItI3xHy0377cCwwIub2/XaYoSgpJd0eYT8yePDSiKS1V+Yoi1R9OS0MdtZ++xep1yzj9ns0UFhZy1VVXMXPmTCZPnkxhYWaDRNP2NBHpChQYY76xjycBvwCWANOBufbri/YtS4B/EZFnsBzMh6P5ExRFSY50d4T5RLrzFUWqv7ahiUN1jTR4N1Hz8XLqNr+F8TfgOf5Efvvb33LTTTdx/PHHp+T5yRDT0WyHin4fOMkY8wsRGQicYIz5IMZ9JwEv2G8Lgb8aY34lIr2AZ4GBwHaskNSD9nP+AFyKFZI6wxgT1YusjmZFSQ6NPsoOe/bs4e65/48FTz5O40Ev0slD19MupNeoyTxw+3e55uz+GZEjmqM5HqUwH2gBJhhjThORUmCZMebc1IuaGKoUFEXJdfx+P6+88gqVlZW88sorNDc3c/qo0TQOuYjGAd+i//GlGVfKbY0+Gm2MOVtE1gDYC806pVRCRVGUdsann35KVVUVjz/+OPv27aNv377Mnj2bGTNmcOqpp2ZbPEfiUQp+EXFhhZciIr2xZg6KoihKCN988w3PPvssVVVVvPPOOxQWFnLFFVdQUVHBpZdemnGncTLEI+HvsXwDx4vIr4DrgX9Lq1SKoih5gjGGd955h6qqKhYsWEBtbS3Dhg1j3rx53HzzzfTp0yd2JTlETKVgjHlKRFYDFwMCTDHGfJJ2yRRFySiZdD63B0f33r17efzxx6mqqmLz5s0UFxdz4403UlFRwZgxY5JaaZwLxFQKdrRRHfC30DJjzI50CqYoSuZIdw6gbD0r1TQ1NfHKK69QVVXFSy+9RHNzMxdccAF333033/3udykuLs62iG0mHvPRy1j+BAG6AIOBzcAZaZRLUZQMksnUF/mYZmPz5s1Bp/HevXvp06cPd911FzNnzmTo0Pa1viMe89Hw0Pcicjbwz2mTSFGUjJPJ1Bf5kmajpqaGhQsXUllZydtvv43L5eKKK65g5syZXHbZZbjd7myLmBYSdoUbYz4SEU1prSjtiEymvsjlNBvGGN577z0qKytZsGABNTU1DB06lN/85jfccsstnHDCCdkWMe3E41P4ScjbAuBsYHfaJFIUJeOkO/VFqGO5h8eN2yX4m48unM12mo19+/bxxBNPUFVVxSeffELXrl2ZOnUqM2fO5Pzzz89bp3EyxDNT6BZy3ITlY3g+PeIoSm7RHqJk4iGdOYDCHcvVPj/uAqG0yE11nT9rn2tTUxOvvvoqlZWVvPTSSzQ1NXH++efz8MMPc8MNN9CtW7fYlbRDoioFe9FaN2PM/8yQPIqSM+RzlEwyTBlVlpZ2RXIs+1sMRZ0KWfPvk1L+vFh89tlnPPLIIzz22GPs2bOH448/njvvvJMZM2Zw2mmnZVyeXMNRKYhIoTGmSUTGZlIgRckV8jFKJttEmlnlgmO5traW5557jsrKSt566y1cLheXX345FRUVXH755e3WaZwM0WYKH2D5D9aKyBJgIVAbOGmMWZRm2RQlq+RCZxYPuWLicppZlRS5g7uMhRJwLKdLfmMM77//PlVVVTzzzDN88803nHrqqcydO5dbbrmFvn37tvkZ7ZF4fApdgK+BCRxdr2AAVQpKuyaXo2QC5JKJy2lm1bmwAI/bFdGJnYz8sZTI/v37g07jTZs2UVRUxA033EBFRQVjx47tUE7jZIimFI63I482cFQZBNBtMJWMka2RcD5sRpNLJi6nGdRhn58Hpo6M+D8cO3dlQvI7KZHmpia67N9AVVUVS5YsoampiTFjxvCXv/yFqVOndlincTJEUwouoJjWyiBA3ErBdlavArzGmCtEZDDwDNALWA3cbIxpFJHOwOPAOVgzk6nGmG3xPkdpn2R7JNzFXRB8donHzX1XnRH1uZlWYNkycYWHmIo4dwr9SjyOTuxE5Q9Xgv5Duzm0bjnf+/1KGo98Te/evbnjjjuYOXMmp59+esLtUqIrhT3GmF+k4Bl3AJ8A3e33vwEeMMY8IyJ/AiqA+fbrIWPMySJyo33d1BQ8X8ljsjUSDldGAA1N0TPGZ0OBJWPiaqviihRi6kSsmVWi8u+u9tHir6du89vUrFtOw84NIAV4TjqHRY/+he985zt06pTYdi+54pPJFQqinGuz4U1E+gPfAR623wuWb+I5+5LHgCn28dX2e+zzF4sa/zo86RgJL17jZezclQye8zJj565k8RrvMddEU0ZOJHNPW5k9eSget6tVWbSOONChe6t9GI4qrkifgROR2hmJshIPv752eNQONl75jTF88MEH+F6fz64/3MzXLz9Ac83XlFx4C2U/fIRR/zSXa665JimF0NbPo70RbaZwcQrq/x3wvzi6AK4XUG2MabLf7wIC35gyYCeAHQp72L7+q9AKRWQWMAtg4MCBKRBRyWVS7eyNdzSfjDLKhikn0UVnqZh5xdMeAd6eMyHmdbHkP3DgAE8++SSVlZVs3LiRTl260G3oWDzDJ9K5/xmISJv8PLnkk8kVHJWCMeZgWyoWkSuA/caY1SIyri11hWKMeQh4CKw9mlNVr5KbpNrZG28nkKgyWrzGS4EIzRH2PE93tFIii85SobicPpvwa+IlXP7m5mb+/ve/U1lZyZIlS/D7/YwePZo///nP3Hjjjazc+k3KzD35EnacSdK5N9xY4CoRuRwrrLU78CBQElgYB/QHAvM0LzAA2CUihUAPLIez0oFJdfqFeDuBRJRRYPYRSSHkWrRSKmZekT6bUJJt89atW3nkkUd49NFH8Xq9HHfccdx+++3MmDGDM888M3jdlFHdUzaKz4ew40yTNqVgjLkHuAfAnin8T2PM90VkIdaWns8A04EX7VuW2O/ftc+vNCbCr0zpcKQy/UK8nUC4MiopcmMM3LlgLfOWbm6lmJxs7C6RmDb1TOOk7MYP683YuSvjUrxTRpWxavtBnn5/J83GIAKewgJ8/paElXZdXR2LFi2isrKSN954g4KCAi699FIefPBBrrzyyoR9BImSD2HHmSYbu0jfDTwjIv8BrAEq7fJK4AkR2QIcBG7MgmxKOyeRTiCgjGL5IZxmHy3G5JRCgMgzr/HDevP8am/cUVOL13h5frU3ODMyBgzCA1NHxtVeYwyrVq2iqqqKv/71rxw5coQhQ4bwq1/9iltuuYX+/funqrkxSWciwHxF8nkwXl5eblatWpVtMZQ8I9EQxLFzV0acXZSVeHh7zoSY53OdROVPtr1fffUVTz75JFVVVaxfvx6Px8P1119PRUUF3/72tykoiBYMqaQSEVltjCmPdC4bMwVFySqJmqNi+SHy3QSRqLM1kfLm5maWL19OVVUVixcvxu/3c+655/KnP/2JG2+8kR49eiQvOLrGIB2oUlCUGMTyQ+S7CSJRZ2s813/xxRdBp/GuXbvo1asXP/rRj5g5cybDhw8/5t5kyPZq9/aKKgVFiUEqnLO5TKIzHafr//WigTz11FNUVVWxcuVKRITJkyfzwAMPcOWVV9K5c+eUyq1rDNKDKgUlLUSb1mdiyp+qZwTq8fmbcdnrEMocnLM/XrCW2QvXUtyl9Y5ikPgsYvEaLz//28Zgyul48i5Fkttb7Wsld/izndoXK/oo0CbvoTp61O2i3753+cH/e5HDhw8zePBgfvnLXzJ9+nQGDBgQl7yhssT7Oekag/SgSkFJOdGm9UDap/ypMiuE19NsTHAE7RSG6m8h2JF7q33MXvgxCMH9iONNDT37uY9b7WFc7fNbdcXRhkhyR3p2tPbFesa3B3ZhR9EGKp+uZN26dXzWpQvXXXcdFRUVXHTRRQk7jZP5n+kag/Sg7n4l5USb1qc7P9DiNV7uevbjlDwjmqzxjkb9LaZV5x6PLPOWbj7mnkBd8bQhWm6i0Gcn+r9obm5m2bJlTJ06lX79+nHHHXfQqVMn/uu//os9e/bw5JNPMn78+KSiiJL5XiSa90mJD50pKCknlXmDEiHayuJknhGtHfGkekim7raci/eawPl4/0/btm0LOo137NhBz549ue2225g5cyZnnXVWTHniIZnvTL47+HMVVQpKyok1rU/XlD9W9s5En+HUjpIiN7MnD+XOBWuT3m0qmizRFE48bYilsAJ1RPs/1dfX88ILL1BZWcmKFSsQESZNmsS8efO4+uqrU+40TtYUlMrV7oqFmo+UlBNtWp/OKX+0UWUyz5g9eShu17HZ22vqrSS/3x8TO0uvu0COqcPtEmobmhxTdzs9110gcbUh0mccIPRziHSdfPUlPdY8Tt++ffne977H1q1b+fnPf862bdt49dVXueGGG45RCPGkIk9GZjUFZQedKSgpJ55pfTqm/E6jzWRzEE0ZVcZ9SzYes4lMwLb/9pwJlJ/Ys1WUkMddQBe3yzH6qKTITU19U7DOSA7VwGuy0UetooOiRB8FXv/PCx+y9d1Xadi4gto9W9jTuTPXXXcdM2fOjOkjSJVTX01BuYOmuVDaDZF2S/O4XY4KIZ4QyMFzXnY0EZWVeBLuwHIlJUZLSwsrVqygqqqKF154gYaGBs4++2wqKiqYNm0apaWlQOzPKFfaoySGprlQOgSJjDbjHeE6zT6Eo76RREbH2Y6t3759O48++iiPPPII27dvp7S0lFmzZjFz5kxGjhzZ6tp4PqNst0dJPaoUlHZFvI7HeFfDRlq9Kxy7SX28K2mzEVtfX1/P4sWLqaqq4rXXXgPgkksu4Te/+Q1XX301Xbp0iXhfPJ+RrhVof6ijWemQOI1kvdW+Vo7SKaPK+PW1wykr8SBYZhEnc5K32hfT4ZpJh+ratWu5/fbb6devH9OmTeOzzz7j3nvv5csvvwyuN3BSCBDfLEAdxO0PnSkoHZJoYZuRHL/x2NHjMSml26F66NAh/vrXv1JZWcmaNWvo3Lkz11xzDRUVFUyYMCGhhWXxzALUQdz+UEez0iGJ5JQOJZqjNNK9kUxKsepJFS0tLbz++utUVlayaNEiGhoaGDlyJBUVFXzve9+jZ8+eSdWbqONeyR+y4mgWkS7Am0Bn+znPGWPuFZHBWFtx9gJWAzcbYxpFpDPwOHAO1t7MU40x29Iln5J9Fq/xtgr5LC1yc++VrcMuE02SFuv60PM9PG5HpZDoSlqnWUdbHK5ObQmU79ixHfn8v2nYtJL9u3fStVsPSkddigybQNHQM+k/dmjSCgHa5yxA91+ITdpmCiIiQFdjTI2IuIF/AHcAPwEWGWOeEZE/AR8bY+aLyD8DI4wxt4nIjcA1xpip0Z6hM4X8ZfEaL7MXfoy/pfX3z+0Spp47gNc/PYC32nfMCDxWiGm0kW2iI/xA4rt4FEyBvRYgUj3JzBSc2nL1iN488czzHPzoVeq3rQUMRYNHMemaqWzqdBoNxtXqeh3VH0VnPkeJNlPIiPlIRIqwlMIPgZeBE4wxTSJyHnCfMWayiCy1j98VkUJgL9DbRBFQlUL+4mSXB+eOOkCy20RG8wWEK57rzilrlRo7UB5NwYTTlg4nXNbG/V9Qs245tRvfoKX+G1zdelM8/BKKR1xCYY8+wQVqTm1vK+1hhK1rKo6StXUKIuLCMhGdDPwR2ApUG2Oa7Et2AYFvVhmwE8BWGIexTExfhdU5C5gFMHBg7DQDSm4SzawSa5gSuDe8o3JSMoGIIqdnGlovRBs/rDdPv7/zmE7W52/mxwvWMm/pZuoamyIqBJcILca0uePcXe2jpb6G2k/epGbdMhr3bgFXIUWnnEfxiIl0OfEspODorCBVSQAj0V52ONM1FfGRVqVgjGkGRopICfACMCwFdT4EPATWTKGt9SnZoS1ZRvuVeCJ2VNFmGPcsWk8Pj/uYlBXQeqQYK9Nq4FlOtBjDl3O/E3dbjrm/pYU33niDmqUP8PWGtzBNjbiPH0zpJT+g6+kX4fJ0j3if00whXYkG83GHM11TER8ZCUk1xlSLyOvAeUCJiBTas4X+QCCY2wsMAHbZ5qMeWA5npR0RuiNYMkTb5MbgbHry+ZsRTERTUWhMfaxMq7FItoPZuXMnjz32GI888ghffPEFRcXd6XHWJLqceQmd+gzBctE5M230gIjmrnQmGsy3EXai2452VNK2eE1EetszBETEA0wEPgFeB663L5sOvGgfL7HfY59fGc2foOQfgVG4k0IoLXJz05iBx2butF9dIsERqlMd0b4wdf6WVucFuO6c1msQ2rJHQqIdTENDAwsXLuSyyy7jxBNP5Gc/+xmDBg3iqaee4qv9e3nkL3/ipGHDKRChrMRDiccdsZ7SIjf/MWX4MYvsUuVAdVJ0+TbCjrQQsSM6mWORzuijEcBjgAtL+TxrjPmFiJyEFZLaE1gD3GSMabBDWJ8ARgEHgRuNMV9Ee4Y6mvMLJ0dfaZGbok6FrWz6r396oNX78FGw04ygtMjNEV9TVPNPKOGmo0T2SCjxuOnauTAh5+viNV7ue+zvfPGPv+H75A2a6o7Qv39/ZsyYwa233spJJ50U9d5sRM9o1E77I+vRR+lClUJ+ES3jaCjhHU68UUNul4DhmDDXaAjwwNSRMU1abpe02iIz0U7x8OHD3P1/5/PYo49Qv/szKCik6JQx9Bg5ieOHlXO4viUl6zDSRXuIPlKOokpByQmihaGGEzqCjzd9dW1DU0RHskuE7p7C4N4EoZQWuan3t8T0I/zOVhzxrFkInL/qrL68+eabVFZW8txzz1FfX4+79yCKR0yk6+njcBX1OOY5OgLPHdqzItTU2UpOMHvyUGY/93HETenDCXViOkWNhMeXD57zcsS6Wozh3ivPiGgCMYaYCqGsxBM1+2q4eWX7zp38j588xm1b/pt9u7bTvXt3br31Vl6sG4r7hJOjOo3zMaqnPdJewnCTQbOkKm0m3u0Yp4wqo2un+MYhoU7MeDNxRnOIBpyMpUVHnbWdCwsizixiPSeceUs3U1dfT+3mt9m38F6882fy1RuP4+tUwhNPPMGePXuYP38+g08bETOKCPIvqqc9Ei0Mt72jMwUlKZxCS2ONqA7H6IRD6/m3xespP7Fn8AfqtK1kqCzhfoZA5tKxc1cyflhvahqagudiKYTQ5ziZEjZs2MCG539PzcbXafEdwVXci+5jvkvx8EvoVNqX4jNGMvH377G72kcXd3xjsHDllgozRns2haSD9hKGmwzqU1ASJp4UD06pA0b9YllE274TrgKhucXZwRstn1GsdBlOxHpGS0Mt/s/+Qbcdb/H5hrWIqxDPyaMpHj6RLoNHBVcad+3koiWGeSqZ9iXqd9DoocRp7ykx1KegpJR4Fng5ppRIsJduDoskCre5J7qILRoCEUfRgbQWDTs3ULN+OXWfvo1pauBwn0Hcf//9VO4po6ag6zH11TU2x5ShW+fCqGGtqVhN3F5WJGeSjrzQTZWCkjDxTKGd7Pvxmo/ifX60fEaJEik9hdfrZdPfH6Nm/XKaDu1BOnnoesZ4ikdMpHPfU7nzziv4vYODOx4ZDvv8rL13kuP5VJgxOrIpJFnaY9rweFGloCRMrLxFAowf1puxc1ce84NqS86j0OfHK0u8uEIcwI2Njbz00ktUVVXx97//nZaWFjoPOJMe599I0dCxFLitLSwDTmsnGZzyETm1xel8W/P1aM6f5Ih3v+/2hkYfKQkTKRoogADnD+nJgg924q32YbAcvbMXfmztoRDh3kS+hOFT+GiyJMK00QPYtGkTd911F/379+e6665j+Vvv0W309ZTNeogTvjeX4jMvDioEOGoKc4qOmjZ6QFTZ4jFHpGIPZN1HWUkEnSkoCTNlVBmrth+MmF66pMjNRzuqj1lV7G8x3LdkY9BUEpiWd3EX4PO3xP3scOdopGl+XWNTRGd2gUD4YueWhjr8n/2DFf/9Ab967z0KCwspv3Aihb1G4x40qlV66nACprBopoZA9FRgpzcRqK7zx22OSIUZoyObQpTE0egjJUg822MGrosVfeTEthC7faK5hgDHsNRAfdHSVbgLwN8Cxhgadm2kZt1y6jb/A+Nv4PTTT6eiooKbbrqJSfPXxgxXhdyIRNFQUyUZNPpIiUmk7TEP1fmZ/dzHADEjYhJ9VrLpswMzk4BJKiBbPIrKd+QgtRtWULNuOU2HdlPQuYizxl1B88njOdLtRJ5vLOIkrz8uhZAL5pdEV92qAlHiQZWCAlgdfaREcv5mc0zoYrJRK107udo0yzhGNtskNWVUmaOiMs1N+LZ+SM26Zfi+WA2mhc79z6DHeVPpO3Ic9QWdInaqTjiFrWaDREJNO3LaBiUxVCkoQPSOPvxcshE/bldBm2cZ4QRG9eEy+r/aSc365dRsWElLXTWu4p50H30txcMn4u5pdYLfNAPNx3aqIpHXU5QWuVnz787ho5DZ0XgioabxKhCdTSiqFBQgekcfHroYaWFPPBz2+WOuUwhEL32043BC9fcr8bBz39fUfvoPatcto2H3p1DgwjPkXIpHTMJz0jlRncahRFIIbpdw75VnRL0v06PxREJN41EgOptQIL2b7AwAHgf6YK3jecgY86CI9AQWAIOAbcANxphDYmUKexC4HKgDbjXGfBTtGepoTh2RfApgdYbfGlTKe18cotkYXCJMGz0gGFXjrfZFjOpJBiuNdXMwGilQb7TVyZ5C4eaTGvjtH/7EoQ1vYvz1FPbsT/GISXQ7czwFXUvbLJ+Twz2caKnBIznGw1m8xsvP/7axVeRUicfNfVedETH/UqTNh5zSV8STtiHWJkjeal9UR7+SP2TL0dwE3GWM+UhEugGrRWQ5cCuwwhgzV0TmAHOAu4HLgFPsv9HAfPtVSSFO5oHAjzs8+uj0vt14e+vB4P3NxvDkezuA5GcM4XjcLq47p4wFH+xspZRajKWUpp47gJfX7WnVWTbXHKJm4wp2r3uN/31wl7XS+LQLKR4xkU79hlFa1CnYmQ5yWHEcL/VxhsxGM8HF4wSOlFa82udn9sKPWbX9YCsF4K328fxqL9edU9ZqlzqnjjqetA1O8h+q8wc/+1BHv84i2icZC0kVkReBP9h/44wxe0SkL/CGMWaoiPzZPn7avn5z4DqnOnWmkBiJJkZbvMbLjxesjViXS4QTenRJyWri0iI3xjhnLQ2MSu/46yp8X6yiZt1yfFs/tJ3Gp1M8fCJFwy6goJOn1T2BEfCQe16Je3tOJ+IJP41nEyGnehLZgChRuQLE8hckI0MuhOUqiZP1kFQRGYS19/L7QJ+Qjn4vlnkJoAzYGXLbLruslVIQkVnALICBAwemT+h2SDLRKk40G5MShQDEzJq6betnVPxoPtXrXqOlthpX11K6f+taiodfgrtX/4j3hI5626oQwutzIp6ZU6rzECVyX6y0DcnM/MJ9Euqkzn/SrhREpBh4HvixMeZI6CYjxhgjIgn9Yo0xDwEPgTVTSKWs7ZnFa7yOnXi80SqZpKXRR92nb1Gz7jUavJtACvCc/C2Kh0+0nMau6F9dg5WmO1UT4XjzBFkrtJ0/t2gbASWjZFOZvyjSymenLU7Dn69O6vZDWpWCiLixFMJTxphFdvE+EekbYj7ab5d7gQEht/e3y5QYxBqhxRr1R+pYUjULSARjDA3eT6lZt4y6T98KOo1Lxs2g+IwJuIpLE6ovkX0bohHPQrV41l9EqyeRrUoTkStRwmcT0doV+nxNz91+SJtSsKOJKoFPjDH3h5xaAkwH5tqvL4aU/4uIPIPlYD4czZ+gWMQzQos26ve4XcdkNB0/rHfSG9QkQ3PtIWo2rLRWGh/chbi7UDTs21Z66rLT4trCMp3EsxmN02fsEqHFmGDeozsXrGXe0s3HKO7A8Z3Pro1rduMSycgmOaHfoWjRR5qeu/2QzpnCWOBmYL2IrLXLfoqlDJ4VkQpgO3CDfe4VrHDULVghqTPSKFvSZMtu6vTceEZo0X6Y151TdkxUy1Pv7Ui7QjAtza2dxi3NdC47jR6X/StFQy+goHNRmiWIjzJ7FhUpDXgoTp9xizE8MHVkXKaVwHE8M45M7poWTwppTc/dfkibUjDG/AMrxDwSF0e43gA/Spc8qSBbdtNoz41nhOb0gy0r8fD6pwci7lyWLvwHvdSsW07thhU01x6ioKiE7uVXUzxiIu5eA2JXkEHcLuFQbUOrCCyn/3m0TjER00oku/74Yb3jCjvNFJEGKB15p7L2hmZJTYBs7dsa7bkQ2f4fKlO0UFSnkNNU0tLoo27z29SsW0bDLttpPKTcXmlcHtNpnAkCi/ICnW9JkZua+qaI+aDg2P95tM84WibY300dmVc292jtBE3PnS9kPSS1vZAKu2ki5qdY2UR3V/uOMU2ANcKtbWhi0JyXgzbggpA5W2CVbDoxxtC4+1NrVvDpW5hGH4U9y+g9YQYXXHoNH32d2f2dymJE9/z2hrOC/4fFa7zc9ezHUUNZw//n4XtMuES47pyyoInP6dn5FqETbdbz9pwJedMOxRlVCgnQVrtpIuaneKJZDNaPNHRVa2CEGwgjDHRsoQPehiZrhe68pZujyhurI41Ec201tRstp7H/652IuzNFQ79N8VkT6XPyWVw5sh/Pr/YCmQt3Dezh4DTjKvG4WymEexatT3gbzcVrvDy/2hu8r9kYnl/tpfzEnlHj/33+Zu569tj05LmKOpTbP2o+ikJbcs1EwqlTCo9Qqa7zUxDH/r6huAuguIs77jDMVOUrAttp/OVHVnrqLR9YTuN+w+g6YiJdh3076DQOzaGTawSiaeLZ5yHwP3fafS683rfnTIi6Ojy0zmwphnhnsNkyoSqpJZr5SJWCA06203hzzURi8JyXMxbmmQn8B73UrH/NchrXHKSgqAfFZ0yg64iJdDou/1abxxOGGzC9rdp+MJgDKladX8aYqQTIVseaSPqTRFOlKLmJ+hSSwMl2+vqnB5L+4Sa7ajWXaGmst5zG65fTsHOD5TQ+6RyKJ96GZ8i3csJpnCzRFIJLpJXf4SfPro2rzlAzU6w0EtkywbQ1Okodyu2L/P0Fp5l02E5TlVU00xhjaNzzGTXrllH7yZuW07i0LyUX3kLXMy+msFuvbIuYVkKjawLrFeKZ8YWHZAY6TicndrZi+hP9rsezbkHJX1QpOJCMUzmSDyLc1PTra4cHr0nEb+C0G1g6aa47TO2GldSsX47/qx220/gCa6Vx/zOyvtI4EwR8DRB7UVmAaFt2Oi1Qy2ZMvy48U0JRn4IDkWyn7gKhuEshh+r8xyz3h9idRsBmHZoqOh47diCGPh4bdlsxLc3Uf/kRNeuWU7flfWhpplPfoRSPmEjX0y7MmZXGmSDgGE9EgXvcBXzyy8tiXpfplfHRnqd+go6HOpqTJPSH1MPjpraxKWLCMo/bRefCgqjZJNuK2yUJJUtLFP+hPdSsX07t+hU013xNgac7Xc+cQPHwiXTqfWLanpuruF0CBsfFa5EoAO7PwcVo8XT6mva6Y6FKIQUkuwlKLtPir6du8zvWSuOA03jw2dZK45PPRVzubIsYk7FDerJx9zdBhdy1kwu3q4DDPn+rzi3W/6/E46Zr58K4U0YHCIQT53JHqmGkSjgafZQC2svinKDTeP1yaje9iWmso7DEdhqfMYHC7sdlW8SEeHvrQcpKPMGtN52I9f877POz9t5JwfeD49jCM19MLLrgTEkEVQpxku/hpM11h6nd+AY165bh/2o7UtiZoqHnUzxiEp0HnIFIZtNOpJJ4EhPG+v+FO1Wdrs+HmUE46khWEkGVQhwsXuOltqEp22IkjOU0XkPN+uXUff4+tDTRqe+p9Jz8I9tp3DXbIqYMn7+ZHy9Yy0+eXRtcqR1YaDZlVFnUcOBIkT9OWT/DZwb5YIvXDKZKIqhSiEE8OYhyDX/1XmrXLadmwwqav/mKAk93up39HYpHTKRT70HZFi+thPqFq31+Zi9snVco1mYxAeJZpJUvW1DqgjMlEdLmaBaRKuAKYL8x5ky7rCewABgEbANuMMYcsndpexBrk5064FZjzEexnlFeXm7+7S8vRg21S+aHEHpfojmIskWLv4G6z96hZt1yGnasA4Qug8+meMREik4ZnRdO43SRLoeqOnCVfCVbjuZHgT8Aj4eUzQFWGGPmisgc+/3dwGXAKfbfaGC+/RqV6jq/40gNiDqKc1po5q32tVo7kMsKwRhD494tR1caN9RS2KMPPb59E8VnXkxh997ZFjEnSJdDVR24SqbIpJkynTuvvSkig8KKrwbG2cePAW9gKYWrgcft3dfeE5ESEekba4/mvUfqOc4hZ0vg2OlcuMIIXRiWu2rAotl3hNqNr1vpqQ9sQwo7UTR0LMXDJ9J54Jl57TROB+lyqKoDV8kEmTZTZtqn0Ceko98L9LGPy4CdIdftssuOUQoiMguYBeByGAlHG6ntrvZF3cg+VzEtzdRvW2uvNH4PmpvodMIp9Jz0z5bTuEtxtkXMSdwFkjaHqjpwlUyQSMLCVJA1R7MxxohIwoNyY8xDwEMAxf2HRrw/MFJzGsUlE1qajdxDYDuN179GzfoVNH9zgIIu3eg28nLLaXz84MwLlKOE7jAXKfoo0vQb2uZ8VQeukgkybabMtFLYFzALiUhfYL9d7gVCd23vb5dF5YTuXXC7XY4jtUijuPHDeieVQyiTCqHF34Dv83epWbeM+u0Bp/EoSsfPpOiUMUhhx3Ial5V42HPY57gpkLtAmPfdsxw740jT79kLPwYhmDok2Sm5ZgxV0k2mzZSZNj4vAabbx9OBF0PKbxGLMcDhWP4EgJIiN7++djhlJR4Eq/MIxJFPGVUW8dzzq3elo11txhhDw94tfL1sPt4/3sJXf/tP/NX76HHB9yn7YSV9bvgFXU/7drtSCKVF7uD/xynfqgDjh/V2dPS4C4iqECDy9NvfYo7JJRXqc1KUXGH25KF43K5WZek0U6YzJPVpLKfyccA+4F5gMfAsMBDYjhWSetAOSf0DcClWSOoMY0zMpEbJ5D4aFEf6gkzS7DtC7ab/tlYa7/8SXO7gSuMuA4e3W6dxIMIrsE7gzgVrHR38TntFx8pIGjAZJWIuDN0pLbQONQ8p2STV38OshKQaY6Y5nLo4wrUG+FFbnrd4jZf7lmwMJjErLXLznRF9j9nPIBcwpoX6bR9Ts24ZdZ+/azmN+wyh58QfUnT6RbjyyGnsEjihR+J+moAC8Fb7uHPBWrq4C/D5W465rqzE42g7rY9wfYBkFx2GTsnjifpI5MeqCkZJlkyaKfN6RXN1nd9xAdGhOn8r34G32hd14/RM0HR4HzXrX6Nm/Ws0HzlAQZdiuo28zEpP3eekrMqWLM0G3p4zoU1ZZA3g87fgLpBWqaoDU2Sn0X40m2qsCDN3gbTyKYQ+L1odoVEfiYQK5svqZ0XJa6Ww81AdTTm+UMg0NVL32bvUrFtO/XYr5UKXQSMpHTfDdhp3yrKEqSEVkRDFXQqDm9qEj6QTDf2MJk9ZnNFHsaI+EgkVzHRYoaIkS14rhVymcd9WatYtp3bTG7TU1+Dqfjw9xk6jePglFPY4PtvipZxUZJGtrvOz5t8nHVOeTOhnSZGbQ3XH7odQWuRulYIiWh2xoj4SCRXU1c9KvqBKIYU019dQu/F1ate/RuO+rZbT+NTzKR4xkS4njmi3TmOIvJArUUqKnCOrErWpOsVPJBJXEWtxWiKhgrr6WckXVCm0EWNaqN++znIaf/YuNPvp1GcIpZf8gK6nj8Pl6ZZtEdPKTWMGApFH83WNTRFH606kMhDusMOuaU7lkYg1Q0lkRbOuflbyBVUKSdJ0ZD816wJO4/0UdO5Kt7MmUTxiEp36DMm2eBnhpjED+Y8pw4PvA6P5QJTNoTp/q+SCsUikw45Fqkbm0WYoiZi1dPWzki+oUkgA0+Sn7nPbabxtLWDocuJISi+aTtGp57Ubp3EoY4f05J2tB1t17NG2oQyPsklk8J9KU0qmRuaJmLV09bOSD6hSiIPG/V9YTuONb9BS/w2u7r3pMfZG22ncJ3YFecxHOw7z/TEDj1nv4dS5OYWClha5g5FFPTxuahubooaDthUdmStKcqhScKC5voY6e6Wx5TQupOiU86yVxieOQApcsSvJE1xRNhLy+Zt5/dMDcW8a4xRNEx5ZlImFXDoyV5TEUaUQgjEt1O9YT826Zfg+exfT1Ij7+MG20/giXJ7u2RYx5XjcLq47p4znV3sdI4cSCZuM15avHbai5CaqFICmIweoWf8atetfo+nwPqRzV7oOn2ilp+4zBCs1U/sjdH/i8hN7ctezH0ecMSRi69coG0XJbzqsUjBNfuq2vG+lp/5yDZbTeAQlF96M55TzKHB3zqp8XTu5uObssohpvgMRPSUeNyKWacZpL+nw6B8nJ3GyK4fDUVu+ouQ37UIpJBL22Lj/y6MrjX1HcHU7jh7nT6Xr8Etwl5yQTjEToq6xORju+fT7O2k2BpcI00YPaBUGGiBSAriAaSheJ3GqOnQ1DeUvmrRPSVvq7EzQue8ppu/033GTHR3jlGahpb6G2k/epGbdchr3fg4FhRSdMsZaaTxoZESncWAHr9IiN/X+5ogZPCPhdgnzrj8LIJjILeDILSvxMH5Y76iyBigr8cTt3A0Q+oPuETKL0B93ZsnXjtVpYOEUfqzkL9FSZ+e9Upg9f1GrkXPgi13X6KdhxwZ7pfE7ltO49yC6jZhI0enjcBX1iFhn6BaOoYT+0J1MNQUC998wMq4fULTUzm39IeqPO3vk82fvlOk2mQGKkttEUwp5nYxnQGnRMaaU8t6Gsw+uZN/DP2DfMz+lfuuHTJoylQ8//JCGfV9QOe9ejjvuuGPqEqwVumvvneS4IvXtORP4cu53+O0NZ0XcCSlehRCoL7AzHFhhodB697hkiZaRU0kv+fzZa9I+BXLMpyAilwIPAi7gYWPM3GjXBxKoNTY2smTJEqqqqli6dCktLS2MHz+emTP/L9deey1FRUXBe8JTMSQzxc9127v+uLNHPn/2mrRPgRxSCiLiAv4ITAR2AR+KyBJjzCane3w+H3feeSdPPvkkX331FWVlZfz0pz/l1ltvZciQ6PmH2toh57IzVX/c2SOfP3sNJ1Ygt8xH3wK2GGO+MMY0As8AV0e7YdOmTfzxj39k3LhxvPLKK2zfvp1f/vKXMRVCeyfTG30rR8nnzz7UpCmkxpSp5B8542gWkeuBS40x/2S/vxkYbYz5l7DrZgGz7LdnAhsyKmjucBzwldPJAk/3nq7inmXiKuxkmpsam2sOelt8Rw5mUL50E7X92SQDn33Otj0DdOS2Q+raf6IxpnekEzljPooXY8xDwEMAIrLKyYPe3unIbYeO3X5te8dsO2Sm/blkPvICA0Le97fLFEVRlAyRS0rhQ+AUERksIp2AG4ElWZZJURSlQ5Ez5iNjTJOI/AuwFCsktcoYszHGbQ+lX7KcpSO3HTp2+7XtHZe0tz9nHM2KoihK9skl85GiKIqSZVQpKIqiKEHyVimIyKUisllEtojInGzLk2pEpEpE9ovIhpCyniKyXEQ+t19L7XIRkd/bn8U6ETk7e5K3HREZICKvi8gmEdkoInfY5e2+/SLSRUQ+EJGP7bb/3C4fLCLv221cYAdjICKd7fdb7PODstqAFCAiLhFZIyIv2e87Utu3ich6EVkrIqvssox+7/NSKYSkxLgMOB2YJiKnZ1eqlPMocGlY2RxghTHmFGCF/R6sz+EU+28WMD9DMqaLJuAuY8zpwBjgR/b/tyO0vwGYYIw5CxgJXCoiY4DfAA8YY04GDgEV9vUVwCG7/AH7unznDuCTkPcdqe0A440xI0PWI2T2e2+Mybs/4Dxgacj7e4B7si1XGto5CNgQ8n4z0Nc+7gtsto//DEyLdF17+ANexMqJ1aHaDxQBHwGjsVaxFtrlwe8/VrTeefZxoX2dZFv2NrS5P1bHNwF4CSuBcYdou92ObcBxYWUZ/d7n5UwBKAN2hrzfZZe1d/oYY/bYx3uBPvZxu/08bJPAKOB9Okj7bfPJWmA/sBzYClQbY5rsS0LbF2y7ff4w0CujAqeW3wH/CwjsatWLjtN2sDaRXCYiq+2UPpDh733OrFNQEsMYY0SkXccTi0gx8DzwY2PMEbH3nID23X5jTDMwUkRKgBeAYdmVKDOIyBXAfmPMahEZl2VxssUFxhiviBwPLBeRT0NPZuJ7n68zhY6aEmOfiPQFsF/32+Xt7vMQETeWQnjKGLPILu4w7QcwxlQDr2OZTEpEJDCIC21fsO32+R7A15mVNGWMBa4SkW1YWZInYO2v0hHaDoAxxmu/7scaEHyLDH/v81UpdNSUGEuA6fbxdCxbe6D8FjsaYQxwOGS6mXeINSWoBD4xxtwfcqrdt19EetszBETEg+VL+QRLOVxvXxbe9sBncj2w0tgG5nzDGHOPMaa/MWYQ1m96pTHm+3SAtgOISFcR6RY4BiZhZYHO7Pc+246VNjhkLgc+w7K3/u9sy5OG9j0N7AH8WLbCCix76Qrgc+A1oKd9rWBFY20F1gPl2Za/jW2/AMu2ug5Ya/9d3hHaD4wA1tht3wD8u11+EvABsAVYCHS2y7vY77fY50/KdhtS9DmMA17qSG232/mx/bcx0K9l+nuvaS4URVGUIPlqPlIURVHSgCoFRVEUJYgqBUVRFCWIKgVFURQliCoFRVEUJYgqBaVDIyLNdkbKDSKyUESK2lDXoyJyvX38cLQkjSIyTkTOT+IZ20TkuGRlVJRYqFJQOjo+Y2WkPBNoBG4LPRmykjYhjDH/ZIzZFOWScUDCSkFR0o0qBUU5ylvAyfYo/i0RWQJsshPUzRORD+289T+AYD77P4i1r8drwPGBikTkDREpt48vFZGPxNojYYWd5O824E57lvJteyXz8/YzPhSRsfa9vURkmVh7KzyMtWBJUdKGJsRTFIIzgsuAV+2is4EzjTFf2tkqDxtjzhWRzsDbIrIMK3vrUKw9PfoAm4CqsHp7A38BLrTr6mmMOSgifwJqjDH/aV/3V6w9A/4hIgOx0kKfBtwL/MMY8wsR+Q5H9xJQlLSgSkHp6HjsNNVgzRQqscw6HxhjvrTLJwEjAv4CrMRrpwAXAk8bK6vpbhFZGaH+McCbgbqMMQcd5LgEOD0kE2x3O0vshcC19r0vi8ih5JqpKPGhSkHp6PiMMSNDC+yOuTa0CLjdGLM07LrLUyhHATDGGFMfQRZFyRjqU1CU2CwFfmin80ZETrWzWL4JTLV9Dn2B8RHufQ+4UEQG2/f2tMu/AbqFXLcMuD3wRkRG2odvAt+zyy4DSlPVKEWJhCoFRYnNw1j+go9EZAPWNoiFWPnuP7fPPQ68G36jMeYA1v65i0TkY2CBfepvwDUBRzPwr0C57cjexNEoqJ9jKZWNWGakHWlqo6IAaJZURVEU5Sg6U1AURVGCqFJQFEVRgqhSUBRFUYKoUlAURVGCqFJQFEVRgqhSUBRFUYKoUlAURVGC/H+Jtu/ZtaLRlwAAAABJRU5ErkJggg==\n",
      "text/plain": [
       "<Figure size 432x288 with 1 Axes>"
      ]
     },
     "metadata": {
      "needs_background": "light"
     },
     "output_type": "display_data"
    }
   ],
   "source": [
    "train_MSE_small_s, test_MSE_small_s, test_pred_small_s = run_OLS(train_y_small, test_y_small, feature_train_vals_small, feature_test_vals_small)\n",
    "\n",
    "print(\"Train MSE\\t\", str(train_MSE_small_s))\n",
    "print(\"Test MSE\\t\", str(test_MSE_small_s))\n",
    "\n",
    "plot_pred_true(test_pred_small_s.flatten(), test_y_small)"
   ]
  },
  {
   "cell_type": "markdown",
   "metadata": {},
   "source": [
    "In the next cell, test on a collection of the number of text embedding features to sample, and plot the change of train and test MSEs. This may take several minutes, but you would not need to do it multiple times as long as your code in the above cell works well. "
   ]
  },
  {
   "cell_type": "code",
   "execution_count": 217,
   "metadata": {},
   "outputs": [
    {
     "name": "stdout",
     "output_type": "stream",
     "text": [
      "Number of text embedding features to sample:  10\n",
      "Train MSE\t 3611.294506344336\n",
      "Test MSE\t 3264.213111005535\n",
      "Number of text embedding features to sample:  50\n",
      "Train MSE\t 3565.651122805911\n",
      "Test MSE\t 3297.9658179863336\n",
      "Number of text embedding features to sample:  100\n",
      "Train MSE\t 3487.2131745380684\n",
      "Test MSE\t 3255.529839956146\n",
      "Number of text embedding features to sample:  200\n",
      "Train MSE\t 3374.0759080111266\n",
      "Test MSE\t 3485.9961949317653\n",
      "Number of text embedding features to sample:  500\n",
      "Train MSE\t 3006.659948320634\n",
      "Test MSE\t 3678.5972271401606\n",
      "Number of text embedding features to sample:  1000\n",
      "Train MSE\t 2563.9577753643653\n",
      "Test MSE\t 4292.9830627848305\n",
      "Number of text embedding features to sample:  2000\n",
      "Train MSE\t 1587.2577635901996\n",
      "Test MSE\t 7982.527387966825\n",
      "Number of text embedding features to sample:  3000\n",
      "Train MSE\t 752.6382336794077\n",
      "Test MSE\t 20094.33085749525\n",
      "Number of text embedding features to sample:  4000\n",
      "Train MSE\t 5.6519477782375404e-21\n",
      "Test MSE\t 356922.33120820374\n"
     ]
    }
   ],
   "source": [
    "train_MSE_sub_all = []\n",
    "test_MSE_sub_all = []\n",
    "\n",
    "# the collection of number of text embedding features to sample\n",
    "n_embed_to_sample_all = [10, 50, 100, 200, 500, 1000, 2000, 3000, 4000]\n",
    "\n",
    "for n_embed_to_sample in n_embed_to_sample_all:\n",
    "    print(\"Number of text embedding features to sample: \", str(n_embed_to_sample))\n",
    "    \n",
    "    idx_embed_to_sample = random.sample(range(0, train_embed.shape[1]), n_embed_to_sample)\n",
    "    \n",
    "    train_embed_sub = train_embed_small[:, idx_embed_to_sample]\n",
    "    \n",
    "    test_embed_sub = test_embed_small[:, idx_embed_to_sample]\n",
    "    \n",
    "    train_vals_sub = np.concatenate((train_vals_real_small, \n",
    "                train_vals_from_string_small, \n",
    "                train_bv_small,\n",
    "                train_cat_vals_small,\n",
    "                train_set_vals_small, \n",
    "                train_zip_small,\n",
    "                train_embed_sub,\n",
    "                np.ones(len(train_vals_real_small)).reshape([len(train_vals_real_small),1]) ), axis=1)\n",
    "    \n",
    "    test_vals_sub = np.concatenate((test_vals_real_small, \n",
    "                test_vals_from_string_small, \n",
    "                test_bv_small,\n",
    "                test_cat_vals_small,\n",
    "                test_set_vals_small, \n",
    "                test_zip_small,\n",
    "                test_embed_sub,\n",
    "                np.ones(len(test_vals_real_small)).reshape([len(test_vals_real_small),1]) ), axis=1)\n",
    "    \n",
    "    train_MSE, test_MSE, test_pred_sub = run_OLS(train_y_small, test_y_small, train_vals_sub, test_vals_sub)\n",
    "    \n",
    "    print(\"Train MSE\\t\", str(train_MSE))\n",
    "    print(\"Test MSE\\t\", str(test_MSE))\n",
    "    \n",
    "    train_MSE_sub_all.append(train_MSE)\n",
    "    test_MSE_sub_all.append(test_MSE)"
   ]
  },
  {
   "cell_type": "markdown",
   "metadata": {},
   "source": [
    "In the next cell, plot the change of train and test MSEs with the number of sampled features, together with two horizontal lines showing the train and test MSEs on the entire data-subsampled dataset (i.e., not feature-subsampled). "
   ]
  },
  {
   "cell_type": "code",
   "execution_count": 218,
   "metadata": {},
   "outputs": [
    {
     "data": {
      "text/plain": [
       "<AxesSubplot:xlabel='Number Sampled'>"
      ]
     },
     "execution_count": 218,
     "metadata": {},
     "output_type": "execute_result"
    },
    {
     "data": {
      "image/png": "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\n",
      "text/plain": [
       "<Figure size 432x288 with 1 Axes>"
      ]
     },
     "metadata": {
      "needs_background": "light"
     },
     "output_type": "display_data"
    }
   ],
   "source": [
    "import seaborn as sns\n",
    "\n",
    "df = pd.DataFrame()\n",
    "df['Number Sampled'] = n_embed_to_sample_all\n",
    "df['Train MSE'] = train_MSE_sub_all\n",
    "df['Test MSE'] = test_MSE_sub_all\n",
    "df['Train MSE -- Entire'] = train_MSE_small\n",
    "df['Test MSE -- Entire'] = test_MSE_small\n",
    "df.set_index('Number Sampled', inplace = True)\n",
    "\n",
    "sns.lineplot(data = df)"
   ]
  },
  {
   "cell_type": "markdown",
   "metadata": {},
   "source": [
    "**QUESTION H2)**: \n",
    "- In the plot you get above:does the model over/underfit worse when the number of sampled text embedding feature increases?  Why?\n",
    "- Compared to the model performance on the entire data-subsampled dataset (i.e., not feature-subsampled), how does feature subsampling work, in terms of prediction error and generalization?"
   ]
  },
  {
   "cell_type": "markdown",
   "metadata": {},
   "source": [
    "**YOUR RESPONSE:** \n",
    "\n",
    "- The model overfits worse when the number of sampled text embedding feature increases. This is because we are adding features that are not so useful for the price prediction. Thus, as the number of features increses, the model is just trying to remember the extra features from the training set and cannot be applied to the test set.\n",
    "- The model from feature subsampling works better than the model from the entire data-subsampled dataset. Both prediction error and generalization is better since the Testing MSE is lower. The excpetion occurs when we sample 4000 features; however, this is largely due to randomness in the experiment."
   ]
  },
  {
   "cell_type": "markdown",
   "metadata": {},
   "source": [
    "Finally, we explore a \"smarter\" way of reducing the number of features using Principal Component Analysis (PCA) to embed the features. PCA projects the data onto a subspace of maximal variance, preserving as much signal as possible in fewer dimensions. We'll cover PCA later in the course.\n",
    "\n",
    "In the next cell, compute the Singular Value Decomposition (SVD) of the embedding features by using np.linalg.svd(). It may take a couple of trys to converge, so be aware that this cell **may take several minutes to run.**"
   ]
  },
  {
   "cell_type": "code",
   "execution_count": 219,
   "metadata": {},
   "outputs": [],
   "source": [
    "U_tr, S_tr, V_tr = np.linalg.svd(train_embed_small)\n",
    "U_te, S_te, V_te = np.linalg.svd(test_embed_small)"
   ]
  },
  {
   "cell_type": "code",
   "execution_count": 220,
   "metadata": {},
   "outputs": [
    {
     "data": {
      "text/plain": [
       "4608"
      ]
     },
     "execution_count": 220,
     "metadata": {},
     "output_type": "execute_result"
    }
   ],
   "source": [
    "test_embed_small.shape[1]"
   ]
  },
  {
   "cell_type": "markdown",
   "metadata": {},
   "source": [
    "In the next cell, test on a collection of the rank of the PCA to use, and plot the change of train and test MSEs. **This may take several minutes.** In particular, take the first $k$ columns of $V$ where $USV^T$ is the SVD of the embedding feature matrix and right multiply the embedding feature matrix with the first $k$ columns of $V$. "
   ]
  },
  {
   "cell_type": "code",
   "execution_count": 221,
   "metadata": {},
   "outputs": [
    {
     "name": "stdout",
     "output_type": "stream",
     "text": [
      "Train MSE on the data-subsampled dataset \t 1.9223033346550067e-21\n",
      "Test MSE on the data-subsampled dataset \t 48766.76919460525\n",
      "10\n",
      "Train MSE\t 3603.2923342068307\n",
      "Test MSE\t 3274.4899060635926\n",
      "50\n",
      "Train MSE\t 3530.806639883144\n",
      "Test MSE\t 3278.6888469002365\n",
      "100\n",
      "Train MSE\t 3451.537093400447\n",
      "Test MSE\t 3268.3842274627636\n",
      "500\n",
      "Train MSE\t 3018.715860196044\n",
      "Test MSE\t 3720.69407857711\n",
      "1000\n",
      "Train MSE\t 2543.3968255571413\n",
      "Test MSE\t 4259.42706196344\n"
     ]
    }
   ],
   "source": [
    "train_MSE_pca_all = []\n",
    "test_MSE_pca_all = []\n",
    "\n",
    "print('Train MSE on the data-subsampled dataset \\t', str(train_MSE_small))\n",
    "print('Test MSE on the data-subsampled dataset \\t', str(test_MSE_small))\n",
    "\n",
    "k_all = [10, 50, 100, 500, 1000]\n",
    "\n",
    "for k in k_all:\n",
    "    print(k)\n",
    "    \n",
    "    V_k = V_tr[:, range(k)]\n",
    "    \n",
    "    train_embed_pca = np.dot(train_embed_small, V_k)\n",
    "    test_embed_pca = np.dot(test_embed_small, V_k)\n",
    "\n",
    "    train_vals_pca = np.concatenate((train_vals_real_small, \n",
    "                train_vals_from_string_small, \n",
    "                train_bv_small,\n",
    "                train_cat_vals_small,\n",
    "                train_set_vals_small, \n",
    "                train_zip_small,\n",
    "                train_embed_pca,\n",
    "                np.ones(len(train_vals_real_small)).reshape([len(train_vals_real_small),1]) ), axis=1)\n",
    "    \n",
    "    test_vals_pca = np.concatenate((test_vals_real_small, \n",
    "                test_vals_from_string_small, \n",
    "                test_bv_small,\n",
    "                test_cat_vals_small,\n",
    "                test_set_vals_small, \n",
    "                test_zip_small,\n",
    "                test_embed_pca,\n",
    "                np.ones(len(test_vals_real_small)).reshape([len(test_vals_real_small),1]) ), axis=1)\n",
    "    \n",
    "    train_MSE, test_MSE, test_pred_sub = run_OLS(train_y_small, test_y_small, train_vals_pca, test_vals_pca)\n",
    "    \n",
    "    print(\"Train MSE\\t\", str(train_MSE))\n",
    "    print(\"Test MSE\\t\", str(test_MSE))\n",
    "    \n",
    "    train_MSE_pca_all.append(train_MSE)\n",
    "    test_MSE_pca_all.append(test_MSE)"
   ]
  },
  {
   "cell_type": "markdown",
   "metadata": {},
   "source": [
    "In the next cell, plot the change of train and test MSEs in the PCA case, in the same way as random sampling."
   ]
  },
  {
   "cell_type": "code",
   "execution_count": 222,
   "metadata": {},
   "outputs": [
    {
     "data": {
      "text/plain": [
       "<AxesSubplot:xlabel='Dimension'>"
      ]
     },
     "execution_count": 222,
     "metadata": {},
     "output_type": "execute_result"
    },
    {
     "data": {
      "image/png": "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\n",
      "text/plain": [
       "<Figure size 432x288 with 1 Axes>"
      ]
     },
     "metadata": {
      "needs_background": "light"
     },
     "output_type": "display_data"
    }
   ],
   "source": [
    "df = pd.DataFrame()\n",
    "df['Dimension'] = k_all\n",
    "df['Train MSE'] = train_MSE_pca_all\n",
    "df['Test MSE'] = test_MSE_pca_all\n",
    "df['Train MSE -- Entire'] = train_MSE_small\n",
    "df['Test MSE -- Entire'] = test_MSE_small\n",
    "df.set_index('Dimension', inplace = True)\n",
    "\n",
    "sns.lineplot(data = df)"
   ]
  },
  {
   "cell_type": "markdown",
   "metadata": {},
   "source": [
    "**QUESTION H3)**: \n",
    "- In the PCA plot you get above, does the model over/underfits worse when the number of sampled text embedding feature increases? \n",
    "- Compared to randomly sampling the text embedding features, how does PCA works, in terms of prediction error and generalization?"
   ]
  },
  {
   "cell_type": "markdown",
   "metadata": {},
   "source": [
    "**YOUR RESPONSE:** \n",
    "- When the number of features increases, the model overfits worse.\n",
    "- The two models have similar performace, although in theory PCA should work better since it selects the k features with the most variability while the random sampling method selects k random features."
   ]
  },
  {
   "cell_type": "code",
   "execution_count": null,
   "metadata": {},
   "outputs": [],
   "source": []
  }
 ],
 "metadata": {
  "kernelspec": {
   "display_name": "Python 3",
   "language": "python",
   "name": "python3"
  },
  "language_info": {
   "codemirror_mode": {
    "name": "ipython",
    "version": 3
   },
   "file_extension": ".py",
   "mimetype": "text/x-python",
   "name": "python",
   "nbconvert_exporter": "python",
   "pygments_lexer": "ipython3",
   "version": "3.8.8"
  }
 },
 "nbformat": 4,
 "nbformat_minor": 2
}
