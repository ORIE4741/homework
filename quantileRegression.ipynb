{
 "cells": [
  {
   "cell_type": "code",
   "execution_count": 1,
   "metadata": {
    "collapsed": false
   },
   "outputs": [
    {
     "name": "stderr",
     "output_type": "stream",
     "text": [
      "WARNING: Method definition require(Symbol) in module Base at loading.jl:345 overwritten in module Main at /Users/madeleine/.julia/v0.5/Requires/src/require.jl:12.\n",
      "WARNING: Error requiring DataFrames from ScikitLearn:\n",
      "LoadError: UndefVarError: DataArray not defined\n",
      "while loading /Users/madeleine/.julia/v0.5/ScikitLearn/src/dataframes.jl, in expression starting on line 8\n",
      "INFO: Recompiling stale cache file /Users/madeleine/.julia/lib/v0.5/LowRankModels.ji for module LowRankModels.\n"
     ]
    }
   ],
   "source": [
    "using DataFrames, PyPlot, ScikitLearn, LowRankModels"
   ]
  },
  {
   "cell_type": "code",
   "execution_count": 2,
   "metadata": {
    "collapsed": false,
    "scrolled": true
   },
   "outputs": [
    {
     "data": {
      "text/html": [
       "<table class=\"data-frame\"><tr><th></th><th>MaritalStatus</th><th>PrenatalCare</th><th>Male</th><th>Weight</th></tr><tr><th>1</th><td>0</td><td>1</td><td>0</td><td>3326</td></tr><tr><th>2</th><td>1</td><td>0</td><td>0</td><td>1340</td></tr><tr><th>3</th><td>0</td><td>0</td><td>0</td><td>3033</td></tr><tr><th>4</th><td>1</td><td>1</td><td>1</td><td>3884</td></tr><tr><th>5</th><td>0</td><td>0</td><td>0</td><td>3108</td></tr><tr><th>6</th><td>1</td><td>1</td><td>1</td><td>3912</td></tr><tr><th>7</th><td>1</td><td>1</td><td>1</td><td>2546</td></tr><tr><th>8</th><td>1</td><td>1</td><td>1</td><td>4545</td></tr><tr><th>9</th><td>0</td><td>1</td><td>0</td><td>3402</td></tr><tr><th>10</th><td>1</td><td>1</td><td>1</td><td>3884</td></tr><tr><th>11</th><td>0</td><td>1</td><td>1</td><td>3232</td></tr><tr><th>12</th><td>0</td><td>1</td><td>0</td><td>4000</td></tr><tr><th>13</th><td>0</td><td>0</td><td>1</td><td>2790</td></tr><tr><th>14</th><td>1</td><td>1</td><td>1</td><td>4139</td></tr><tr><th>15</th><td>0</td><td>0</td><td>1</td><td>3374</td></tr><tr><th>16</th><td>0</td><td>0</td><td>0</td><td>2778</td></tr><tr><th>17</th><td>1</td><td>1</td><td>1</td><td>4082</td></tr><tr><th>18</th><td>1</td><td>1</td><td>0</td><td>3751</td></tr><tr><th>19</th><td>1</td><td>0</td><td>1</td><td>3388</td></tr><tr><th>20</th><td>1</td><td>1</td><td>1</td><td>3480</td></tr><tr><th>21</th><td>1</td><td>1</td><td>1</td><td>3118</td></tr><tr><th>22</th><td>1</td><td>1</td><td>1</td><td>3130</td></tr><tr><th>23</th><td>0</td><td>0</td><td>1</td><td>3758</td></tr><tr><th>24</th><td>1</td><td>1</td><td>0</td><td>3515</td></tr><tr><th>25</th><td>1</td><td>1</td><td>1</td><td>3345</td></tr><tr><th>26</th><td>0</td><td>1</td><td>1</td><td>3544</td></tr><tr><th>27</th><td>0</td><td>0</td><td>1</td><td>3289</td></tr><tr><th>28</th><td>0</td><td>1</td><td>0</td><td>2777</td></tr><tr><th>29</th><td>1</td><td>1</td><td>0</td><td>3515</td></tr><tr><th>30</th><td>1</td><td>1</td><td>0</td><td>3612</td></tr><tr><th>&vellip;</th><td>&vellip;</td><td>&vellip;</td><td>&vellip;</td><td>&vellip;</td></tr></table>"
      ],
      "text/plain": [
       "9322×4 DataFrames.DataFrame\n",
       "│ Row  │ MaritalStatus │ PrenatalCare │ Male │ Weight │\n",
       "├──────┼───────────────┼──────────────┼──────┼────────┤\n",
       "│ 1    │ 0             │ 1            │ 0    │ 3326   │\n",
       "│ 2    │ 1             │ 0            │ 0    │ 1340   │\n",
       "│ 3    │ 0             │ 0            │ 0    │ 3033   │\n",
       "│ 4    │ 1             │ 1            │ 1    │ 3884   │\n",
       "│ 5    │ 0             │ 0            │ 0    │ 3108   │\n",
       "│ 6    │ 1             │ 1            │ 1    │ 3912   │\n",
       "│ 7    │ 1             │ 1            │ 1    │ 2546   │\n",
       "│ 8    │ 1             │ 1            │ 1    │ 4545   │\n",
       "│ 9    │ 0             │ 1            │ 0    │ 3402   │\n",
       "│ 10   │ 1             │ 1            │ 1    │ 3884   │\n",
       "│ 11   │ 0             │ 1            │ 1    │ 3232   │\n",
       "⋮\n",
       "│ 9311 │ 1             │ 1            │ 1    │ 3416   │\n",
       "│ 9312 │ 1             │ 1            │ 1    │ 3543   │\n",
       "│ 9313 │ 0             │ 1            │ 1    │ 3850   │\n",
       "│ 9314 │ 0             │ 1            │ 1    │ 3700   │\n",
       "│ 9315 │ 1             │ 1            │ 0    │ 2730   │\n",
       "│ 9316 │ 0             │ 0            │ 0    │ 3691   │\n",
       "│ 9317 │ 1             │ 1            │ 0    │ 3491   │\n",
       "│ 9318 │ 1             │ 1            │ 0    │ 3062   │\n",
       "│ 9319 │ 0             │ 1            │ 1    │ 3557   │\n",
       "│ 9320 │ 0             │ 1            │ 0    │ 2381   │\n",
       "│ 9321 │ 1             │ 1            │ 1    │ 3160   │\n",
       "│ 9322 │ 0             │ 1            │ 1    │ 3680   │"
      ]
     },
     "execution_count": 2,
     "metadata": {},
     "output_type": "execute_result"
    }
   ],
   "source": [
    "birth = readtable(\"birthSample.txt\", separator = '\\t')"
   ]
  },
  {
   "cell_type": "markdown",
   "metadata": {},
   "source": [
    "# a) Fit an ordinary least squares regression to the data. Interpret the coefficients that you find"
   ]
  },
  {
   "cell_type": "code",
   "execution_count": 9,
   "metadata": {
    "collapsed": false
   },
   "outputs": [
    {
     "data": {
      "text/plain": [
       "9322×4 Array{Float64,2}:\n",
       " 0.0  1.0  0.0  1.0\n",
       " 1.0  0.0  0.0  1.0\n",
       " 0.0  0.0  0.0  1.0\n",
       " 1.0  1.0  1.0  1.0\n",
       " 0.0  0.0  0.0  1.0\n",
       " 1.0  1.0  1.0  1.0\n",
       " 1.0  1.0  1.0  1.0\n",
       " 1.0  1.0  1.0  1.0\n",
       " 0.0  1.0  0.0  1.0\n",
       " 1.0  1.0  1.0  1.0\n",
       " 0.0  1.0  1.0  1.0\n",
       " 0.0  1.0  0.0  1.0\n",
       " 0.0  0.0  1.0  1.0\n",
       " ⋮                 \n",
       " 1.0  1.0  1.0  1.0\n",
       " 1.0  1.0  1.0  1.0\n",
       " 0.0  1.0  1.0  1.0\n",
       " 0.0  1.0  1.0  1.0\n",
       " 1.0  1.0  0.0  1.0\n",
       " 0.0  0.0  0.0  1.0\n",
       " 1.0  1.0  0.0  1.0\n",
       " 1.0  1.0  0.0  1.0\n",
       " 0.0  1.0  1.0  1.0\n",
       " 0.0  1.0  0.0  1.0\n",
       " 1.0  1.0  1.0  1.0\n",
       " 0.0  1.0  1.0  1.0"
      ]
     },
     "execution_count": 9,
     "metadata": {},
     "output_type": "execute_result"
    }
   ],
   "source": [
    "X = Array(birth[:,1:3])\n",
    "y = Array(birth[:,end])\n",
    "Xoffset = [X ones(length(y))]"
   ]
  },
  {
   "cell_type": "code",
   "execution_count": 12,
   "metadata": {
    "collapsed": false
   },
   "outputs": [
    {
     "name": "stdout",
     "output_type": "stream",
     "text": [
      "MaritalStatus: 101.36160671961902\n",
      "PrenatalCare: 73.0584570783685\n",
      "Male: 124.357238710163\n",
      "Weight: 3138.9270414155408\n"
     ]
    }
   ],
   "source": [
    "d = zip(names(birth), Xoffset \\ y)\n",
    "for (n,v) in d\n",
    "    println(\"$n: $v\")\n",
    "end"
   ]
  },
  {
   "cell_type": "markdown",
   "metadata": {},
   "source": [
    "# b) Fit a quantile regression on the data with $q=0.05$ and $q=0.95$. Compare these coefficients to those you found in part a)."
   ]
  },
  {
   "cell_type": "markdown",
   "metadata": {
    "collapsed": true
   },
   "source": [
    "# c) Fit quantile regressions for $q=0.05, 0.10, \\cdots, 0.95$."
   ]
  },
  {
   "cell_type": "markdown",
   "metadata": {
    "collapsed": true
   },
   "source": [
    "# d) Create an intercept plot that plots quantiles against the intercept coefficient from that quantile regression. Create coefficient plots for MaritalStatus, Male, and PrenatalCare coefficients.\n"
   ]
  },
  {
   "cell_type": "markdown",
   "metadata": {},
   "source": [
    "# e) How should you interpret the intercepts of the quantile regressions?"
   ]
  },
  {
   "cell_type": "markdown",
   "metadata": {},
   "source": [
    "# f) What does the coefficient plot tell you about the effect of prenatal care for infants with low birth weight compared to those with average birth weights?"
   ]
  }
 ],
 "metadata": {
  "kernelspec": {
   "display_name": "Julia 0.5.0",
   "language": "julia",
   "name": "julia-0.5"
  },
  "language_info": {
   "file_extension": ".jl",
   "mimetype": "application/julia",
   "name": "julia",
   "version": "0.5.0"
  }
 },
 "nbformat": 4,
 "nbformat_minor": 0
}
