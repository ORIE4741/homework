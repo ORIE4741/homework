{
 "cells": [
  {
   "cell_type": "code",
   "execution_count": 1,
   "metadata": {},
   "outputs": [
    {
     "name": "stderr",
     "output_type": "stream",
     "text": [
      "┌ Info: Precompiling DataFrames [a93c6f00-e57d-5684-b7b6-d8193f3e46c0]\n",
      "└ @ Base loading.jl:1278\n",
      "┌ Info: Precompiling Plots [91a5bcdd-55d7-5caf-9e0b-520d859cae80]\n",
      "└ @ Base loading.jl:1278\n",
      "┌ Info: Precompiling LowRankModels [15d4e49f-4837-5ea3-a885-5b28bfa376dc]\n",
      "└ @ Base loading.jl:1278\n",
      "┌ Info: Precompiling CSV [336ed68f-0bac-5ca0-87d4-7b16caf5d00b]\n",
      "└ @ Base loading.jl:1278\n",
      "┌ Info: Precompiling PyPlot [d330b81b-6aea-500a-939a-2ce795aea3ee]\n",
      "└ @ Base loading.jl:1278\n"
     ]
    },
    {
     "data": {
      "text/plain": [
       "proxgrad_const"
      ]
     },
     "execution_count": 1,
     "metadata": {},
     "output_type": "execute_result"
    }
   ],
   "source": [
    "# Install packages with\n",
    "# using Pkg; Pkg.add(\"NameOfPackage\")\n",
    "# Then you can use the packages by calling\n",
    "using DataFrames, Plots, LowRankModels, CSV\n",
    "pyplot()\n",
    "include(\"proxgrad.jl\")"
   ]
  },
  {
   "cell_type": "code",
   "execution_count": 2,
   "metadata": {},
   "outputs": [
    {
     "data": {
      "text/html": [
       "<table class=\"data-frame\"><thead><tr><th></th><th>MaritalStatus</th><th>PrenatalCare</th><th>Male</th><th>Weight</th></tr><tr><th></th><th>Int64</th><th>Int64</th><th>Int64</th><th>Int64</th></tr></thead><tbody><p>9,322 rows × 4 columns</p><tr><th>1</th><td>0</td><td>1</td><td>0</td><td>3326</td></tr><tr><th>2</th><td>1</td><td>0</td><td>0</td><td>1340</td></tr><tr><th>3</th><td>0</td><td>0</td><td>0</td><td>3033</td></tr><tr><th>4</th><td>1</td><td>1</td><td>1</td><td>3884</td></tr><tr><th>5</th><td>0</td><td>0</td><td>0</td><td>3108</td></tr><tr><th>6</th><td>1</td><td>1</td><td>1</td><td>3912</td></tr><tr><th>7</th><td>1</td><td>1</td><td>1</td><td>2546</td></tr><tr><th>8</th><td>1</td><td>1</td><td>1</td><td>4545</td></tr><tr><th>9</th><td>0</td><td>1</td><td>0</td><td>3402</td></tr><tr><th>10</th><td>1</td><td>1</td><td>1</td><td>3884</td></tr><tr><th>11</th><td>0</td><td>1</td><td>1</td><td>3232</td></tr><tr><th>12</th><td>0</td><td>1</td><td>0</td><td>4000</td></tr><tr><th>13</th><td>0</td><td>0</td><td>1</td><td>2790</td></tr><tr><th>14</th><td>1</td><td>1</td><td>1</td><td>4139</td></tr><tr><th>15</th><td>0</td><td>0</td><td>1</td><td>3374</td></tr><tr><th>16</th><td>0</td><td>0</td><td>0</td><td>2778</td></tr><tr><th>17</th><td>1</td><td>1</td><td>1</td><td>4082</td></tr><tr><th>18</th><td>1</td><td>1</td><td>0</td><td>3751</td></tr><tr><th>19</th><td>1</td><td>0</td><td>1</td><td>3388</td></tr><tr><th>20</th><td>1</td><td>1</td><td>1</td><td>3480</td></tr><tr><th>21</th><td>1</td><td>1</td><td>1</td><td>3118</td></tr><tr><th>22</th><td>1</td><td>1</td><td>1</td><td>3130</td></tr><tr><th>23</th><td>0</td><td>0</td><td>1</td><td>3758</td></tr><tr><th>24</th><td>1</td><td>1</td><td>0</td><td>3515</td></tr><tr><th>25</th><td>1</td><td>1</td><td>1</td><td>3345</td></tr><tr><th>26</th><td>0</td><td>1</td><td>1</td><td>3544</td></tr><tr><th>27</th><td>0</td><td>0</td><td>1</td><td>3289</td></tr><tr><th>28</th><td>0</td><td>1</td><td>0</td><td>2777</td></tr><tr><th>29</th><td>1</td><td>1</td><td>0</td><td>3515</td></tr><tr><th>30</th><td>1</td><td>1</td><td>0</td><td>3612</td></tr><tr><th>&vellip;</th><td>&vellip;</td><td>&vellip;</td><td>&vellip;</td><td>&vellip;</td></tr></tbody></table>"
      ],
      "text/latex": [
       "\\begin{tabular}{r|cccc}\n",
       "\t& MaritalStatus & PrenatalCare & Male & Weight\\\\\n",
       "\t\\hline\n",
       "\t& Int64 & Int64 & Int64 & Int64\\\\\n",
       "\t\\hline\n",
       "\t1 & 0 & 1 & 0 & 3326 \\\\\n",
       "\t2 & 1 & 0 & 0 & 1340 \\\\\n",
       "\t3 & 0 & 0 & 0 & 3033 \\\\\n",
       "\t4 & 1 & 1 & 1 & 3884 \\\\\n",
       "\t5 & 0 & 0 & 0 & 3108 \\\\\n",
       "\t6 & 1 & 1 & 1 & 3912 \\\\\n",
       "\t7 & 1 & 1 & 1 & 2546 \\\\\n",
       "\t8 & 1 & 1 & 1 & 4545 \\\\\n",
       "\t9 & 0 & 1 & 0 & 3402 \\\\\n",
       "\t10 & 1 & 1 & 1 & 3884 \\\\\n",
       "\t11 & 0 & 1 & 1 & 3232 \\\\\n",
       "\t12 & 0 & 1 & 0 & 4000 \\\\\n",
       "\t13 & 0 & 0 & 1 & 2790 \\\\\n",
       "\t14 & 1 & 1 & 1 & 4139 \\\\\n",
       "\t15 & 0 & 0 & 1 & 3374 \\\\\n",
       "\t16 & 0 & 0 & 0 & 2778 \\\\\n",
       "\t17 & 1 & 1 & 1 & 4082 \\\\\n",
       "\t18 & 1 & 1 & 0 & 3751 \\\\\n",
       "\t19 & 1 & 0 & 1 & 3388 \\\\\n",
       "\t20 & 1 & 1 & 1 & 3480 \\\\\n",
       "\t21 & 1 & 1 & 1 & 3118 \\\\\n",
       "\t22 & 1 & 1 & 1 & 3130 \\\\\n",
       "\t23 & 0 & 0 & 1 & 3758 \\\\\n",
       "\t24 & 1 & 1 & 0 & 3515 \\\\\n",
       "\t25 & 1 & 1 & 1 & 3345 \\\\\n",
       "\t26 & 0 & 1 & 1 & 3544 \\\\\n",
       "\t27 & 0 & 0 & 1 & 3289 \\\\\n",
       "\t28 & 0 & 1 & 0 & 2777 \\\\\n",
       "\t29 & 1 & 1 & 0 & 3515 \\\\\n",
       "\t30 & 1 & 1 & 0 & 3612 \\\\\n",
       "\t$\\dots$ & $\\dots$ & $\\dots$ & $\\dots$ & $\\dots$ \\\\\n",
       "\\end{tabular}\n"
      ],
      "text/plain": [
       "9322×4 DataFrame\n",
       "│ Row  │ MaritalStatus │ PrenatalCare │ Male  │ Weight │\n",
       "│      │ \u001b[90mInt64\u001b[39m         │ \u001b[90mInt64\u001b[39m        │ \u001b[90mInt64\u001b[39m │ \u001b[90mInt64\u001b[39m  │\n",
       "├──────┼───────────────┼──────────────┼───────┼────────┤\n",
       "│ 1    │ 0             │ 1            │ 0     │ 3326   │\n",
       "│ 2    │ 1             │ 0            │ 0     │ 1340   │\n",
       "│ 3    │ 0             │ 0            │ 0     │ 3033   │\n",
       "│ 4    │ 1             │ 1            │ 1     │ 3884   │\n",
       "│ 5    │ 0             │ 0            │ 0     │ 3108   │\n",
       "│ 6    │ 1             │ 1            │ 1     │ 3912   │\n",
       "│ 7    │ 1             │ 1            │ 1     │ 2546   │\n",
       "│ 8    │ 1             │ 1            │ 1     │ 4545   │\n",
       "│ 9    │ 0             │ 1            │ 0     │ 3402   │\n",
       "│ 10   │ 1             │ 1            │ 1     │ 3884   │\n",
       "⋮\n",
       "│ 9312 │ 1             │ 1            │ 1     │ 3543   │\n",
       "│ 9313 │ 0             │ 1            │ 1     │ 3850   │\n",
       "│ 9314 │ 0             │ 1            │ 1     │ 3700   │\n",
       "│ 9315 │ 1             │ 1            │ 0     │ 2730   │\n",
       "│ 9316 │ 0             │ 0            │ 0     │ 3691   │\n",
       "│ 9317 │ 1             │ 1            │ 0     │ 3491   │\n",
       "│ 9318 │ 1             │ 1            │ 0     │ 3062   │\n",
       "│ 9319 │ 0             │ 1            │ 1     │ 3557   │\n",
       "│ 9320 │ 0             │ 1            │ 0     │ 2381   │\n",
       "│ 9321 │ 1             │ 1            │ 1     │ 3160   │\n",
       "│ 9322 │ 0             │ 1            │ 1     │ 3680   │"
      ]
     },
     "execution_count": 2,
     "metadata": {},
     "output_type": "execute_result"
    }
   ],
   "source": [
    "birth = CSV.read(\"birthSample.txt\")"
   ]
  },
  {
   "cell_type": "markdown",
   "metadata": {},
   "source": [
    "# a) Fit an least squares regression \n",
    "Use least squares to predict birth weight using baby's gender, mother’s marital status, and prenatal care in the first trimester as features. \n",
    "(Include an offset.) We've provided some code to get you started. Interpret the coefficients that you find. What do they mean about the relationship between each variable and birth weight?"
   ]
  },
  {
   "cell_type": "code",
   "execution_count": 3,
   "metadata": {},
   "outputs": [
    {
     "data": {
      "text/plain": [
       "9322×4 Array{Float64,2}:\n",
       " 0.0  1.0  0.0  1.0\n",
       " 1.0  0.0  0.0  1.0\n",
       " 0.0  0.0  0.0  1.0\n",
       " 1.0  1.0  1.0  1.0\n",
       " 0.0  0.0  0.0  1.0\n",
       " 1.0  1.0  1.0  1.0\n",
       " 1.0  1.0  1.0  1.0\n",
       " 1.0  1.0  1.0  1.0\n",
       " 0.0  1.0  0.0  1.0\n",
       " 1.0  1.0  1.0  1.0\n",
       " 0.0  1.0  1.0  1.0\n",
       " 0.0  1.0  0.0  1.0\n",
       " 0.0  0.0  1.0  1.0\n",
       " ⋮              \n",
       " 1.0  1.0  1.0  1.0\n",
       " 1.0  1.0  1.0  1.0\n",
       " 0.0  1.0  1.0  1.0\n",
       " 0.0  1.0  1.0  1.0\n",
       " 1.0  1.0  0.0  1.0\n",
       " 0.0  0.0  0.0  1.0\n",
       " 1.0  1.0  0.0  1.0\n",
       " 1.0  1.0  0.0  1.0\n",
       " 0.0  1.0  1.0  1.0\n",
       " 0.0  1.0  0.0  1.0\n",
       " 1.0  1.0  1.0  1.0\n",
       " 0.0  1.0  1.0  1.0"
      ]
     },
     "execution_count": 3,
     "metadata": {},
     "output_type": "execute_result"
    }
   ],
   "source": [
    "X = convert(Matrix, birth[:,1:3])\n",
    "y = birth[:,end]\n",
    "Xoffset = [X ones(length(y))]"
   ]
  },
  {
   "cell_type": "code",
   "execution_count": 4,
   "metadata": {},
   "outputs": [
    {
     "name": "stdout",
     "output_type": "stream",
     "text": [
      "MaritalStatus: 101.36160671961903\n",
      "PrenatalCare: 73.05845707836852\n",
      "Male: 124.357238710163\n",
      "intercept: 3138.9270414155408\n"
     ]
    }
   ],
   "source": [
    "d = zip(push!(names(birth)[1:3], \"intercept\"), Xoffset \\ y)\n",
    "for (n,v) in d\n",
    "    println(\"$n: $v\")\n",
    "end"
   ]
  },
  {
   "cell_type": "markdown",
   "metadata": {},
   "source": [
    "# b) Fit a quantile regression on the data with $q=0.05$ and $q=0.95$. Compare these coefficients to those you found in part a)."
   ]
  },
  {
   "cell_type": "code",
   "execution_count": null,
   "metadata": {},
   "outputs": [],
   "source": []
  },
  {
   "cell_type": "markdown",
   "metadata": {
    "collapsed": true
   },
   "source": [
    "# c) Fit quantile regressions for $q=0.05, 0.10, \\cdots, 0.95$."
   ]
  },
  {
   "cell_type": "code",
   "execution_count": null,
   "metadata": {},
   "outputs": [],
   "source": []
  },
  {
   "cell_type": "markdown",
   "metadata": {
    "collapsed": true
   },
   "source": [
    "# d) Create an intercept plot that plots quantiles against the intercept coefficient from that quantile regression. Create coefficient plots for MaritalStatus, Male, and PrenatalCare coefficients.\n"
   ]
  },
  {
   "cell_type": "code",
   "execution_count": null,
   "metadata": {},
   "outputs": [],
   "source": []
  },
  {
   "cell_type": "markdown",
   "metadata": {},
   "source": [
    "# e) How should you interpret the intercepts of the quantile regressions?"
   ]
  },
  {
   "cell_type": "code",
   "execution_count": null,
   "metadata": {},
   "outputs": [],
   "source": []
  },
  {
   "cell_type": "markdown",
   "metadata": {},
   "source": [
    "# f) What does the coefficient plot tell you about the effect of prenatal care for infants with low birth weight compared to those with average birth weights?"
   ]
  },
  {
   "cell_type": "code",
   "execution_count": null,
   "metadata": {},
   "outputs": [],
   "source": []
  }
 ],
 "metadata": {
  "@webio": {
   "lastCommId": null,
   "lastKernelId": null
  },
  "kernelspec": {
   "display_name": "Julia 1.5.1",
   "language": "julia",
   "name": "julia-1.5"
  },
  "language_info": {
   "file_extension": ".jl",
   "mimetype": "application/julia",
   "name": "julia",
   "version": "1.5.1"
  }
 },
 "nbformat": 4,
 "nbformat_minor": 1
}
