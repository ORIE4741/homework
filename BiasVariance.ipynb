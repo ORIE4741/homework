{
 "cells": [
  {
   "cell_type": "markdown",
   "metadata": {},
   "source": [
    "## 4. Plotting bias and variance\n",
    "\n",
    "In this problem, we'll investigate the bias and the variance of two different estimators. We'll see (once again) that fitting the data more precisely is not always a good idea."
   ]
  },
  {
   "cell_type": "code",
   "execution_count": 1,
   "metadata": {},
   "outputs": [],
   "source": [
    "import pandas as pd\n",
    "import numpy as np\n",
    "import matplotlib.pyplot as plt\n",
    "np.random.seed(4741)"
   ]
  },
  {
   "cell_type": "markdown",
   "metadata": {},
   "source": [
    "### a)\n",
    "\n",
    "Suppose we have a sinusoid function $f(x)=10\\sin(x)$. Our dataset $\\mathcal D$ will consist of $n=7$ data points drawn from the following probabilistic model. For each data point $x_i$ we randomly draw uniformly in $[0,6]$ and observe a noisy $y_i=f(x_i)+\\epsilon_i$, where $\\epsilon_i$ is some noise drawn from a standard normal distribution $\\mathcal N(0,1)$.\n",
    "\n",
    "Generate a sample dataset from this distribution. Plot this dataset $\\mathcal D$ and the true function $f(x)$."
   ]
  },
  {
   "cell_type": "code",
   "execution_count": null,
   "metadata": {},
   "outputs": [],
   "source": []
  },
  {
   "cell_type": "markdown",
   "metadata": {},
   "source": [
    "### b)\n",
    "\n",
    "Fit a linear model $l(x)=w_0+w_1x$ to $\\mathcal D$.\n",
    "Plot this linear model $l(x)$ together with $\\mathcal D$ and $f(x)$."
   ]
  },
  {
   "cell_type": "code",
   "execution_count": null,
   "metadata": {},
   "outputs": [],
   "source": []
  },
  {
   "cell_type": "markdown",
   "metadata": {},
   "source": [
    "### c)\n",
    "\n",
    "Fit a cubic model $c(x)=w_0+w_1x+w_2x^2+w_3x^3$ to $\\mathcal D$.\n",
    "Plot this cubic model $c(x)$ together with $\\mathcal D$ and $f(x)$."
   ]
  },
  {
   "cell_type": "code",
   "execution_count": null,
   "metadata": {},
   "outputs": [],
   "source": []
  },
  {
   "cell_type": "markdown",
   "metadata": {},
   "source": [
    "### d)\n",
    "\n",
    "Repeat parts b) and c) for 1000 different randomly drawn sets $\\mathcal D$.\n",
    "\n",
    "Average the 1000 linear models you generated to get the average linear model $\\bar{l}(x)$. Plot $\\bar{l}(x)$ with $f(x)$.\n",
    "\n",
    "Generate the average cubic model $\\bar{c}(x)$ in the same way, and plot it together with $f(x)$."
   ]
  },
  {
   "cell_type": "code",
   "execution_count": null,
   "metadata": {},
   "outputs": [],
   "source": []
  },
  {
   "cell_type": "markdown",
   "metadata": {},
   "source": [
    "### e)\n",
    "\n",
    "Describe the squared bias graphically with respect to the two plots in part d). Compute the squared bias of $\\bar{l}(x)$ and $\\bar{c}(x)$. Which model has smaller squared bias?"
   ]
  },
  {
   "cell_type": "code",
   "execution_count": 2,
   "metadata": {},
   "outputs": [],
   "source": [
    "import scipy.integrate as integrate\n"
   ]
  },
  {
   "cell_type": "markdown",
   "metadata": {},
   "source": [
    "### f)\n",
    "\n",
    "Compute the variance of $\\bar{l}(x)$ and $\\bar{c}(x)$. Which model has smaller variance? How do you interpret this? Which model has smaller overall error?"
   ]
  },
  {
   "cell_type": "code",
   "execution_count": null,
   "metadata": {},
   "outputs": [],
   "source": []
  },
  {
   "cell_type": "markdown",
   "metadata": {},
   "source": [
    "### g)\n",
    "\n",
    "How do you think your results would depend on the number of points in the data set $\\mathcal D$? Feel free to perform an experiment to check. How many points would you need before the opposite model (from your answer in the previous question) has smaller overall error?"
   ]
  },
  {
   "cell_type": "code",
   "execution_count": null,
   "metadata": {},
   "outputs": [],
   "source": []
  }
 ],
 "metadata": {
  "kernelspec": {
   "display_name": "Python 3",
   "language": "python",
   "name": "python3"
  },
  "language_info": {
   "codemirror_mode": {
    "name": "ipython",
    "version": 3
   },
   "file_extension": ".py",
   "mimetype": "text/x-python",
   "name": "python",
   "nbconvert_exporter": "python",
   "pygments_lexer": "ipython3",
   "version": "3.8.3"
  }
 },
 "nbformat": 4,
 "nbformat_minor": 4
}
