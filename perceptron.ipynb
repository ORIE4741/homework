{
 "cells": [
  {
   "cell_type": "markdown",
   "metadata": {
    "id": "9-rUkkInxNBQ"
   },
   "source": [
    "# HW 1: Perceptron"
   ]
  },
  {
   "cell_type": "markdown",
   "metadata": {
    "id": "MQn2Mv4-xNBT"
   },
   "source": [
    "Note: you can add text written in Markdown to this notebook to explain your work and your conclusions. In local Jupyter, add a new cell by using the \"+\" button on the toolbar), and set it to be a markdown cell (by toggling the \"Code\" dropdown on the toolbar to say \"Markdown\" instead). In Colab, use the +Text button on the toolbar.\n",
    "\n",
    "For examples of how to use Markdown, look at the examples in this notebook, or [this cheatsheet](https://github.com/adam-p/markdown-here/wiki/Markdown-Cheatsheet)."
   ]
  },
  {
   "cell_type": "code",
   "execution_count": 1,
   "metadata": {
    "executionInfo": {
     "elapsed": 349,
     "status": "ok",
     "timestamp": 1630458076032,
     "user": {
      "displayName": "Madeleine Udell",
      "photoUrl": "",
      "userId": "02596981583694187873"
     },
     "user_tz": 240
    },
    "id": "xxYSszGAxNBU"
   },
   "outputs": [],
   "source": [
    "import random\n",
    "import numpy as np\n",
    "from numpy.random import randn\n",
    "import pandas as pd\n",
    "import matplotlib.pyplot as plt \n",
    "%matplotlib inline"
   ]
  },
  {
   "cell_type": "code",
   "execution_count": 2,
   "metadata": {
    "executionInfo": {
     "elapsed": 6,
     "status": "ok",
     "timestamp": 1630458076033,
     "user": {
      "displayName": "Madeleine Udell",
      "photoUrl": "",
      "userId": "02596981583694187873"
     },
     "user_tz": 240
    },
    "id": "QAX0uEcSxNBW"
   },
   "outputs": [],
   "source": [
    "random.seed(3)"
   ]
  },
  {
   "cell_type": "markdown",
   "metadata": {
    "id": "t1tIEEQ8xNBX"
   },
   "source": [
    "## Generate Data"
   ]
  },
  {
   "cell_type": "code",
   "execution_count": 3,
   "metadata": {
    "executionInfo": {
     "elapsed": 298,
     "status": "ok",
     "timestamp": 1630459643652,
     "user": {
      "displayName": "Madeleine Udell",
      "photoUrl": "",
      "userId": "02596981583694187873"
     },
     "user_tz": 240
    },
    "id": "TEDHQpJ2xNBX"
   },
   "outputs": [],
   "source": [
    "n = 50\n",
    "d = 2\n",
    "feature_dict = {'feature 1': randn(n),\n",
    "                'feature 2': randn(n),\n",
    "                'offset':    np.ones(n)}\n",
    "X = pd.DataFrame(data=feature_dict)\n",
    "w_true = pd.Series(randn(d+1), index=X.columns)\n",
    "y = np.sign(X.dot(w_true))"
   ]
  },
  {
   "cell_type": "markdown",
   "metadata": {
    "id": "2jpbz1hTxNBY"
   },
   "source": [
    "## Visualize Data"
   ]
  },
  {
   "cell_type": "code",
   "execution_count": 4,
   "metadata": {
    "executionInfo": {
     "elapsed": 283,
     "status": "ok",
     "timestamp": 1630458356077,
     "user": {
      "displayName": "Madeleine Udell",
      "photoUrl": "",
      "userId": "02596981583694187873"
     },
     "user_tz": 240
    },
    "id": "qgGzcm9ExNBY"
   },
   "outputs": [],
   "source": [
    "def plot_perceptron(X,y,w,plot_classification_boundary=True):\n",
    "    for index, row in X.iterrows():\n",
    "        if y[index] > 0:\n",
    "            plt.scatter(row[0],row[1],color='blue',marker='s',label=\"y=1\")\n",
    "        else: \n",
    "            plt.scatter(row[0],row[1],color='red',marker='o',label=\"y=-1\")\n",
    "\n",
    "    plt.xlim(-2,2)\n",
    "    plt.ylim(-2,2)\n",
    "\n",
    "    if plot_classification_boundary:\n",
    "        x1samples = np.arange(np.min(X['feature 1']),np.max(X['feature 1']),0.1)\n",
    "        plt.plot(x1samples, [-(w[0]*x1 + w[2])/w[1] for x1 in x1samples],color='black',label='classification boundary')\n",
    "    plt.show()"
   ]
  },
  {
   "cell_type": "code",
   "execution_count": 5,
   "metadata": {
    "colab": {
     "base_uri": "https://localhost:8080/",
     "height": 269
    },
    "executionInfo": {
     "elapsed": 609,
     "status": "ok",
     "timestamp": 1630458358171,
     "user": {
      "displayName": "Madeleine Udell",
      "photoUrl": "",
      "userId": "02596981583694187873"
     },
     "user_tz": 240
    },
    "id": "jRQK2p9fxNBa",
    "outputId": "eb17f22c-688f-40bf-c1c2-62512d0cd16c"
   },
   "outputs": [
    {
     "data": {
      "image/png": "[encoded data removed]",
      "text/plain": [
       "<Figure size 432x288 with 1 Axes>"
      ]
     },
     "metadata": {},
     "output_type": "display_data"
    }
   ],
   "source": [
    "plot_perceptron(X,y,w_true)"
   ]
  },
  {
   "cell_type": "markdown",
   "metadata": {
    "id": "TCMhZO10xNBc"
   },
   "source": [
    "## a) Code the missing parts of the Perceptron algorithm"
   ]
  },
  {
   "cell_type": "markdown",
   "metadata": {
    "id": "Nzv-kcw6xNBd"
   },
   "source": [
    "Inputs to Perceptron are:\n",
    "\n",
    "required arguments: <br>\n",
    "X = data points <br>\n",
    "Y = true values <br>\n",
    "\n",
    "optional arguments: <br>\n",
    "maxiters = maximum number of data points to look out, which may or may not violate the perceptron condition (default: 1000) <br>\n",
    "maxsteps = maximum number of updates to w (default: 100) <br>\n",
    "w_0 = initial guess of w (default: random) <br>\n",
    "\n",
    "Perceptron should start with the input guess of w, look at most maxiters data points and make at most maxsteps updates, and return the final w."
   ]
  },
  {
   "cell_type": "code",
   "execution_count": 6,
   "metadata": {
    "executionInfo": {
     "elapsed": 266,
     "status": "ok",
     "timestamp": 1630458397609,
     "user": {
      "displayName": "Madeleine Udell",
      "photoUrl": "",
      "userId": "02596981583694187873"
     },
     "user_tz": 240
    },
    "id": "iTu_NIVtxNBe"
   },
   "outputs": [],
   "source": [
    "# Python does not allow the argument of a function to depend on another argument, \n",
    "# so we bypass the issue by setting w_0 = None and assigning it immediately in the function\n",
    "def perceptron(X=X,y=y,w_0=None,maxiters=1000,maxsteps=100): \n",
    "    if w_0 is None:\n",
    "        w_0=randn(X.shape[1])\n",
    "    \n",
    "    ### ENTER YOUR CODE HERE\n",
    "    \n",
    "    return w"
   ]
  },
  {
   "cell_type": "markdown",
   "metadata": {
    "id": "vqa5BtQrxNBe"
   },
   "source": [
    "## b) Run perceptron on the above linearly separable data set"
   ]
  },
  {
   "cell_type": "code",
   "execution_count": null,
   "metadata": {},
   "outputs": [],
   "source": []
  },
  {
   "cell_type": "markdown",
   "metadata": {
    "id": "8T_LtUyQxNBf"
   },
   "source": [
    "## c) Run perceptron on data sets of size n = 20, 100, and 1000"
   ]
  },
  {
   "cell_type": "code",
   "execution_count": null,
   "metadata": {},
   "outputs": [],
   "source": []
  },
  {
   "cell_type": "markdown",
   "metadata": {
    "id": "OXtQjVtixNBg"
   },
   "source": [
    "## d) Run perceptron on data set of size n=1000 with dimension d=10"
   ]
  },
  {
   "cell_type": "code",
   "execution_count": null,
   "metadata": {},
   "outputs": [],
   "source": []
  },
  {
   "cell_type": "markdown",
   "metadata": {
    "id": "9uhhQg9dxNBi"
   },
   "source": [
    "## e) Run perceptron on dataset from (d) 100 times"
   ]
  },
  {
   "cell_type": "markdown",
   "metadata": {
    "id": "JZK51plcxNBi"
   },
   "source": [
    "Plot a histogram for the number of updates that the algorithm takes to converge.\n",
    "\n",
    "For this portion, make sure your perceptron implementation picks the next consideration point randomly instead of deterministically."
   ]
  },
  {
   "cell_type": "code",
   "execution_count": 7,
   "metadata": {
    "executionInfo": {
     "elapsed": 405,
     "status": "ok",
     "timestamp": 1630458609817,
     "user": {
      "displayName": "Madeleine Udell",
      "photoUrl": "",
      "userId": "02596981583694187873"
     },
     "user_tz": 240
    },
    "id": "DgvvO0hwxNBi"
   },
   "outputs": [],
   "source": [
    "# Create a helper function that computes the euclidean distance between normalized versions of vectors x,y\n",
    "def distance(x,y):\n",
    "    \n",
    "    ### ENTER YOUR CODE HERE\n",
    "    \n",
    "    return "
   ]
  },
  {
   "cell_type": "code",
   "execution_count": 10,
   "metadata": {
    "executionInfo": {
     "elapsed": 3,
     "status": "ok",
     "timestamp": 1630458610321,
     "user": {
      "displayName": "Madeleine Udell",
      "photoUrl": "",
      "userId": "02596981583694187873"
     },
     "user_tz": 240
    },
    "id": "RDpG1PX8xNBj"
   },
   "outputs": [],
   "source": [
    "def perceptron_e(X=X,y=y,w_0=None,epsilon=0.1,w_true=w_true):\n",
    "    if w_0 is None:\n",
    "        w_0 = randn(X.shape[1])\n",
    "    \n",
    "    ### ENTER YOUR CODE HERE\n",
    "    \n",
    "    return w, steps"
   ]
  },
  {
   "cell_type": "markdown",
   "metadata": {},
   "source": [
    "## f)  Summarize your conclusions with respect to accuracy and running time as a function of n (size of data set) and d (dimension). \n",
    "\n",
    "For this part, assume the data is not linearly separable and given a 1-2 sentence qualitative response for all 4 cases (accuracy/running time vs $n$/$d$). "
   ]
  },
  {
   "cell_type": "markdown",
   "metadata": {},
   "source": [
    "**RESPONSE: **"
   ]
  },
  {
   "cell_type": "markdown",
   "metadata": {
    "id": "wk9hXF66xNBj"
   },
   "source": [
    "## g) Run the perceptron from part (a) on the dataset with an outlier given below. What happens?"
   ]
  },
  {
   "cell_type": "code",
   "execution_count": 11,
   "metadata": {
    "executionInfo": {
     "elapsed": 11,
     "status": "ok",
     "timestamp": 1630458714490,
     "user": {
      "displayName": "Madeleine Udell",
      "photoUrl": "",
      "userId": "02596981583694187873"
     },
     "user_tz": 240
    },
    "id": "2pDQIFdtxNBk"
   },
   "outputs": [],
   "source": [
    "# (re)generate data with same random seed, adding one outlier\n",
    "random.seed(3)\n",
    "\n",
    "n = 50\n",
    "d = 2\n",
    "feature_dict = {'feature 1': randn(n),\n",
    "                'feature 2': randn(n),\n",
    "                'offset':    np.ones(n)}\n",
    "X = pd.DataFrame(data=feature_dict)\n",
    "w_true = pd.Series(randn(d+1), index=X.columns)\n",
    "y = np.sign(X.dot(w_true))\n",
    "\n",
    "y[0] = -y[0]"
   ]
  },
  {
   "cell_type": "markdown",
   "metadata": {},
   "source": [
    "**ANSWER:**"
   ]
  },
  {
   "cell_type": "markdown",
   "metadata": {
    "id": "uElBNDnOxNBl"
   },
   "source": [
    "## h) Try out one idea to fix perceptron"
   ]
  },
  {
   "cell_type": "code",
   "execution_count": null,
   "metadata": {},
   "outputs": [],
   "source": []
  }
 ],
 "metadata": {
  "colab": {
   "collapsed_sections": [],
   "name": "HW1_FA21_INSTRUCTOR.ipynb",
   "provenance": []
  },
  "kernelspec": {
   "display_name": "Python 3",
   "language": "python",
   "name": "python3"
  },
  "language_info": {
   "codemirror_mode": {
    "name": "ipython",
    "version": 3
   },
   "file_extension": ".py",
   "mimetype": "text/x-python",
   "name": "python",
   "nbconvert_exporter": "python",
   "pygments_lexer": "ipython3",
   "version": "3.8.3"
  }
 },
 "nbformat": 4,
 "nbformat_minor": 4
}
